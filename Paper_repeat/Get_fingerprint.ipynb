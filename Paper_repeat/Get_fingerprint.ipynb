{
 "cells": [
  {
   "cell_type": "code",
   "execution_count": 1,
   "metadata": {},
   "outputs": [
    {
     "name": "stdout",
     "output_type": "stream",
     "text": [
      "Intel MKL WARNING: Support of Intel(R) Streaming SIMD Extensions 4.2 (Intel(R) SSE4.2) enabled only processors has been deprecated. Intel oneAPI Math Kernel Library 2025.0 will require Intel(R) Advanced Vector Extensions (Intel(R) AVX) instructions.\n",
      "Intel MKL WARNING: Support of Intel(R) Streaming SIMD Extensions 4.2 (Intel(R) SSE4.2) enabled only processors has been deprecated. Intel oneAPI Math Kernel Library 2025.0 will require Intel(R) Advanced Vector Extensions (Intel(R) AVX) instructions.\n"
     ]
    }
   ],
   "source": [
    "import pandas as pd"
   ]
  },
  {
   "cell_type": "markdown",
   "metadata": {},
   "source": [
    "# Generate fingerprints"
   ]
  },
  {
   "cell_type": "markdown",
   "metadata": {},
   "source": [
    "## Get fingerprints"
   ]
  },
  {
   "cell_type": "markdown",
   "metadata": {},
   "source": [
    "input: SMILES\n",
    "\n",
    "output: different fingerprints arrays\n",
    "\n",
    "modification: the types of fingerprints"
   ]
  },
  {
   "cell_type": "code",
   "execution_count": 2,
   "metadata": {},
   "outputs": [],
   "source": [
    "from rdkit import Chem\n",
    "from rdkit.Chem import AllChem, rdFingerprintGenerator, MACCSkeys\n",
    "import numpy as np\n",
    "\n",
    "# Function to get fingerprints for different fingerprints\n",
    "def get_all_fingerprints(smiles):\n",
    "    mol = Chem.MolFromSmiles(smiles)\n",
    "    \n",
    "    # Generate fingerprints and convert directly to NumPy arrays\n",
    "    fingerprints = {\n",
    "        'Morgan (ECFP)': np.array(AllChem.GetMorganFingerprintAsBitVect(mol, radius=2, nBits=2048), dtype=int),  # Morgan fingerprint (ECFP)\n",
    "        'FCFP': np.array(AllChem.GetMorganFingerprintAsBitVect(mol, radius=2, nBits=2048, useFeatures=True), dtype=int),  # FCFP\n",
    "        'RDKit': np.array(rdFingerprintGenerator.GetRDKitFPGenerator(fpSize=2048).GetFingerprint(mol), dtype=int),  # RDKit\n",
    "        'Atom Pair': np.array(rdFingerprintGenerator.GetAtomPairGenerator(fpSize=2048).GetFingerprint(mol), dtype=int),  # Atom Pair\n",
    "        'Topological Torsion': np.array(rdFingerprintGenerator.GetTopologicalTorsionGenerator(fpSize=2048).GetFingerprint(mol), dtype=int),  # Topological Torsion\n",
    "        'MACCS': np.array(MACCSkeys.GenMACCSKeys(mol), dtype=int),  # MACCS is 167 bits long\n",
    "        'ALL': np.hstack([\n",
    "            np.array(AllChem.GetMorganFingerprintAsBitVect(mol, radius=2, nBits=2048), dtype=int),\n",
    "            np.array(AllChem.GetMorganFingerprintAsBitVect(mol, radius=2, nBits=2048, useFeatures=True), dtype=int),\n",
    "            np.array(rdFingerprintGenerator.GetRDKitFPGenerator(fpSize=2048).GetFingerprint(mol), dtype=int),\n",
    "            np.array(rdFingerprintGenerator.GetAtomPairGenerator(fpSize=2048).GetFingerprint(mol), dtype=int),\n",
    "            np.array(rdFingerprintGenerator.GetTopologicalTorsionGenerator(fpSize=2048).GetFingerprint(mol), dtype=int),\n",
    "            np.array(MACCSkeys.GenMACCSKeys(mol), dtype=int)\n",
    "        ])\n",
    "    }\n",
    "    \n",
    "    return fingerprints\n"
   ]
  },
  {
   "cell_type": "markdown",
   "metadata": {},
   "source": [
    "## Generate fingerprint Matrix"
   ]
  },
  {
   "cell_type": "markdown",
   "metadata": {},
   "source": [
    "input: input file containing molecular Names, SMILES, Categories\n",
    "\n",
    "output: dataframe with specific type of fingerprints, molecular Names, Categories\n",
    "\n",
    "function: get specific fingerprints using get_all_fingerprints(smiles) and make it able to perform PCA, like adding the name and categories for plotting\n",
    "\n",
    "modification: Add 'Category' and 'Name' columns can change to add other columns\n"
   ]
  },
  {
   "cell_type": "code",
   "execution_count": 6,
   "metadata": {},
   "outputs": [],
   "source": [
    "import pandas as pd\n",
    "\n",
    "# Example function to extract one specific fingerprint (e.g., Morgan (ECFP)) from all SMILES in a DataFrame\n",
    "def extract_specific_fingerprint(chembl_df, fingerprint_func, target_fingerprint, smiles_column='SMILES'):\n",
    "    \"\"\"\n",
    "    Extract a specific fingerprint from the SMILES column in a DataFrame.\n",
    "\n",
    "    Parameters:\n",
    "    - chembl_df: DataFrame containing the 'SMILES', 'Name', and 'Category' columns.\n",
    "    - fingerprint_func: Function that takes a SMILES string and returns a dictionary of fingerprints.\n",
    "    - target_fingerprint: The name of the fingerprint to extract (e.g., 'Morgan (ECFP)').\n",
    "    - smiles_column: The column name for SMILES strings in the DataFrame.\n",
    "\n",
    "    Returns:\n",
    "    - fingerprint_df: DataFrame containing the specified fingerprint along with 'Name' and 'Category'.\n",
    "    \"\"\"\n",
    "    # Extract the SMILES column\n",
    "    smiles_list = chembl_df[smiles_column].tolist()\n",
    "    fingerprints = [fingerprint_func(smiles)[target_fingerprint] for smiles in smiles_list]\n",
    "    \n",
    "    fingerprint_df = pd.DataFrame(fingerprints)\n",
    "    \n",
    "\n",
    "    # Collect the specific fingerprint for all molecules\n",
    "    # fingerprint_df['Category'] = chembl_df['Category'].values\n",
    "    fingerprint_df['ID'] = chembl_df['ID'].values\n",
    "    \n",
    "    # Move the 'Name' column to the first position\n",
    "    fingerprint_df = fingerprint_df[['ID'] + [col for col in fingerprint_df.columns if col != 'ID']]\n",
    "\n",
    "    \n",
    "\n",
    "    # Display the first few rows of the fingerprint DataFrame\n",
    "    print(f\"\\n{target_fingerprint} Fingerprint DataFrame:\")\n",
    "    print(fingerprint_df.head())\n",
    "    return fingerprint_df\n"
   ]
  },
  {
   "cell_type": "markdown",
   "metadata": {},
   "source": [
    "# Run"
   ]
  },
  {
   "cell_type": "markdown",
   "metadata": {},
   "source": [
    "## Example"
   ]
  },
  {
   "cell_type": "code",
   "execution_count": 4,
   "metadata": {},
   "outputs": [
    {
     "name": "stdout",
     "output_type": "stream",
     "text": [
      "   Class  Known         ID                                             SMILES\n",
      "0      1  known       5-HT                         CN(C)CCc1c[nH]c2ccc(O)cc12\n",
      "1      1  known        DMT                            CN(C)CCc1c[nH]c2ccccc12\n",
      "2      1  known  25CN-NBOH                   COc1cc(CCNCc2ccccc2O)c(OC)cc1C#N\n",
      "3      1  known        LSD  CCN(CC)C(=O)[C@@H]1C=C2c3cccc4[nH]cc(c34)C[C@H...\n",
      "4      1  known  N-Me-5-HT                            CNCCc1c[nH]c2ccc(O)cc12\n"
     ]
    }
   ],
   "source": [
    "chembl_example = pd.read_csv(\n",
    "    \"https://raw.githubusercontent.com/HauserGroup/PsyModTraining/refs/heads/main/data/PsychLight/PsychLight_TrainingSet.csv\"\n",
    "    # sep=\",\", header=0\n",
    ")\n",
    "print(chembl_example.head())"
   ]
  },
  {
   "cell_type": "markdown",
   "metadata": {},
   "source": [
    "### For all"
   ]
  },
  {
   "cell_type": "code",
   "execution_count": 7,
   "metadata": {},
   "outputs": [
    {
     "name": "stdout",
     "output_type": "stream",
     "text": [
      "\n",
      "MACCS Fingerprint DataFrame:\n",
      "          ID  0  1  2  3  4  5  6  7  8  ...  157  158  159  160  161  162  \\\n",
      "0       5-HT  0  0  0  0  0  0  0  0  0  ...    1    1    0    1    1    1   \n",
      "1        DMT  0  0  0  0  0  0  0  0  0  ...    0    1    0    1    1    1   \n",
      "2  25CN-NBOH  0  0  0  0  0  0  0  0  0  ...    1    1    1    1    1    1   \n",
      "3        LSD  0  0  0  0  0  0  0  0  0  ...    0    1    0    1    1    1   \n",
      "4  N-Me-5-HT  0  0  0  0  0  0  0  0  0  ...    1    1    0    1    1    1   \n",
      "\n",
      "   163  164  165  166  \n",
      "0    1    1    1    0  \n",
      "1    1    0    1    0  \n",
      "2    1    1    1    0  \n",
      "3    1    1    1    0  \n",
      "4    1    1    1    0  \n",
      "\n",
      "[5 rows x 168 columns]\n"
     ]
    }
   ],
   "source": [
    "fingerprint_df = extract_specific_fingerprint(chembl_example, get_all_fingerprints, 'MACCS')\n",
    "fingerprint_df.to_csv('MACCS_fingerprints.csv', index=False)"
   ]
  },
  {
   "cell_type": "markdown",
   "metadata": {},
   "source": [
    "### For different combinations"
   ]
  },
  {
   "cell_type": "code",
   "execution_count": 9,
   "metadata": {},
   "outputs": [],
   "source": [
    "import itertools\n",
    "\n",
    "# List of all fingerprints\n",
    "fingerprint_all = ['Morgan (ECFP)', 'FCFP', 'RDKit', 'Atom Pair', 'Topological Torsion', 'MACCS']\n",
    "\n",
    "# Generate all possible subsets as a list of lists\n",
    "# all_subsets = [list(subset) for r in range(len(fingerprint_all) + 1) for subset in itertools.combinations(fingerprint_all, r)]\n",
    "\n",
    "# # Output all subsets\n",
    "# for subset in all_subsets:\n",
    "#     print(subset)\n",
    "\n",
    "# print(all_subsets)\n"
   ]
  },
  {
   "cell_type": "code",
   "execution_count": 11,
   "metadata": {},
   "outputs": [
    {
     "name": "stdout",
     "output_type": "stream",
     "text": [
      "\n",
      "Processing fingerprint combination: MACCS + RDKit\n"
     ]
    },
    {
     "name": "stderr",
     "output_type": "stream",
     "text": [
      "[13:10:26] DEPRECATION WARNING: please use MorganGenerator\n",
      "[13:10:26] DEPRECATION WARNING: please use MorganGenerator\n",
      "[13:10:26] DEPRECATION WARNING: please use MorganGenerator\n",
      "[13:10:26] DEPRECATION WARNING: please use MorganGenerator\n",
      "[13:10:26] DEPRECATION WARNING: please use MorganGenerator\n",
      "[13:10:26] DEPRECATION WARNING: please use MorganGenerator\n",
      "[13:10:26] DEPRECATION WARNING: please use MorganGenerator\n",
      "[13:10:26] DEPRECATION WARNING: please use MorganGenerator\n",
      "[13:10:26] DEPRECATION WARNING: please use MorganGenerator\n",
      "[13:10:26] DEPRECATION WARNING: please use MorganGenerator\n",
      "[13:10:26] DEPRECATION WARNING: please use MorganGenerator\n",
      "[13:10:26] DEPRECATION WARNING: please use MorganGenerator\n",
      "[13:10:26] DEPRECATION WARNING: please use MorganGenerator\n",
      "[13:10:26] DEPRECATION WARNING: please use MorganGenerator\n",
      "[13:10:26] DEPRECATION WARNING: please use MorganGenerator\n",
      "[13:10:26] DEPRECATION WARNING: please use MorganGenerator\n",
      "[13:10:26] DEPRECATION WARNING: please use MorganGenerator\n",
      "[13:10:26] DEPRECATION WARNING: please use MorganGenerator\n",
      "[13:10:26] DEPRECATION WARNING: please use MorganGenerator\n",
      "[13:10:26] DEPRECATION WARNING: please use MorganGenerator\n",
      "[13:10:26] DEPRECATION WARNING: please use MorganGenerator\n",
      "[13:10:26] DEPRECATION WARNING: please use MorganGenerator\n",
      "[13:10:26] DEPRECATION WARNING: please use MorganGenerator\n",
      "[13:10:26] DEPRECATION WARNING: please use MorganGenerator\n",
      "[13:10:26] DEPRECATION WARNING: please use MorganGenerator\n",
      "[13:10:26] DEPRECATION WARNING: please use MorganGenerator\n",
      "[13:10:26] DEPRECATION WARNING: please use MorganGenerator\n",
      "[13:10:26] DEPRECATION WARNING: please use MorganGenerator\n",
      "[13:10:26] DEPRECATION WARNING: please use MorganGenerator\n",
      "[13:10:26] DEPRECATION WARNING: please use MorganGenerator\n",
      "[13:10:26] DEPRECATION WARNING: please use MorganGenerator\n",
      "[13:10:26] DEPRECATION WARNING: please use MorganGenerator\n",
      "[13:10:26] DEPRECATION WARNING: please use MorganGenerator\n",
      "[13:10:26] DEPRECATION WARNING: please use MorganGenerator\n",
      "[13:10:26] DEPRECATION WARNING: please use MorganGenerator\n",
      "[13:10:26] DEPRECATION WARNING: please use MorganGenerator\n",
      "[13:10:26] DEPRECATION WARNING: please use MorganGenerator\n",
      "[13:10:26] DEPRECATION WARNING: please use MorganGenerator\n",
      "[13:10:26] DEPRECATION WARNING: please use MorganGenerator\n",
      "[13:10:26] DEPRECATION WARNING: please use MorganGenerator\n",
      "[13:10:26] DEPRECATION WARNING: please use MorganGenerator\n",
      "[13:10:26] DEPRECATION WARNING: please use MorganGenerator\n",
      "[13:10:26] DEPRECATION WARNING: please use MorganGenerator\n",
      "[13:10:26] DEPRECATION WARNING: please use MorganGenerator\n",
      "[13:10:26] DEPRECATION WARNING: please use MorganGenerator\n",
      "[13:10:26] DEPRECATION WARNING: please use MorganGenerator\n",
      "[13:10:26] DEPRECATION WARNING: please use MorganGenerator\n",
      "[13:10:26] DEPRECATION WARNING: please use MorganGenerator\n",
      "[13:10:26] DEPRECATION WARNING: please use MorganGenerator\n",
      "[13:10:26] DEPRECATION WARNING: please use MorganGenerator\n",
      "[13:10:26] DEPRECATION WARNING: please use MorganGenerator\n",
      "[13:10:26] DEPRECATION WARNING: please use MorganGenerator\n",
      "[13:10:26] DEPRECATION WARNING: please use MorganGenerator\n",
      "[13:10:26] DEPRECATION WARNING: please use MorganGenerator\n",
      "[13:10:26] DEPRECATION WARNING: please use MorganGenerator\n",
      "[13:10:26] DEPRECATION WARNING: please use MorganGenerator\n",
      "[13:10:26] DEPRECATION WARNING: please use MorganGenerator\n",
      "[13:10:26] DEPRECATION WARNING: please use MorganGenerator\n",
      "[13:10:26] DEPRECATION WARNING: please use MorganGenerator\n",
      "[13:10:26] DEPRECATION WARNING: please use MorganGenerator\n",
      "[13:10:26] DEPRECATION WARNING: please use MorganGenerator\n",
      "[13:10:26] DEPRECATION WARNING: please use MorganGenerator\n",
      "[13:10:26] DEPRECATION WARNING: please use MorganGenerator\n",
      "[13:10:26] DEPRECATION WARNING: please use MorganGenerator\n",
      "[13:10:26] DEPRECATION WARNING: please use MorganGenerator\n",
      "[13:10:26] DEPRECATION WARNING: please use MorganGenerator\n",
      "[13:10:26] DEPRECATION WARNING: please use MorganGenerator\n",
      "[13:10:26] DEPRECATION WARNING: please use MorganGenerator\n",
      "[13:10:26] DEPRECATION WARNING: please use MorganGenerator\n",
      "[13:10:26] DEPRECATION WARNING: please use MorganGenerator\n",
      "[13:10:26] DEPRECATION WARNING: please use MorganGenerator\n",
      "[13:10:26] DEPRECATION WARNING: please use MorganGenerator\n",
      "[13:10:26] DEPRECATION WARNING: please use MorganGenerator\n",
      "[13:10:26] DEPRECATION WARNING: please use MorganGenerator\n",
      "[13:10:26] DEPRECATION WARNING: please use MorganGenerator\n",
      "[13:10:26] DEPRECATION WARNING: please use MorganGenerator\n",
      "[13:10:26] DEPRECATION WARNING: please use MorganGenerator\n",
      "[13:10:26] DEPRECATION WARNING: please use MorganGenerator\n",
      "[13:10:26] DEPRECATION WARNING: please use MorganGenerator\n",
      "[13:10:26] DEPRECATION WARNING: please use MorganGenerator\n",
      "[13:10:26] DEPRECATION WARNING: please use MorganGenerator\n",
      "[13:10:26] DEPRECATION WARNING: please use MorganGenerator\n",
      "[13:10:26] DEPRECATION WARNING: please use MorganGenerator\n",
      "[13:10:26] DEPRECATION WARNING: please use MorganGenerator\n",
      "[13:10:26] DEPRECATION WARNING: please use MorganGenerator\n",
      "[13:10:26] DEPRECATION WARNING: please use MorganGenerator\n",
      "[13:10:26] DEPRECATION WARNING: please use MorganGenerator\n",
      "[13:10:26] DEPRECATION WARNING: please use MorganGenerator\n",
      "[13:10:26] DEPRECATION WARNING: please use MorganGenerator\n",
      "[13:10:26] DEPRECATION WARNING: please use MorganGenerator\n",
      "[13:10:26] DEPRECATION WARNING: please use MorganGenerator\n",
      "[13:10:26] DEPRECATION WARNING: please use MorganGenerator\n",
      "[13:10:27] DEPRECATION WARNING: please use MorganGenerator\n",
      "[13:10:27] DEPRECATION WARNING: please use MorganGenerator\n",
      "[13:10:27] DEPRECATION WARNING: please use MorganGenerator\n",
      "[13:10:27] DEPRECATION WARNING: please use MorganGenerator\n",
      "[13:10:27] DEPRECATION WARNING: please use MorganGenerator\n",
      "[13:10:27] DEPRECATION WARNING: please use MorganGenerator\n",
      "[13:10:27] DEPRECATION WARNING: please use MorganGenerator\n",
      "[13:10:27] DEPRECATION WARNING: please use MorganGenerator\n",
      "[13:10:27] DEPRECATION WARNING: please use MorganGenerator\n",
      "[13:10:27] DEPRECATION WARNING: please use MorganGenerator\n",
      "[13:10:27] DEPRECATION WARNING: please use MorganGenerator\n",
      "[13:10:27] DEPRECATION WARNING: please use MorganGenerator\n",
      "[13:10:27] DEPRECATION WARNING: please use MorganGenerator\n",
      "[13:10:27] DEPRECATION WARNING: please use MorganGenerator\n",
      "[13:10:27] DEPRECATION WARNING: please use MorganGenerator\n",
      "[13:10:27] DEPRECATION WARNING: please use MorganGenerator\n",
      "[13:10:27] DEPRECATION WARNING: please use MorganGenerator\n",
      "[13:10:27] DEPRECATION WARNING: please use MorganGenerator\n",
      "[13:10:27] DEPRECATION WARNING: please use MorganGenerator\n",
      "[13:10:27] DEPRECATION WARNING: please use MorganGenerator\n",
      "[13:10:27] DEPRECATION WARNING: please use MorganGenerator\n",
      "[13:10:27] DEPRECATION WARNING: please use MorganGenerator\n",
      "[13:10:27] DEPRECATION WARNING: please use MorganGenerator\n",
      "[13:10:27] DEPRECATION WARNING: please use MorganGenerator\n",
      "[13:10:27] DEPRECATION WARNING: please use MorganGenerator\n",
      "[13:10:27] DEPRECATION WARNING: please use MorganGenerator\n",
      "[13:10:27] DEPRECATION WARNING: please use MorganGenerator\n",
      "[13:10:27] DEPRECATION WARNING: please use MorganGenerator\n",
      "[13:10:27] DEPRECATION WARNING: please use MorganGenerator\n",
      "[13:10:27] DEPRECATION WARNING: please use MorganGenerator\n",
      "[13:10:27] DEPRECATION WARNING: please use MorganGenerator\n",
      "[13:10:27] DEPRECATION WARNING: please use MorganGenerator\n",
      "[13:10:27] DEPRECATION WARNING: please use MorganGenerator\n",
      "[13:10:27] DEPRECATION WARNING: please use MorganGenerator\n",
      "[13:10:27] DEPRECATION WARNING: please use MorganGenerator\n",
      "[13:10:27] DEPRECATION WARNING: please use MorganGenerator\n",
      "[13:10:27] DEPRECATION WARNING: please use MorganGenerator\n",
      "[13:10:27] DEPRECATION WARNING: please use MorganGenerator\n",
      "[13:10:27] DEPRECATION WARNING: please use MorganGenerator\n",
      "[13:10:27] DEPRECATION WARNING: please use MorganGenerator\n",
      "[13:10:27] DEPRECATION WARNING: please use MorganGenerator\n",
      "[13:10:27] DEPRECATION WARNING: please use MorganGenerator\n",
      "[13:10:27] DEPRECATION WARNING: please use MorganGenerator\n",
      "[13:10:27] DEPRECATION WARNING: please use MorganGenerator\n",
      "[13:10:27] DEPRECATION WARNING: please use MorganGenerator\n",
      "[13:10:27] DEPRECATION WARNING: please use MorganGenerator\n",
      "[13:10:27] DEPRECATION WARNING: please use MorganGenerator\n",
      "[13:10:27] DEPRECATION WARNING: please use MorganGenerator\n",
      "[13:10:27] DEPRECATION WARNING: please use MorganGenerator\n",
      "[13:10:27] DEPRECATION WARNING: please use MorganGenerator\n",
      "[13:10:27] DEPRECATION WARNING: please use MorganGenerator\n",
      "[13:10:27] DEPRECATION WARNING: please use MorganGenerator\n",
      "[13:10:27] DEPRECATION WARNING: please use MorganGenerator\n",
      "[13:10:27] DEPRECATION WARNING: please use MorganGenerator\n",
      "[13:10:27] DEPRECATION WARNING: please use MorganGenerator\n",
      "[13:10:27] DEPRECATION WARNING: please use MorganGenerator\n",
      "[13:10:27] DEPRECATION WARNING: please use MorganGenerator\n",
      "[13:10:27] DEPRECATION WARNING: please use MorganGenerator\n",
      "[13:10:27] DEPRECATION WARNING: please use MorganGenerator\n",
      "[13:10:27] DEPRECATION WARNING: please use MorganGenerator\n",
      "[13:10:27] DEPRECATION WARNING: please use MorganGenerator\n",
      "[13:10:27] DEPRECATION WARNING: please use MorganGenerator\n",
      "[13:10:27] DEPRECATION WARNING: please use MorganGenerator\n",
      "[13:10:27] DEPRECATION WARNING: please use MorganGenerator\n",
      "[13:10:27] DEPRECATION WARNING: please use MorganGenerator\n",
      "[13:10:27] DEPRECATION WARNING: please use MorganGenerator\n",
      "[13:10:27] DEPRECATION WARNING: please use MorganGenerator\n",
      "[13:10:27] DEPRECATION WARNING: please use MorganGenerator\n"
     ]
    },
    {
     "ename": "AttributeError",
     "evalue": "'list' object has no attribute 'drop'",
     "output_type": "error",
     "traceback": [
      "\u001b[0;31m---------------------------------------------------------------------------\u001b[0m",
      "\u001b[0;31mAttributeError\u001b[0m                            Traceback (most recent call last)",
      "Cell \u001b[0;32mIn[11], line 19\u001b[0m\n\u001b[1;32m     17\u001b[0m \u001b[38;5;28;01mfor\u001b[39;00m combination \u001b[38;5;129;01min\u001b[39;00m combinations:\n\u001b[1;32m     18\u001b[0m     fingerprint_df \u001b[38;5;241m=\u001b[39m extract_specific_fingerprint(chembl_example, get_all_fingerprints, combination)\n\u001b[0;32m---> 19\u001b[0m     combined_fingerprints\u001b[38;5;241m.\u001b[39mappend(\u001b[43mfingerprint_df\u001b[49m\u001b[38;5;241;43m.\u001b[39;49m\u001b[43mdrop\u001b[49m(columns\u001b[38;5;241m=\u001b[39m[\u001b[38;5;124m'\u001b[39m\u001b[38;5;124mName\u001b[39m\u001b[38;5;124m'\u001b[39m, \u001b[38;5;124m'\u001b[39m\u001b[38;5;124mCategory\u001b[39m\u001b[38;5;124m'\u001b[39m]))\n\u001b[1;32m     21\u001b[0m \u001b[38;5;66;03m# Combine fingerprints horizontally\u001b[39;00m\n\u001b[1;32m     22\u001b[0m combined_df \u001b[38;5;241m=\u001b[39m pd\u001b[38;5;241m.\u001b[39mconcat(combined_fingerprints, axis\u001b[38;5;241m=\u001b[39m\u001b[38;5;241m1\u001b[39m)\n",
      "\u001b[0;31mAttributeError\u001b[0m: 'list' object has no attribute 'drop'"
     ]
    }
   ],
   "source": [
    "all_subsets = [[],\n",
    "    # ['Morgan (ECFP)', 'MACCS'],\n",
    "    ['MACCS', 'RDKit'],\n",
    "    ['RDKit'],\n",
    "    ['Morgan (ECFP)'],\n",
    "    \n",
    "    # ['Atom Pair', 'Topological Torsion']\n",
    "]\n",
    "# fingerprint_all = ['Morgan (ECFP)', 'FCFP', 'RDKit', 'Atom Pair', 'Topological Torsion', 'MACCS']\n",
    "explained_variance_dict = {}\n",
    "\n",
    "for combinations in all_subsets[1:]:\n",
    "    combination_name = ' + '.join(combinations)\n",
    "    print(f\"\\nProcessing fingerprint combination: {combination_name}\")\n",
    "    \n",
    "    combined_fingerprints = []\n",
    "    for combination in combinations:\n",
    "        fingerprint_df = extract_specific_fingerprint(chembl_example, get_all_fingerprints, combination)\n",
    "        combined_fingerprints.append(fingerprint_df)\n",
    "    \n",
    "    # Combine fingerprints horizontally\n",
    "    # combined_df = pd.concat(combined_fingerprints, axis=1)\n",
    "    # combined_df['Name'] = chembl_example['Name']\n",
    "    # combined_df['Category'] = chembl_example['Category']\n",
    "    "
   ]
  }
 ],
 "metadata": {
  "kernelspec": {
   "display_name": "Project1",
   "language": "python",
   "name": "python3"
  },
  "language_info": {
   "codemirror_mode": {
    "name": "ipython",
    "version": 3
   },
   "file_extension": ".py",
   "mimetype": "text/x-python",
   "name": "python",
   "nbconvert_exporter": "python",
   "pygments_lexer": "ipython3",
   "version": "3.8.12"
  }
 },
 "nbformat": 4,
 "nbformat_minor": 2
}
