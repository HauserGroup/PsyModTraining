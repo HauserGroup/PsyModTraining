{
 "cells": [
  {
   "cell_type": "markdown",
   "metadata": {},
   "source": [
    "# Group selfie"
   ]
  },
  {
   "cell_type": "code",
   "execution_count": 2,
   "metadata": {},
   "outputs": [
    {
     "name": "stdout",
     "output_type": "stream",
     "text": [
      "Intel MKL WARNING: Support of Intel(R) Streaming SIMD Extensions 4.2 (Intel(R) SSE4.2) enabled only processors has been deprecated. Intel oneAPI Math Kernel Library 2025.0 will require Intel(R) Advanced Vector Extensions (Intel(R) AVX) instructions.\n",
      "Intel MKL WARNING: Support of Intel(R) Streaming SIMD Extensions 4.2 (Intel(R) SSE4.2) enabled only processors has been deprecated. Intel oneAPI Math Kernel Library 2025.0 will require Intel(R) Advanced Vector Extensions (Intel(R) AVX) instructions.\n"
     ]
    }
   ],
   "source": [
    "import pandas as pd\n",
    "import random\n",
    "import numpy as np\n",
    "from sklearn.model_selection import train_test_split\n",
    "import selfies as sf\n",
    "import group_selfies as gsf\n",
    "from rdkit import Chem\n",
    "\n",
    "random.seed(42)"
   ]
  },
  {
   "cell_type": "markdown",
   "metadata": {},
   "source": [
    "# Input data"
   ]
  },
  {
   "cell_type": "markdown",
   "metadata": {},
   "source": [
    "## Extract data from PsychLight file"
   ]
  },
  {
   "cell_type": "code",
   "execution_count": 3,
   "metadata": {},
   "outputs": [
    {
     "name": "stdout",
     "output_type": "stream",
     "text": [
      "   Class  Known         ID                                             SMILES\n",
      "0      1  known       5-HT                         CN(C)CCc1c[nH]c2ccc(O)cc12\n",
      "1      1  known        DMT                            CN(C)CCc1c[nH]c2ccccc12\n",
      "2      1  known  25CN-NBOH                   COc1cc(CCNCc2ccccc2O)c(OC)cc1C#N\n",
      "3      1  known        LSD  CCN(CC)C(=O)[C@@H]1C=C2c3cccc4[nH]cc(c34)C[C@H...\n",
      "4      1  known  N-Me-5-HT                            CNCCc1c[nH]c2ccc(O)cc12\n"
     ]
    }
   ],
   "source": [
    "# import data from PsychLight\n",
    "PsychLight_data = pd.read_csv(\n",
    "    \"https://raw.githubusercontent.com/HauserGroup/PsyModTraining/refs/heads/main/data/PsychLight/PsychLight_TrainingSet.csv\"\n",
    ")\n",
    "print(PsychLight_data.head())"
   ]
  },
  {
   "cell_type": "code",
   "execution_count": 4,
   "metadata": {},
   "outputs": [],
   "source": [
    "PsychLight_SMILES = PsychLight_data[\"SMILES\"]\n",
    "PsychLight_labels = PsychLight_data[\"Class\"]"
   ]
  },
  {
   "cell_type": "code",
   "execution_count": 5,
   "metadata": {},
   "outputs": [],
   "source": [
    "# split the dataset into training and test set\n",
    "X = PsychLight_SMILES\n",
    "y = PsychLight_labels\n",
    "X_train, X_test, y_train, y_test = train_test_split(X, y, test_size=0.2, random_state=42)"
   ]
  },
  {
   "cell_type": "markdown",
   "metadata": {},
   "source": [
    "## Generate group selfie encoding"
   ]
  },
  {
   "cell_type": "markdown",
   "metadata": {},
   "source": [
    "### Generate group grammar with X_train"
   ]
  },
  {
   "cell_type": "code",
   "execution_count": 6,
   "metadata": {},
   "outputs": [
    {
     "name": "stdout",
     "output_type": "stream",
     "text": [
      "['COc1ccc2[nH]cc(CCN(C)C)c2c1', 'C[C@H](N)Cc1ccccc1', 'CN(C)CCc1c[nH]c2ccc(O)cc12', 'CN[C@@H](C)Cc1ccc2c(c1)OCO2', 'CNCCc1c[nH]c2ccc(O)cc12', 'COC(=O)C(c1ccccc1)C1CCCCN1', 'C#CCN[C@@H]1CCc2ccc(OC(=O)N(C)CC)cc21', 'O=C(CCCN1CCC(O)(c2ccc(Cl)cc2)CC1)c1ccc(F)cc1', 'CN1CC[C@]23c4c5ccc(O)c4O[C@H]2[C@@H](O)C=C[C@H]3[C@H]1C5', 'COc1cccc([C@H](O)C2CCN(CCc3ccc(F)cc3)CC2)c1OC', 'CN(C)CCc1c[nH]c2cccc(OP(=O)(O)O)c12', 'CNCCc1c[nH]c2ccccc12', 'CN(C)CCc1c[nH]c2ccc(F)cc12', 'CNC1(c2ccccc2Cl)CCCCC1=O', 'COC(=O)[C@H]1[C@@H](OC(=O)c2ccccc2)C[C@@H]2CC[C@H]1N2C', 'CCCN(CCC)C1CCc2cccc(O)c2C1', 'COc1cc(CC(C)N)c(OC)cc1I', 'CN(C)CCc1c[nH]c2ccc(O)cc12', 'CN1CCN(C2=Nc3cc(Cl)ccc3Nc3ccccc32)CC1', 'C[C@H](N)Cc1ccc2c(c1)OCO2', 'COC(=O)[C@@H]1C[C@H](OC(C)=O)C(=O)[C@H]2[C@@]1(C)CC[C@H]1C(=O)O[C@H](c3ccoc3)C[C@]21C', 'COc1ccc2c(CCN(C)C)c[nH]c2c1', 'O=C(O)Cc1c[nH]c2ccccc12', 'CN(C)CCCN1c2ccccc2CCc2ccccc21', 'CN(C)CCc1c[nH]c2ccccc12', 'CC(=O)NCCc1c[nH]c2ccc(O)cc12', 'COc1cc(CCNCc2ccccc2O)c(OC)cc1C#N', 'CCN(CC)CCc1c[nH]c2cc(F)ccc12', 'NC(=O)CS(=O)C(c1ccccc1)c1ccccc1', 'CN[C@H](C)Cc1ccc2c(c1)OCO2', 'COc1ccc2[nH]cc(CCNC(C)=O)c2c1', 'CN1CCc2cccc3c2[C@H]1Cc1ccc(O)c(O)c1-3', 'C[C@@H](N)Cc1ccc2c(c1)OCO2', 'c1ccc(C2(N3CCCCC3)CCCCC2)cc1', 'COc1ccc2c(ccn2C[C@@H](C)N(C)C)c1', 'CN(C)CCc1c[nH]c2ccc(Br)cc12', 'CCCN[C@H]1CCc2nc(N)sc2C1', 'CN(C)CCc1c[nH]c2cccc(O)c12', 'O=C1CCc2ccc(OCCCCN3CCN(c4cccc(Cl)c4Cl)CC3)cc2N1', 'COc1cc(CCN)c(OC)cc1I', 'C[C@@H](N)Cc1ccccc1', 'CNCCC(Oc1ccc(C(F)(F)F)cc1)c1ccccc1', 'C#CCN(C)[C@H](C)Cc1ccccc1']\n"
     ]
    }
   ],
   "source": [
    "# data preparation for fragmenting using X_train\n",
    "X_train_SMILES_list = X_train.tolist()\n",
    "\n",
    "print(X_train_SMILES_list)"
   ]
  },
  {
   "cell_type": "code",
   "execution_count": 7,
   "metadata": {},
   "outputs": [
    {
     "name": "stderr",
     "output_type": "stream",
     "text": [
      "  0%|          | 0/43 [00:00<?, ?it/s]"
     ]
    },
    {
     "name": "stderr",
     "output_type": "stream",
     "text": [
      "100%|██████████| 43/43 [00:00<00:00, 44.80it/s]"
     ]
    },
    {
     "name": "stdout",
     "output_type": "stream",
     "text": [
      "['C1=CC(*1)=CC=C1*1', 'C1=C2C(=C(*1)C(*1)=C1*1)C(*1)=CN2*1', 'C1=C2NC=C(*1)C2=C(*1)C(*1)=C1']\n"
     ]
    },
    {
     "name": "stderr",
     "output_type": "stream",
     "text": [
      "\n"
     ]
    }
   ],
   "source": [
    "# generate grammar and dictionary of fragments\n",
    "\n",
    "# get smiles list from PsychLight data\n",
    "molecules = [Chem.MolFromSmiles(smiles) for smiles in X_train_SMILES_list]\n",
    "\n",
    "# extracting a set of reasonable groups using fragmentation\n",
    "fragments = gsf.fragment_mols(\n",
    "    molecules, method=\"default\")\n",
    "\n",
    "# create a dictionary of fragments for tracking\n",
    "vocab_fragment = dict(\n",
    "    [(f\"frag{idx}\", gsf.Group(f\"frag{idx}\", frag)) for idx, frag in enumerate(fragments)]\n",
    ") \n",
    "\n",
    "print(fragments)"
   ]
  },
  {
   "cell_type": "code",
   "execution_count": 8,
   "metadata": {},
   "outputs": [
    {
     "name": "stdout",
     "output_type": "stream",
     "text": [
      "['Group', 'GroupGrammar', 'MolecularGraph', '__all__', '__builtins__', '__cached__', '__doc__', '__file__', '__loader__', '__name__', '__package__', '__path__', '__spec__', '__version__', 'bond_constraints', 'constants', 'fragment_mols', 'get_alphabet_from_selfies', 'get_preset_constraints', 'get_semantic_constraints', 'get_semantic_robust_alphabet', 'grammar_rules', 'group_decoder', 'group_encoder', 'group_grammar', 'group_mol_graph', 'group_selfies', 'len_selfies', 'set_semantic_constraints', 'split_selfies', 'utils']\n",
      "Help on function fragment_mols in module group_selfies.utils.fragment_utils:\n",
      "\n",
      "fragment_mols(m_set, convert=False, n_limit=10, target=100, fragmented=False, method='default')\n",
      "\n"
     ]
    }
   ],
   "source": [
    "import group_selfies as gsf\n",
    "\n",
    "# List all attributes and methods in the gsf module\n",
    "print(dir(gsf))\n",
    "\n",
    "# Check the documentation for fragment_mols\n",
    "help(gsf.fragment_mols)\n"
   ]
  },
  {
   "cell_type": "code",
   "execution_count": 9,
   "metadata": {},
   "outputs": [
    {
     "name": "stdout",
     "output_type": "stream",
     "text": [
      "{'frag0': <Group frag0 C1=CC(*1)=CC=C1*1>, 'frag1': <Group frag1 C1=C2C(=C(*1)C(*1)=C1*1)C(*1)=CN2*1>, 'frag2': <Group frag2 C1=C2NC=C(*1)C2=C(*1)C(*1)=C1>}\n"
     ]
    }
   ],
   "source": [
    "print(vocab_fragment)\n"
   ]
  },
  {
   "cell_type": "code",
   "execution_count": 11,
   "metadata": {},
   "outputs": [],
   "source": [
    "# create a GroupGrammar object using the predefined fragment vocabulary\n",
    "grammar_auto = gsf.GroupGrammar(vocab=vocab_fragment)"
   ]
  },
  {
   "cell_type": "code",
   "execution_count": null,
   "metadata": {},
   "outputs": [
    {
     "name": "stdout",
     "output_type": "stream",
     "text": [
      "test set origin smiles:  COc1ccc2c3c([nH]c2c1)CCN(C)CC3\n",
      "test set origin:  <rdkit.Chem.rdchem.Mol object at 0x7fb638055eb0>\n"
     ]
    },
    {
     "data": {
      "image/png": "[encoded data removed]",
      "text/plain": [
       "<rdkit.Chem.rdchem.Mol at 0x7fb638055eb0>"
      ]
     },
     "metadata": {},
     "output_type": "display_data"
    },
    {
     "name": "stdout",
     "output_type": "stream",
     "text": [
      "test set decoded smiles:  CCN(CC)C(=O)NC1C=C2c3cccc4[nH]cc(c34)CC2N(C)C1\n",
      "test set decoded RWMol:  <rdkit.Chem.rdchem.RWMol object at 0x7fb638031540>\n",
      "test set decoded from RWMol to Mol:  <rdkit.Chem.rdchem.Mol object at 0x7fb638055890>\n"
     ]
    },
    {
     "data": {
      "image/png": "[encoded data removed]",
      "text/plain": [
       "<rdkit.Chem.rdchem.RWMol at 0x7fb638031540>"
      ]
     },
     "metadata": {},
     "output_type": "display_data"
    },
    {
     "data": {
      "text/plain": [
       "False"
      ]
     },
     "execution_count": 51,
     "metadata": {},
     "output_type": "execute_result"
    }
   ],
   "source": [
    "# test the grammar on test set\n",
    "from rdkit.Chem import MolToSmiles\n",
    "\n",
    "test = Chem.MolFromSmiles(random.choice(X_test.tolist()))\n",
    "print(\"test set origin smiles: \", random.choice(X_test.tolist()))\n",
    "print(\"test set origin: \",test)\n",
    "display(test)\n",
    "\n",
    "# encode the molecules in the test set\n",
    "test_encoded = grammar_auto.full_encoder(test)\n",
    "# print(test_encoded)\n",
    "\n",
    "# decode the molecule\n",
    "test_decoded = grammar_auto.decoder(test_encoded)\n",
    "print(\"test set decoded smiles: \", Chem.MolToSmiles(test_decoded.GetMol()))\n",
    "print(\"test set decoded RWMol: \", test_decoded)\n",
    "print(\"test set decoded from RWMol to Mol: \", test_decoded.GetMol())\n",
    "display(test_decoded)\n",
    "\n",
    "# original_smiles_1 = MolToSmiles(test, isomericSmiles=True, canonical=True)\n",
    "# decoded_smiles_1 = MolToSmiles(test_decoded, isomericSmiles=True, canonical=True)\n",
    "# # Chem.CanonSmiles(original_smiles_1) == Chem.CanonSmiles(decoded_smiles_1)\n",
    "\n",
    "original_smiles_2 = MolToSmiles(test)\n",
    "decoded_smiles_2 = MolToSmiles(test_decoded)\n",
    "Chem.CanonSmiles(original_smiles_2) == Chem.CanonSmiles(decoded_smiles_2)"
   ]
  },
  {
   "cell_type": "code",
   "execution_count": 78,
   "metadata": {},
   "outputs": [
    {
     "name": "stdout",
     "output_type": "stream",
     "text": [
      "test set origin smiles:  C[C@@H](N)Cc1ccc2c(c1)OCO2\n",
      "test set origin:  <rdkit.Chem.rdchem.Mol object at 0x7fb688d3c120>\n"
     ]
    },
    {
     "data": {
      "image/png": "[encoded data removed]",
      "text/plain": [
       "<rdkit.Chem.rdchem.Mol at 0x7fb688d3c120>"
      ]
     },
     "metadata": {},
     "output_type": "display_data"
    },
    {
     "name": "stdout",
     "output_type": "stream",
     "text": [
      "test set decoded smiles:  CN1CCC23c4c5ccc(O)c4OC2C(O)C=CC3C1C5\n",
      "test set decoded RWMol:  <rdkit.Chem.rdchem.RWMol object at 0x7fb668b52860>\n",
      "test set decoded from RWMol to Mol:  <rdkit.Chem.rdchem.Mol object at 0x7fb688d3cdd0>\n"
     ]
    },
    {
     "data": {
      "image/png": "[encoded data removed]",
      "text/plain": [
       "<rdkit.Chem.rdchem.RWMol at 0x7fb668b52860>"
      ]
     },
     "metadata": {},
     "output_type": "display_data"
    },
    {
     "data": {
      "text/plain": [
       "False"
      ]
     },
     "execution_count": 78,
     "metadata": {},
     "output_type": "execute_result"
    }
   ],
   "source": [
    "# test the grammar on test set\n",
    "train = Chem.MolFromSmiles(random.choice(X_train.tolist()))\n",
    "print(\"test set origin smiles: \", random.choice(X_train.tolist()))\n",
    "print(\"test set origin: \", train)\n",
    "display(train)\n",
    "\n",
    "# encode the molecules in the test set\n",
    "train_encoded = grammar_auto.full_encoder(train)\n",
    "# print(test_encoded)\n",
    "\n",
    "# decode the molecule\n",
    "train_decoded = grammar_auto.decoder(train_encoded)\n",
    "print(\"test set decoded smiles: \", Chem.MolToSmiles(train_decoded.GetMol()))\n",
    "print(\"test set decoded RWMol: \", train_decoded)\n",
    "print(\"test set decoded from RWMol to Mol: \", train_decoded.GetMol())\n",
    "display(train_decoded)\n",
    "\n",
    "original_smiles = MolToSmiles(train)\n",
    "decoded_smiles = MolToSmiles(train_decoded)\n",
    "Chem.CanonSmiles(original_smiles) == Chem.CanonSmiles(decoded_smiles)\n"
   ]
  },
  {
   "cell_type": "markdown",
   "metadata": {},
   "source": [
    "### Group selfie encoding "
   ]
  },
  {
   "cell_type": "code",
   "execution_count": 30,
   "metadata": {},
   "outputs": [
    {
     "ename": "NameError",
     "evalue": "name 'PsychLight_SMILES_list' is not defined",
     "output_type": "error",
     "traceback": [
      "\u001b[0;31m---------------------------------------------------------------------------\u001b[0m",
      "\u001b[0;31mNameError\u001b[0m                                 Traceback (most recent call last)",
      "Cell \u001b[0;32mIn[30], line 1\u001b[0m\n\u001b[0;32m----> 1\u001b[0m encode_input \u001b[38;5;241m=\u001b[39m [Chem\u001b[38;5;241m.\u001b[39mMolFromSmiles(smiles) \u001b[38;5;28;01mfor\u001b[39;00m smiles \u001b[38;5;129;01min\u001b[39;00m \u001b[43mPsychLight_SMILES_list\u001b[49m]\n\u001b[1;32m      2\u001b[0m display(encode_input[\u001b[38;5;241m0\u001b[39m])\n\u001b[1;32m      3\u001b[0m \u001b[38;5;28mprint\u001b[39m(grammar_auto\u001b[38;5;241m.\u001b[39mfull_encoder(encode_input[\u001b[38;5;241m0\u001b[39m]))\n",
      "\u001b[0;31mNameError\u001b[0m: name 'PsychLight_SMILES_list' is not defined"
     ]
    }
   ],
   "source": [
    "encode_input = [Chem.MolFromSmiles(smiles) for smiles in PsychLight_SMILES_list]\n",
    "display(encode_input[0])\n",
    "print(grammar_auto.full_encoder(encode_input[0]))\n",
    "group_selfies = []\n",
    "\n",
    "\n",
    "for smiles in encode_input:\n",
    "    encode_mol = grammar_auto.full_encoder(smiles)\n",
    "    group_selfies.append(encode_mol)\n",
    "    \n",
    "print(group_selfies)"
   ]
  },
  {
   "cell_type": "markdown",
   "metadata": {},
   "source": [
    "### One-hot encode group selfies"
   ]
  },
  {
   "cell_type": "code",
   "execution_count": null,
   "metadata": {},
   "outputs": [
    {
     "name": "stdout",
     "output_type": "stream",
     "text": [
      "{'#Branch': 0, '#C': 1, '#N': 2, ':0frag0': 3, ':0frag2': 4, ':0frag3': 5, ':1frag1': 6, ':2frag1': 7, ':2frag2': 8, '=Branch': 9, '=C': 10, '=N': 11, '=O': 12, '=Ring1': 13, 'Br': 14, 'Branch': 15, 'C': 16, 'CH1': 17, 'Cl': 18, 'F': 19, 'I': 20, 'N': 21, 'O': 22, 'P': 23, 'Ring1': 24, 'Ring2': 25, 'S': 26, 'pop': 27}\n"
     ]
    }
   ],
   "source": [
    "# Tokenize the strings into individual tokens\n",
    "tokens = set(token for smile in group_selfies for token in smile.split(\"][\"))\n",
    "tokens = {t.strip(\"[]\") for t in tokens}  # Clean up brackets\n",
    "\n",
    "# Assign indices to each token to build a vocabulary\n",
    "vocab_token = {token: idx for idx, token in enumerate(sorted(tokens))}\n",
    "print(vocab_token)"
   ]
  },
  {
   "cell_type": "code",
   "execution_count": null,
   "metadata": {},
   "outputs": [
    {
     "name": "stdout",
     "output_type": "stream",
     "text": [
      "[[3, 16, 7, 15, 22, 27, 27], [3, 16, 7, 27], [16, 22, 16, 10, 16, 15, 16, 16, 21, 16, 16, 10, 16, 10, 16, 10, 15, 22, 27, 24, 9, 27, 10, 15, 22, 16, 27, 16, 10, 15, 16, 2, 27, 25, 24, 9], [16, 16, 21, 15, 16, 16, 27, 16, 9, 12, 27, 17, 16, 10, 16, 10, 16, 10, 16, 21, 16, 10, 15, 16, 24, 21, 13, 15, 27, 16, 17, 15, 21, 15, 16, 27, 16, 25, 24, 25, 27, 24, 1], [16, 21, 16, 16, 7, 15, 22, 27], [21, 16, 16, 7], [3, 16, 7, 15, 22, 27, 27], [3, 16, 7, 25, 22, 27, 27], [16, 22, 6, 24, 3, 27], [16, 21, 16, 16, 7], [16, 17, 15, 21, 27, 16, 16, 10, 16, 10, 16, 9, 10, 24, 9, 27, 22, 16, 22, 24, 9], [16, 22, 16, 10, 16, 15, 16, 16, 15, 16, 27, 21, 27, 10, 15, 22, 16, 27, 16, 10, 15, 20, 27, 24, 1], [16, 16, 17, 16, 17, 16, 17, 16, 21, 16, 10, 16, 10, 15, 22, 27, 16, 10, 15, 16, 15, 16, 16, 21, 15, 16, 25, 24, 25, 27, 17, 25, 24, 0, 25, 24, 24, 27, 13, 11, 27, 24, 0], [16, 16, 17, 16, 17, 16, 17, 16, 21, 16, 10, 16, 10, 15, 22, 16, 27, 16, 10, 15, 16, 15, 16, 16, 21, 15, 16, 25, 24, 15, 27, 17, 25, 24, 22, 25, 24, 25, 27, 13, 10, 27, 24, 22], [16, 22, 16, 10, 16, 15, 16, 16, 21, 27, 10, 15, 22, 16, 27, 16, 10, 15, 20, 27, 24, 10], [3, 16, 7, 25, 22, 23, 9, 12, 27, 15, 22, 27, 22, 27, 27], [3, 16, 7, 15, 19, 27, 27], [3, 16, 7, 15, 18, 27, 27], [16, 22, 6, 25, 16, 17, 15, 16, 27, 21, 15, 16, 27, 16, 27], [3, 16, 7, 15, 16, 21, 16, 11, 16, 11, 24, 15, 27, 27], [16, 16, 16, 21, 17, 16, 16, 16, 21, 10, 15, 21, 27, 26, 16, 15, 16, 24, 11, 27, 13, 9], [16, 16, 9, 12, 27, 21, 16, 16, 7, 15, 22, 27], [5, 24, 16, 15, 21, 16, 16, 16, 16, 16, 24, 9, 27, 16, 16, 16, 16, 16, 24, 1, 27], [16, 22, 6, 24, 16, 16, 21, 16, 15, 16, 27, 12, 27], [16, 1, 16, 21, 17, 16, 16, 16, 10, 16, 10, 15, 22, 16, 9, 12, 27, 21, 15, 16, 27, 16, 16, 27, 16, 10, 25, 24, 24, 24, 26], [16, 16, 16, 21, 15, 16, 16, 16, 27, 16, 16, 16, 16, 10, 16, 10, 16, 15, 22, 27, 10, 15, 16, 24, 10, 27, 24, 0], [16, 17, 15, 21, 27, 16, 5], [16, 17, 15, 21, 27, 16, 16, 10, 16, 10, 16, 9, 10, 24, 9, 27, 22, 16, 22, 24, 9], [16, 17, 15, 21, 27, 16, 5], [22, 10, 15, 22, 27, 16, 7], [16, 21, 16, 15, 16, 10, 16, 10, 16, 10, 15, 18, 27, 24, 9, 27, 16, 16, 16, 16, 16, 9, 12, 27, 24, 26], [16, 22, 16, 9, 12, 27, 17, 16, 17, 15, 22, 16, 15, 16, 27, 12, 27, 16, 9, 12, 27, 17, 16, 15, 16, 27, 15, 16, 16, 17, 16, 9, 12, 27, 22, 17, 15, 16, 16, 10, 22, 16, 13, 15, 27, 16, 16, 15, 16, 27, 24, 1, 25, 24, 25, 27, 24, 10], [16, 21, 17, 15, 16, 27, 16, 5], [16, 21, 16, 16, 16, 16, 10, 16, 10, 16, 15, 22, 27, 10, 15, 22, 17, 15, 17, 15, 22, 27, 16, 10, 17, 15, 17, 15, 16, 25, 24, 16, 27, 25, 24, 9, 27, 25, 24, 16, 27, 24, 11, 27, 24, 0], [16, 21, 17, 15, 16, 27, 16, 16, 10, 16, 10, 16, 9, 10, 24, 9, 27, 22, 16, 22, 24, 9], [16, 21, 17, 15, 16, 27, 16, 16, 10, 16, 10, 16, 9, 10, 24, 9, 27, 22, 16, 22, 24, 9], [16, 22, 16, 9, 12, 27, 17, 17, 15, 22, 16, 9, 12, 27, 5, 27, 16, 17, 16, 16, 17, 15, 21, 15, 16, 27, 24, 15, 27, 24, 1], [16, 22, 16, 9, 12, 27, 16, 15, 5, 27, 16, 16, 16, 16, 16, 21, 24, 9], [16, 1, 16, 21, 15, 16, 27, 17, 15, 16, 27, 16, 5], [21, 16, 9, 12, 27, 16, 26, 9, 12, 27, 16, 15, 5, 27, 5], [16, 22, 8, 24, 3, 27], [16, 16, 21, 15, 16, 16, 27, 16, 16, 4, 25, 19, 27], [22, 10, 16, 16, 16, 10, 16, 10, 15, 22, 16, 16, 16, 16, 21, 16, 16, 21, 15, 16, 10, 16, 10, 16, 15, 18, 27, 10, 15, 18, 27, 24, 0, 27, 16, 16, 24, 23, 27, 16, 10, 15, 21, 25, 25, 24, 27, 25, 24, 1], [16, 21, 16, 16, 16, 10, 16, 10, 16, 10, 15, 17, 15, 16, 16, 10, 16, 10, 15, 22, 27, 16, 15, 22, 27, 10, 24, 22, 24, 1, 27, 24, 11, 27, 24, 9], [16, 16, 21, 15, 16, 16, 27, 16, 9, 12, 27, 21, 17, 16, 10, 16, 10, 16, 10, 16, 21, 16, 10, 15, 16, 24, 21, 13, 15, 27, 16, 17, 15, 21, 15, 16, 27, 16, 25, 24, 25, 27, 24, 1], [22, 10, 15, 16, 16, 16, 21, 16, 16, 16, 15, 22, 27, 15, 5, 24, 18, 27, 27, 16, 16, 24, 11, 27, 5, 24, 19, 27], [3, 16, 16, 21, 16, 10, 16, 10, 16, 10, 15, 16, 16, 16, 10, 16, 10, 16, 10, 25, 24, 16, 24, 9, 27, 24, 9, 27], [16, 21, 16, 16, 21, 15, 16, 11, 16, 10, 16, 15, 18, 27, 10, 16, 10, 15, 21, 16, 10, 16, 10, 16, 10, 25, 24, 24, 24, 9, 27, 24, 0, 27, 16, 16, 25, 24, 21], [16, 21, 16, 16, 16, 16, 15, 16, 16, 15, 22, 16, 15, 5, 27, 5, 27, 16, 24, 26, 27, 24, 15], [22, 10, 15, 5, 24, 19, 27, 27, 16, 16, 16, 21, 15, 16, 16, 21, 16, 9, 12, 27, 21, 16, 10, 16, 10, 16, 10, 15, 16, 9, 12, 27, 24, 10, 27, 24, 9, 27, 16, 16, 25, 24, 0], [16, 22, 16, 10, 16, 10, 16, 15, 17, 15, 22, 27, 16, 16, 16, 21, 15, 16, 16, 5, 24, 19, 27, 27, 16, 16, 24, 10, 27, 10, 15, 22, 16, 27, 25, 24, 9], [16, 21, 16, 16, 16, 15, 22, 5, 24, 16, 15, 19, 27, 15, 19, 27, 19, 27, 27, 5], [16, 22, 16, 10, 16, 10, 16, 10, 15, 21, 16, 9, 10, 24, 21, 27, 24, 15, 27, 16, 16, 21, 15, 16, 27, 16, 16, 24, 10], [3, 16, 7, 15, 14, 27, 27]]\n"
     ]
    }
   ],
   "source": [
    "# Convert each string into a list of token indices\n",
    "encoded_data = []\n",
    "for smile in group_selfies:\n",
    "    token_indices = [vocab_token[token.strip(\"[]\")] for token in smile.split(\"][\")]\n",
    "    encoded_data.append(token_indices)\n",
    "print(encoded_data)"
   ]
  },
  {
   "cell_type": "code",
   "execution_count": null,
   "metadata": {},
   "outputs": [
    {
     "name": "stdout",
     "output_type": "stream",
     "text": [
      "54\n"
     ]
    }
   ],
   "source": [
    "# Vocabulary size\n",
    "vocab_size = len(vocab_token)\n",
    "\n",
    "# Convert token indices to one-hot encoding\n",
    "one_hot_data = []\n",
    "for token_indices in encoded_data:\n",
    "    one_hot_sequence = np.zeros((len(token_indices), vocab_size))\n",
    "    for i, index in enumerate(token_indices):\n",
    "        one_hot_sequence[i, index] = 1\n",
    "    one_hot_data.append(one_hot_sequence)\n",
    "\n",
    "print(len(one_hot_data))"
   ]
  }
 ],
 "metadata": {
  "kernelspec": {
   "display_name": "Project1",
   "language": "python",
   "name": "python3"
  },
  "language_info": {
   "codemirror_mode": {
    "name": "ipython",
    "version": 3
   },
   "file_extension": ".py",
   "mimetype": "text/x-python",
   "name": "python",
   "nbconvert_exporter": "python",
   "pygments_lexer": "ipython3",
   "version": "3.8.12"
  }
 },
 "nbformat": 4,
 "nbformat_minor": 2
}
