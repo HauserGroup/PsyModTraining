{
 "cells": [
  {
   "cell_type": "code",
   "execution_count": 2,
   "metadata": {},
   "outputs": [],
   "source": [
    "import pandas as pd\n",
    "from sklearn.preprocessing import MultiLabelBinarizer\n",
    "from sklearn.ensemble import RandomForestClassifier\n",
    "from sklearn.model_selection import StratifiedKFold, cross_val_score\n",
    "from sklearn.model_selection import train_test_split\n",
    "from sklearn.metrics import accuracy_score, hamming_loss, make_scorer # type: ignore\n"
   ]
  },
  {
   "cell_type": "markdown",
   "metadata": {},
   "source": [
    "## Read fingerprint file and experimental file"
   ]
  },
  {
   "cell_type": "code",
   "execution_count": 3,
   "metadata": {},
   "outputs": [
    {
     "name": "stdout",
     "output_type": "stream",
     "text": [
      "  receptor gprotein       drug        Emax    Emax_SE     TCoeff  TCoeff_SE  \\\n",
      "0    5HT1A      GoB  25C-NBOMe   13.047601   1.862662   7.863330   0.215495   \n",
      "1    5HT1D      Gi2  25C-NBOMe   61.560000  16.200000   7.308909   0.275469   \n",
      "2    5HT2A    BArr2  25C-NBOMe  126.520000   2.660000  10.852095   0.045687   \n",
      "3    5HT2A      G11  25C-NBOMe   97.880000   1.930000  11.570638   0.051133   \n",
      "4    5HT2A      G15  25C-NBOMe   89.690000   2.150000  11.482661   0.057973   \n",
      "\n",
      "     logEmEC  logEmEc_Lower  logEmEc_Upper    pEC50  pEC50_SE  N  \n",
      "0   7.866311       7.488600       8.235079  6.75078  0.310814  3  \n",
      "1   7.319299       6.826673       7.780756  5.53000  0.360000  3  \n",
      "2  10.852159      10.772931      10.931195  8.75000  0.070000  3  \n",
      "3  11.570694      11.482045      11.659174  9.58000  0.080000  3  \n",
      "4  11.482744      11.382207      11.583032  9.53000  0.090000  3  \n"
     ]
    }
   ],
   "source": [
    "receptors = pd.read_csv('/Users/xiaomuou620/Desktop/PRIVATE_DATA/selected_file.csv') # selected only existing binding receptors left\n",
    "fingerprints = pd.read_csv('/Users/xiaomuou620/Library/CloudStorage/OneDrive-UniversityofCopenhagen/courses/Project1/Fingerprint/MACCS_fingerprints.csv')\n",
    "print(receptors.head())\n",
    "\n"
   ]
  },
  {
   "cell_type": "markdown",
   "metadata": {},
   "source": [
    "### Experimental data processing"
   ]
  },
  {
   "cell_type": "code",
   "execution_count": 4,
   "metadata": {},
   "outputs": [
    {
     "name": "stdout",
     "output_type": "stream",
     "text": [
      "         drug                                           receptor\n",
      "0   25C-NBOMe  [5HT1A, 5HT1D, 5HT2A, 5HT2A, 5HT2A, 5HT2A, 5HT...\n",
      "1    25I-NBMD  [5HT1A, 5HT1A, 5HT1A, 5HT1B, 5HT1B, 5HT1B, 5HT...\n",
      "2   25I-NBOMe  [5HT1A, 5HT1A, 5HT1D, 5HT1D, 5HT1D, 5HT1D, 5HT...\n",
      "3  25T7-NBOMe  [5HT1A, 5HT1A, 5HT1A, 5HT1D, 5HT1D, 5HT1D, 5HT...\n",
      "4  4-AcO-MALT  [5HT1A, 5HT1A, 5HT1A, 5HT1A, 5HT1A, 5HT1B, 5HT...\n"
     ]
    }
   ],
   "source": [
    "# collect receptors for each drug\n",
    "drug_receptor_mapping = receptors.groupby('drug')['receptor'].apply(list).reset_index()\n",
    "print(drug_receptor_mapping.head())"
   ]
  },
  {
   "cell_type": "code",
   "execution_count": 5,
   "metadata": {},
   "outputs": [],
   "source": [
    "# binarize the receptors\n",
    "mlb = MultiLabelBinarizer()\n",
    "receptor_labels = mlb.fit_transform(drug_receptor_mapping['receptor'])"
   ]
  },
  {
   "cell_type": "code",
   "execution_count": 6,
   "metadata": {},
   "outputs": [
    {
     "name": "stdout",
     "output_type": "stream",
     "text": [
      "         drug                                           receptor  5HT1A  \\\n",
      "0   25C-NBOMe  [5HT1A, 5HT1D, 5HT2A, 5HT2A, 5HT2A, 5HT2A, 5HT...      1   \n",
      "1    25I-NBMD  [5HT1A, 5HT1A, 5HT1A, 5HT1B, 5HT1B, 5HT1B, 5HT...      1   \n",
      "2   25I-NBOMe  [5HT1A, 5HT1A, 5HT1D, 5HT1D, 5HT1D, 5HT1D, 5HT...      1   \n",
      "3  25T7-NBOMe  [5HT1A, 5HT1A, 5HT1A, 5HT1D, 5HT1D, 5HT1D, 5HT...      1   \n",
      "4  4-AcO-MALT  [5HT1A, 5HT1A, 5HT1A, 5HT1A, 5HT1A, 5HT1B, 5HT...      1   \n",
      "\n",
      "   5HT1B  5HT1D  5HT1E  5HT1F  5HT2A  5HT2B  5HT2C  ...  Alpha2A  Alpha2B  \\\n",
      "0      0      1      0      0      1      1      1  ...        0        0   \n",
      "1      1      1      1      1      1      1      1  ...        0        0   \n",
      "2      0      1      1      1      1      1      1  ...        0        0   \n",
      "3      0      1      0      1      1      1      1  ...        0        0   \n",
      "4      1      1      1      1      1      1      1  ...        0        0   \n",
      "\n",
      "   Alpha2C  Beta2AR  Beta3AR  DRD1  DRD2  DRD3  DRD4  DRD5  \n",
      "0        0        0        0     0     1     0     0     0  \n",
      "1        0        0        0     0     0     0     0     0  \n",
      "2        0        0        0     0     0     1     0     0  \n",
      "3        0        0        0     0     0     1     0     1  \n",
      "4        0        0        0     0     1     1     0     0  \n",
      "\n",
      "[5 rows x 26 columns]\n"
     ]
    }
   ],
   "source": [
    "drug_receptor_label = pd.concat([drug_receptor_mapping, pd.DataFrame(receptor_labels, columns=mlb.classes_)], axis=1)\n",
    "print(drug_receptor_label.head())"
   ]
  },
  {
   "cell_type": "code",
   "execution_count": 7,
   "metadata": {},
   "outputs": [
    {
     "name": "stdout",
     "output_type": "stream",
     "text": [
      "         drug  5HT1A  5HT1B  5HT1D  5HT1E  5HT1F  5HT2A  5HT2B  5HT2C  5HT5A  \\\n",
      "0   25C-NBOMe      1      0      1      0      0      1      1      1      0   \n",
      "1    25I-NBMD      1      1      1      1      1      1      1      1      0   \n",
      "2   25I-NBOMe      1      0      1      1      1      1      1      1      1   \n",
      "3  25T7-NBOMe      1      0      1      0      1      1      1      1      1   \n",
      "4  4-AcO-MALT      1      1      1      1      1      1      1      1      1   \n",
      "\n",
      "   ...  Alpha2A  Alpha2B  Alpha2C  Beta2AR  Beta3AR  DRD1  DRD2  DRD3  DRD4  \\\n",
      "0  ...        0        0        0        0        0     0     1     0     0   \n",
      "1  ...        0        0        0        0        0     0     0     0     0   \n",
      "2  ...        0        0        0        0        0     0     0     1     0   \n",
      "3  ...        0        0        0        0        0     0     0     1     0   \n",
      "4  ...        0        0        0        0        0     0     1     1     0   \n",
      "\n",
      "   DRD5  \n",
      "0     0  \n",
      "1     0  \n",
      "2     0  \n",
      "3     1  \n",
      "4     0  \n",
      "\n",
      "[5 rows x 25 columns]\n",
      "{'drug': {0: '25C-NBOMe', 1: '25I-NBMD', 2: '25I-NBOMe', 3: '25T7-NBOMe', 4: '4-AcO-MALT', 5: '5-HT', 6: '5-MAPDB', 7: '5-MeO-DALT', 8: '5-MeO-DMT', 9: '5-MeO-DiPT', 10: '5-MeO-EiPT', 11: '5-OH-DMT', 12: 'AL-LAD', 13: 'Aleph-1', 14: 'Allylescaline', 15: 'BL-3912A', 16: 'BU-LAD', 17: 'Bromo-dragonFLY', 18: 'CPM', 19: 'DAM-57', 20: 'DIPLA', 21: 'DMCPA', 22: 'DOI', 23: 'DOM', 24: 'ETH-LAD', 25: 'Escaline', 26: 'Isoproscaline', 27: 'LAMPA', 28: 'LSD', 29: 'LSZ', 30: 'Lisuride', 31: 'MAL', 32: 'MDMA', 33: 'Mescaline', 34: 'Methylone', 35: 'N,N-DMT', 36: 'Nor-LSD', 37: 'Psilocin', 38: 'Psilocybin', 39: 'TCB-2'}, '5HT1A': {0: 1, 1: 1, 2: 1, 3: 1, 4: 1, 5: 1, 6: 1, 7: 1, 8: 1, 9: 1, 10: 1, 11: 1, 12: 1, 13: 0, 14: 1, 15: 1, 16: 1, 17: 1, 18: 1, 19: 1, 20: 1, 21: 1, 22: 0, 23: 1, 24: 1, 25: 1, 26: 1, 27: 1, 28: 1, 29: 1, 30: 1, 31: 1, 32: 1, 33: 1, 34: 1, 35: 1, 36: 1, 37: 1, 38: 1, 39: 1}, '5HT1B': {0: 0, 1: 1, 2: 0, 3: 0, 4: 1, 5: 1, 6: 1, 7: 1, 8: 1, 9: 1, 10: 1, 11: 1, 12: 1, 13: 1, 14: 1, 15: 1, 16: 1, 17: 1, 18: 1, 19: 1, 20: 1, 21: 1, 22: 1, 23: 1, 24: 1, 25: 1, 26: 1, 27: 1, 28: 1, 29: 1, 30: 1, 31: 1, 32: 1, 33: 1, 34: 1, 35: 1, 36: 1, 37: 1, 38: 1, 39: 1}, '5HT1D': {0: 1, 1: 1, 2: 1, 3: 1, 4: 1, 5: 1, 6: 1, 7: 1, 8: 1, 9: 1, 10: 1, 11: 1, 12: 1, 13: 1, 14: 1, 15: 1, 16: 1, 17: 1, 18: 1, 19: 1, 20: 1, 21: 1, 22: 1, 23: 1, 24: 1, 25: 1, 26: 1, 27: 1, 28: 1, 29: 1, 30: 1, 31: 1, 32: 1, 33: 1, 34: 1, 35: 1, 36: 1, 37: 1, 38: 1, 39: 1}, '5HT1E': {0: 0, 1: 1, 2: 1, 3: 0, 4: 1, 5: 1, 6: 1, 7: 1, 8: 1, 9: 1, 10: 1, 11: 1, 12: 1, 13: 1, 14: 1, 15: 1, 16: 1, 17: 1, 18: 1, 19: 1, 20: 1, 21: 1, 22: 1, 23: 1, 24: 1, 25: 1, 26: 1, 27: 1, 28: 1, 29: 1, 30: 1, 31: 1, 32: 0, 33: 1, 34: 0, 35: 1, 36: 1, 37: 1, 38: 1, 39: 1}, '5HT1F': {0: 0, 1: 1, 2: 1, 3: 1, 4: 1, 5: 1, 6: 1, 7: 1, 8: 1, 9: 1, 10: 1, 11: 1, 12: 1, 13: 1, 14: 1, 15: 1, 16: 1, 17: 1, 18: 1, 19: 1, 20: 1, 21: 1, 22: 1, 23: 1, 24: 1, 25: 1, 26: 1, 27: 1, 28: 1, 29: 1, 30: 1, 31: 1, 32: 1, 33: 1, 34: 1, 35: 1, 36: 1, 37: 1, 38: 1, 39: 1}, '5HT2A': {0: 1, 1: 1, 2: 1, 3: 1, 4: 1, 5: 1, 6: 1, 7: 1, 8: 1, 9: 1, 10: 1, 11: 1, 12: 1, 13: 1, 14: 1, 15: 1, 16: 1, 17: 1, 18: 1, 19: 1, 20: 1, 21: 1, 22: 1, 23: 1, 24: 1, 25: 1, 26: 1, 27: 1, 28: 1, 29: 1, 30: 1, 31: 1, 32: 1, 33: 1, 34: 0, 35: 1, 36: 1, 37: 1, 38: 1, 39: 1}, '5HT2B': {0: 1, 1: 1, 2: 1, 3: 1, 4: 1, 5: 1, 6: 1, 7: 1, 8: 1, 9: 1, 10: 1, 11: 1, 12: 1, 13: 1, 14: 1, 15: 1, 16: 1, 17: 1, 18: 1, 19: 1, 20: 1, 21: 1, 22: 1, 23: 1, 24: 1, 25: 1, 26: 1, 27: 1, 28: 1, 29: 1, 30: 1, 31: 1, 32: 1, 33: 1, 34: 0, 35: 1, 36: 1, 37: 1, 38: 1, 39: 1}, '5HT2C': {0: 1, 1: 1, 2: 1, 3: 1, 4: 1, 5: 1, 6: 1, 7: 1, 8: 1, 9: 1, 10: 1, 11: 1, 12: 1, 13: 1, 14: 1, 15: 1, 16: 1, 17: 1, 18: 1, 19: 1, 20: 1, 21: 1, 22: 1, 23: 1, 24: 1, 25: 1, 26: 1, 27: 1, 28: 1, 29: 1, 30: 1, 31: 1, 32: 1, 33: 1, 34: 1, 35: 1, 36: 1, 37: 1, 38: 1, 39: 1}, '5HT5A': {0: 0, 1: 0, 2: 1, 3: 1, 4: 1, 5: 1, 6: 1, 7: 0, 8: 1, 9: 1, 10: 1, 11: 1, 12: 1, 13: 0, 14: 1, 15: 1, 16: 1, 17: 1, 18: 1, 19: 1, 20: 1, 21: 1, 22: 1, 23: 1, 24: 1, 25: 0, 26: 1, 27: 1, 28: 1, 29: 1, 30: 1, 31: 1, 32: 1, 33: 1, 34: 1, 35: 1, 36: 1, 37: 1, 38: 1, 39: 1}, '5HT6': {0: 0, 1: 1, 2: 1, 3: 1, 4: 1, 5: 1, 6: 0, 7: 1, 8: 1, 9: 1, 10: 1, 11: 1, 12: 1, 13: 0, 14: 0, 15: 0, 16: 1, 17: 0, 18: 0, 19: 1, 20: 1, 21: 0, 22: 0, 23: 0, 24: 1, 25: 0, 26: 0, 27: 1, 28: 1, 29: 1, 30: 1, 31: 0, 32: 0, 33: 0, 34: 0, 35: 1, 36: 1, 37: 1, 38: 1, 39: 1}, '5HT7': {0: 0, 1: 0, 2: 0, 3: 0, 4: 0, 5: 1, 6: 0, 7: 1, 8: 1, 9: 0, 10: 1, 11: 1, 12: 1, 13: 0, 14: 0, 15: 0, 16: 0, 17: 0, 18: 0, 19: 1, 20: 0, 21: 0, 22: 0, 23: 0, 24: 1, 25: 0, 26: 0, 27: 0, 28: 0, 29: 1, 30: 0, 31: 0, 32: 0, 33: 0, 34: 0, 35: 1, 36: 1, 37: 1, 38: 1, 39: 1}, 'Alpha1A': {0: 0, 1: 0, 2: 0, 3: 1, 4: 1, 5: 0, 6: 0, 7: 1, 8: 1, 9: 1, 10: 1, 11: 1, 12: 1, 13: 0, 14: 0, 15: 0, 16: 1, 17: 1, 18: 0, 19: 1, 20: 1, 21: 1, 22: 1, 23: 1, 24: 1, 25: 0, 26: 0, 27: 1, 28: 1, 29: 1, 30: 1, 31: 0, 32: 0, 33: 0, 34: 0, 35: 1, 36: 0, 37: 1, 38: 0, 39: 1}, 'Alpha1B': {0: 0, 1: 0, 2: 0, 3: 0, 4: 0, 5: 0, 6: 0, 7: 1, 8: 1, 9: 0, 10: 1, 11: 0, 12: 1, 13: 0, 14: 0, 15: 0, 16: 0, 17: 0, 18: 0, 19: 1, 20: 0, 21: 0, 22: 0, 23: 0, 24: 1, 25: 1, 26: 0, 27: 1, 28: 1, 29: 1, 30: 0, 31: 0, 32: 0, 33: 0, 34: 0, 35: 1, 36: 0, 37: 0, 38: 0, 39: 0}, 'Alpha1D': {0: 0, 1: 0, 2: 0, 3: 0, 4: 0, 5: 0, 6: 0, 7: 0, 8: 1, 9: 0, 10: 0, 11: 0, 12: 1, 13: 0, 14: 0, 15: 0, 16: 1, 17: 0, 18: 0, 19: 1, 20: 1, 21: 0, 22: 0, 23: 0, 24: 1, 25: 1, 26: 0, 27: 1, 28: 1, 29: 1, 30: 1, 31: 1, 32: 0, 33: 0, 34: 0, 35: 1, 36: 1, 37: 0, 38: 0, 39: 0}, 'Alpha2A': {0: 0, 1: 0, 2: 0, 3: 0, 4: 0, 5: 0, 6: 0, 7: 0, 8: 0, 9: 0, 10: 0, 11: 0, 12: 0, 13: 0, 14: 0, 15: 0, 16: 1, 17: 0, 18: 0, 19: 1, 20: 1, 21: 1, 22: 1, 23: 0, 24: 1, 25: 0, 26: 0, 27: 1, 28: 1, 29: 1, 30: 0, 31: 0, 32: 0, 33: 1, 34: 0, 35: 0, 36: 1, 37: 0, 38: 0, 39: 0}, 'Alpha2B': {0: 0, 1: 0, 2: 0, 3: 0, 4: 0, 5: 0, 6: 1, 7: 0, 8: 0, 9: 0, 10: 0, 11: 0, 12: 1, 13: 0, 14: 0, 15: 0, 16: 1, 17: 0, 18: 0, 19: 1, 20: 0, 21: 0, 22: 0, 23: 0, 24: 1, 25: 1, 26: 0, 27: 1, 28: 1, 29: 1, 30: 0, 31: 0, 32: 0, 33: 0, 34: 0, 35: 0, 36: 1, 37: 0, 38: 0, 39: 0}, 'Alpha2C': {0: 0, 1: 0, 2: 0, 3: 0, 4: 0, 5: 0, 6: 0, 7: 0, 8: 0, 9: 0, 10: 0, 11: 0, 12: 0, 13: 0, 14: 0, 15: 0, 16: 0, 17: 0, 18: 0, 19: 1, 20: 1, 21: 0, 22: 1, 23: 0, 24: 1, 25: 0, 26: 0, 27: 1, 28: 1, 29: 1, 30: 0, 31: 0, 32: 0, 33: 0, 34: 0, 35: 0, 36: 1, 37: 0, 38: 0, 39: 0}, 'Beta2AR': {0: 0, 1: 0, 2: 0, 3: 0, 4: 0, 5: 0, 6: 0, 7: 0, 8: 0, 9: 0, 10: 0, 11: 0, 12: 0, 13: 0, 14: 0, 15: 0, 16: 0, 17: 0, 18: 0, 19: 0, 20: 0, 21: 0, 22: 0, 23: 0, 24: 1, 25: 0, 26: 0, 27: 0, 28: 0, 29: 0, 30: 0, 31: 0, 32: 0, 33: 0, 34: 0, 35: 0, 36: 0, 37: 0, 38: 0, 39: 0}, 'Beta3AR': {0: 0, 1: 0, 2: 0, 3: 0, 4: 0, 5: 0, 6: 0, 7: 0, 8: 0, 9: 0, 10: 0, 11: 0, 12: 1, 13: 0, 14: 0, 15: 0, 16: 1, 17: 0, 18: 0, 19: 1, 20: 0, 21: 0, 22: 0, 23: 0, 24: 1, 25: 1, 26: 0, 27: 1, 28: 1, 29: 0, 30: 0, 31: 0, 32: 0, 33: 0, 34: 0, 35: 0, 36: 0, 37: 0, 38: 0, 39: 0}, 'DRD1': {0: 0, 1: 0, 2: 0, 3: 0, 4: 0, 5: 0, 6: 0, 7: 0, 8: 0, 9: 0, 10: 0, 11: 0, 12: 1, 13: 0, 14: 0, 15: 0, 16: 0, 17: 0, 18: 0, 19: 1, 20: 1, 21: 0, 22: 0, 23: 0, 24: 1, 25: 0, 26: 0, 27: 1, 28: 1, 29: 1, 30: 1, 31: 0, 32: 0, 33: 0, 34: 0, 35: 0, 36: 1, 37: 0, 38: 0, 39: 0}, 'DRD2': {0: 1, 1: 0, 2: 0, 3: 0, 4: 1, 5: 1, 6: 0, 7: 1, 8: 1, 9: 0, 10: 1, 11: 1, 12: 1, 13: 1, 14: 1, 15: 1, 16: 1, 17: 1, 18: 1, 19: 1, 20: 1, 21: 1, 22: 1, 23: 0, 24: 1, 25: 0, 26: 0, 27: 1, 28: 1, 29: 1, 30: 1, 31: 0, 32: 0, 33: 1, 34: 1, 35: 0, 36: 1, 37: 1, 38: 0, 39: 1}, 'DRD3': {0: 0, 1: 0, 2: 1, 3: 1, 4: 1, 5: 1, 6: 0, 7: 1, 8: 1, 9: 0, 10: 1, 11: 1, 12: 1, 13: 1, 14: 1, 15: 1, 16: 1, 17: 0, 18: 1, 19: 1, 20: 1, 21: 1, 22: 1, 23: 1, 24: 1, 25: 0, 26: 0, 27: 1, 28: 1, 29: 1, 30: 1, 31: 1, 32: 1, 33: 1, 34: 0, 35: 1, 36: 1, 37: 1, 38: 0, 39: 1}, 'DRD4': {0: 0, 1: 0, 2: 0, 3: 0, 4: 0, 5: 0, 6: 0, 7: 1, 8: 1, 9: 1, 10: 0, 11: 0, 12: 1, 13: 1, 14: 1, 15: 1, 16: 1, 17: 0, 18: 1, 19: 1, 20: 1, 21: 1, 22: 0, 23: 1, 24: 1, 25: 1, 26: 0, 27: 1, 28: 1, 29: 1, 30: 1, 31: 0, 32: 0, 33: 0, 34: 0, 35: 0, 36: 1, 37: 0, 38: 0, 39: 0}, 'DRD5': {0: 0, 1: 0, 2: 0, 3: 1, 4: 0, 5: 0, 6: 0, 7: 1, 8: 0, 9: 0, 10: 0, 11: 0, 12: 1, 13: 0, 14: 0, 15: 0, 16: 0, 17: 1, 18: 0, 19: 1, 20: 1, 21: 0, 22: 0, 23: 0, 24: 1, 25: 0, 26: 0, 27: 1, 28: 1, 29: 1, 30: 1, 31: 0, 32: 0, 33: 0, 34: 0, 35: 0, 36: 1, 37: 0, 38: 0, 39: 0}}\n"
     ]
    }
   ],
   "source": [
    "drug_label = drug_receptor_label.drop(columns=['receptor'])\n",
    "print(drug_label.head())\n",
    "drug_label.to_csv('/Users/xiaomuou620/Desktop/PRIVATE_DATA/selected_file_multilabel.csv', index=False)\n",
    "\n",
    "# df_indexed = drug_label.set_index('drug')\n",
    "drug_dict = drug_label.to_dict()\n",
    "print(drug_dict)"
   ]
  },
  {
   "cell_type": "markdown",
   "metadata": {},
   "source": [
    "### Fingerprint data processing"
   ]
  },
  {
   "cell_type": "code",
   "execution_count": 8,
   "metadata": {},
   "outputs": [],
   "source": [
    "# Extract the names (first column)\n",
    "drug_names_fingerprints = fingerprints['Name']\n",
    "fingerprints_detail = fingerprints.drop('Name', axis=1)  # Drop the name column by index\n",
    "\n",
    "# Create a dictionary where names are keys and fingerprints are lists of values\n",
    "# csv_dict = {name: fingerprint.tolist() for name, fingerprint in zip(drug_names_fingerprints, fingerprints_detail.values)}\n"
   ]
  },
  {
   "cell_type": "markdown",
   "metadata": {},
   "source": [
    "### Merge feature and labels"
   ]
  },
  {
   "cell_type": "code",
   "execution_count": 10,
   "metadata": {},
   "outputs": [],
   "source": [
    "data_merged = pd.merge(drug_label, fingerprints, left_on='drug', right_on='Name').drop(columns=['Name'])\n",
    "# data_merged.to_csv('/Users/xiaomuou620/Desktop/PRIVATE_DATA/data_merged.csv', index=False)\n"
   ]
  },
  {
   "cell_type": "markdown",
   "metadata": {},
   "source": [
    "## Training"
   ]
  },
  {
   "cell_type": "code",
   "execution_count": 11,
   "metadata": {},
   "outputs": [
    {
     "name": "stdout",
     "output_type": "stream",
     "text": [
      "(40, 167) (40, 24)\n"
     ]
    }
   ],
   "source": [
    "X = data_merged.drop(columns=['drug'] + list(mlb.classes_))\n",
    "y = data_merged[list(mlb.classes_)]\n",
    "\n",
    "print(X.shape, y.shape)\n"
   ]
  },
  {
   "cell_type": "code",
   "execution_count": 12,
   "metadata": {},
   "outputs": [],
   "source": [
    "X_train, X_test, y_train, y_test = train_test_split(X, y, test_size=0.3, random_state=42)"
   ]
  },
  {
   "cell_type": "markdown",
   "metadata": {},
   "source": [
    "## Optuna"
   ]
  },
  {
   "cell_type": "code",
   "execution_count": 13,
   "metadata": {},
   "outputs": [
    {
     "name": "stderr",
     "output_type": "stream",
     "text": [
      "/Users/xiaomuou620/opt/miniconda3/envs/Project1/lib/python3.8/site-packages/tqdm/auto.py:21: TqdmWarning: IProgress not found. Please update jupyter and ipywidgets. See https://ipywidgets.readthedocs.io/en/stable/user_install.html\n",
      "  from .autonotebook import tqdm as notebook_tqdm\n",
      "[I 2024-11-20 14:57:32,637] A new study created in memory with name: no-name-f4d1967c-d394-48cf-9040-ab7b9f3b6d8c\n",
      "[I 2024-11-20 14:57:32,752] Trial 0 finished with value: 0.13194444444444445 and parameters: {'n_estimators': 117, 'max_depth': 5, 'min_samples_split': 7, 'min_samples_leaf': 1, 'bootstrap': False}. Best is trial 0 with value: 0.13194444444444445.\n",
      "[I 2024-11-20 14:57:32,789] Trial 1 finished with value: 0.125 and parameters: {'n_estimators': 39, 'max_depth': 13, 'min_samples_split': 3, 'min_samples_leaf': 2, 'bootstrap': False}. Best is trial 1 with value: 0.125.\n",
      "[I 2024-11-20 14:57:32,917] Trial 2 finished with value: 0.125 and parameters: {'n_estimators': 131, 'max_depth': 16, 'min_samples_split': 8, 'min_samples_leaf': 3, 'bootstrap': True}. Best is trial 1 with value: 0.125.\n",
      "[I 2024-11-20 14:57:33,014] Trial 3 finished with value: 0.1284722222222222 and parameters: {'n_estimators': 83, 'max_depth': 14, 'min_samples_split': 5, 'min_samples_leaf': 2, 'bootstrap': False}. Best is trial 1 with value: 0.125.\n",
      "[I 2024-11-20 14:57:33,215] Trial 4 finished with value: 0.13194444444444445 and parameters: {'n_estimators': 191, 'max_depth': 17, 'min_samples_split': 10, 'min_samples_leaf': 1, 'bootstrap': True}. Best is trial 1 with value: 0.125.\n",
      "[I 2024-11-20 14:57:33,258] Trial 5 finished with value: 0.13541666666666666 and parameters: {'n_estimators': 40, 'max_depth': 30, 'min_samples_split': 6, 'min_samples_leaf': 4, 'bootstrap': True}. Best is trial 1 with value: 0.125.\n",
      "[I 2024-11-20 14:57:33,314] Trial 6 finished with value: 0.12152777777777778 and parameters: {'n_estimators': 62, 'max_depth': 28, 'min_samples_split': 4, 'min_samples_leaf': 3, 'bootstrap': False}. Best is trial 6 with value: 0.12152777777777778.\n",
      "[I 2024-11-20 14:57:33,490] Trial 7 finished with value: 0.11805555555555555 and parameters: {'n_estimators': 170, 'max_depth': 26, 'min_samples_split': 5, 'min_samples_leaf': 3, 'bootstrap': True}. Best is trial 7 with value: 0.11805555555555555.\n",
      "[I 2024-11-20 14:57:33,622] Trial 8 finished with value: 0.125 and parameters: {'n_estimators': 125, 'max_depth': 17, 'min_samples_split': 9, 'min_samples_leaf': 3, 'bootstrap': True}. Best is trial 7 with value: 0.11805555555555555.\n",
      "[I 2024-11-20 14:57:33,733] Trial 9 finished with value: 0.1284722222222222 and parameters: {'n_estimators': 128, 'max_depth': 28, 'min_samples_split': 6, 'min_samples_leaf': 3, 'bootstrap': False}. Best is trial 7 with value: 0.11805555555555555.\n",
      "[I 2024-11-20 14:57:33,939] Trial 10 finished with value: 0.1388888888888889 and parameters: {'n_estimators': 190, 'max_depth': 23, 'min_samples_split': 2, 'min_samples_leaf': 4, 'bootstrap': True}. Best is trial 7 with value: 0.11805555555555555.\n",
      "[I 2024-11-20 14:57:34,019] Trial 11 finished with value: 0.125 and parameters: {'n_estimators': 72, 'max_depth': 24, 'min_samples_split': 4, 'min_samples_leaf': 3, 'bootstrap': False}. Best is trial 7 with value: 0.11805555555555555.\n",
      "[I 2024-11-20 14:57:34,053] Trial 12 finished with value: 0.11805555555555555 and parameters: {'n_estimators': 16, 'max_depth': 23, 'min_samples_split': 4, 'min_samples_leaf': 4, 'bootstrap': False}. Best is trial 7 with value: 0.11805555555555555.\n",
      "[I 2024-11-20 14:57:34,087] Trial 13 finished with value: 0.14930555555555555 and parameters: {'n_estimators': 15, 'max_depth': 22, 'min_samples_split': 4, 'min_samples_leaf': 4, 'bootstrap': True}. Best is trial 7 with value: 0.11805555555555555.\n",
      "[I 2024-11-20 14:57:34,233] Trial 14 finished with value: 0.1284722222222222 and parameters: {'n_estimators': 155, 'max_depth': 25, 'min_samples_split': 2, 'min_samples_leaf': 4, 'bootstrap': False}. Best is trial 7 with value: 0.11805555555555555.\n",
      "[I 2024-11-20 14:57:34,403] Trial 15 finished with value: 0.125 and parameters: {'n_estimators': 160, 'max_depth': 19, 'min_samples_split': 5, 'min_samples_leaf': 2, 'bootstrap': True}. Best is trial 7 with value: 0.11805555555555555.\n",
      "[I 2024-11-20 14:57:34,502] Trial 16 finished with value: 0.1388888888888889 and parameters: {'n_estimators': 88, 'max_depth': 21, 'min_samples_split': 7, 'min_samples_leaf': 4, 'bootstrap': True}. Best is trial 7 with value: 0.11805555555555555.\n",
      "[I 2024-11-20 14:57:34,643] Trial 17 finished with value: 0.1284722222222222 and parameters: {'n_estimators': 163, 'max_depth': 27, 'min_samples_split': 5, 'min_samples_leaf': 4, 'bootstrap': False}. Best is trial 7 with value: 0.11805555555555555.\n",
      "[I 2024-11-20 14:57:34,673] Trial 18 finished with value: 0.125 and parameters: {'n_estimators': 15, 'max_depth': 10, 'min_samples_split': 3, 'min_samples_leaf': 3, 'bootstrap': False}. Best is trial 7 with value: 0.11805555555555555.\n",
      "[I 2024-11-20 14:57:34,795] Trial 19 finished with value: 0.125 and parameters: {'n_estimators': 105, 'max_depth': 21, 'min_samples_split': 6, 'min_samples_leaf': 2, 'bootstrap': True}. Best is trial 7 with value: 0.11805555555555555.\n",
      "[I 2024-11-20 14:57:34,855] Trial 20 finished with value: 0.125 and parameters: {'n_estimators': 53, 'max_depth': 26, 'min_samples_split': 3, 'min_samples_leaf': 4, 'bootstrap': False}. Best is trial 7 with value: 0.11805555555555555.\n",
      "[I 2024-11-20 14:57:34,923] Trial 21 finished with value: 0.12152777777777778 and parameters: {'n_estimators': 64, 'max_depth': 30, 'min_samples_split': 4, 'min_samples_leaf': 3, 'bootstrap': False}. Best is trial 7 with value: 0.11805555555555555.\n",
      "[I 2024-11-20 14:57:34,973] Trial 22 finished with value: 0.12152777777777778 and parameters: {'n_estimators': 40, 'max_depth': 29, 'min_samples_split': 4, 'min_samples_leaf': 3, 'bootstrap': False}. Best is trial 7 with value: 0.11805555555555555.\n",
      "[I 2024-11-20 14:57:35,013] Trial 23 finished with value: 0.12152777777777778 and parameters: {'n_estimators': 27, 'max_depth': 26, 'min_samples_split': 5, 'min_samples_leaf': 3, 'bootstrap': False}. Best is trial 7 with value: 0.11805555555555555.\n",
      "[I 2024-11-20 14:57:35,115] Trial 24 finished with value: 0.1284722222222222 and parameters: {'n_estimators': 102, 'max_depth': 24, 'min_samples_split': 3, 'min_samples_leaf': 2, 'bootstrap': False}. Best is trial 7 with value: 0.11805555555555555.\n",
      "[I 2024-11-20 14:57:35,179] Trial 25 finished with value: 0.12152777777777778 and parameters: {'n_estimators': 56, 'max_depth': 20, 'min_samples_split': 4, 'min_samples_leaf': 3, 'bootstrap': False}. Best is trial 7 with value: 0.11805555555555555.\n",
      "[I 2024-11-20 14:57:35,208] Trial 26 finished with value: 0.1423611111111111 and parameters: {'n_estimators': 10, 'max_depth': 28, 'min_samples_split': 7, 'min_samples_leaf': 4, 'bootstrap': True}. Best is trial 7 with value: 0.11805555555555555.\n",
      "[I 2024-11-20 14:57:35,348] Trial 27 finished with value: 0.125 and parameters: {'n_estimators': 149, 'max_depth': 26, 'min_samples_split': 6, 'min_samples_leaf': 3, 'bootstrap': False}. Best is trial 7 with value: 0.11805555555555555.\n",
      "[I 2024-11-20 14:57:35,537] Trial 28 finished with value: 0.1284722222222222 and parameters: {'n_estimators': 179, 'max_depth': 23, 'min_samples_split': 5, 'min_samples_leaf': 2, 'bootstrap': True}. Best is trial 7 with value: 0.11805555555555555.\n",
      "[I 2024-11-20 14:57:35,621] Trial 29 finished with value: 0.13194444444444445 and parameters: {'n_estimators': 80, 'max_depth': 5, 'min_samples_split': 7, 'min_samples_leaf': 1, 'bootstrap': False}. Best is trial 7 with value: 0.11805555555555555.\n",
      "[I 2024-11-20 14:57:35,712] Trial 30 finished with value: 0.125 and parameters: {'n_estimators': 92, 'max_depth': 28, 'min_samples_split': 2, 'min_samples_leaf': 4, 'bootstrap': False}. Best is trial 7 with value: 0.11805555555555555.\n",
      "[I 2024-11-20 14:57:35,785] Trial 31 finished with value: 0.125 and parameters: {'n_estimators': 66, 'max_depth': 30, 'min_samples_split': 4, 'min_samples_leaf': 3, 'bootstrap': False}. Best is trial 7 with value: 0.11805555555555555.\n",
      "[I 2024-11-20 14:57:35,848] Trial 32 finished with value: 0.12152777777777778 and parameters: {'n_estimators': 57, 'max_depth': 30, 'min_samples_split': 3, 'min_samples_leaf': 3, 'bootstrap': False}. Best is trial 7 with value: 0.11805555555555555.\n",
      "[I 2024-11-20 14:57:35,887] Trial 33 finished with value: 0.12152777777777778 and parameters: {'n_estimators': 26, 'max_depth': 27, 'min_samples_split': 4, 'min_samples_leaf': 3, 'bootstrap': False}. Best is trial 7 with value: 0.11805555555555555.\n",
      "[I 2024-11-20 14:57:35,989] Trial 34 finished with value: 0.125 and parameters: {'n_estimators': 107, 'max_depth': 25, 'min_samples_split': 5, 'min_samples_leaf': 3, 'bootstrap': False}. Best is trial 7 with value: 0.11805555555555555.\n",
      "[I 2024-11-20 14:57:36,032] Trial 35 finished with value: 0.125 and parameters: {'n_estimators': 29, 'max_depth': 29, 'min_samples_split': 4, 'min_samples_leaf': 2, 'bootstrap': False}. Best is trial 7 with value: 0.11805555555555555.\n",
      "[I 2024-11-20 14:57:36,162] Trial 36 finished with value: 0.1284722222222222 and parameters: {'n_estimators': 143, 'max_depth': 14, 'min_samples_split': 3, 'min_samples_leaf': 2, 'bootstrap': False}. Best is trial 7 with value: 0.11805555555555555.\n",
      "[I 2024-11-20 14:57:36,226] Trial 37 finished with value: 0.125 and parameters: {'n_estimators': 47, 'max_depth': 27, 'min_samples_split': 6, 'min_samples_leaf': 3, 'bootstrap': True}. Best is trial 7 with value: 0.11805555555555555.\n",
      "[I 2024-11-20 14:57:36,311] Trial 38 finished with value: 0.12152777777777778 and parameters: {'n_estimators': 71, 'max_depth': 24, 'min_samples_split': 5, 'min_samples_leaf': 3, 'bootstrap': True}. Best is trial 7 with value: 0.11805555555555555.\n",
      "[I 2024-11-20 14:57:36,418] Trial 39 finished with value: 0.13194444444444445 and parameters: {'n_estimators': 115, 'max_depth': 19, 'min_samples_split': 8, 'min_samples_leaf': 1, 'bootstrap': False}. Best is trial 7 with value: 0.11805555555555555.\n",
      "[I 2024-11-20 14:57:36,567] Trial 40 finished with value: 0.1284722222222222 and parameters: {'n_estimators': 172, 'max_depth': 29, 'min_samples_split': 4, 'min_samples_leaf': 4, 'bootstrap': False}. Best is trial 7 with value: 0.11805555555555555.\n",
      "[I 2024-11-20 14:57:36,618] Trial 41 finished with value: 0.12152777777777778 and parameters: {'n_estimators': 40, 'max_depth': 29, 'min_samples_split': 4, 'min_samples_leaf': 3, 'bootstrap': False}. Best is trial 7 with value: 0.11805555555555555.\n",
      "[I 2024-11-20 14:57:36,665] Trial 42 finished with value: 0.12152777777777778 and parameters: {'n_estimators': 33, 'max_depth': 30, 'min_samples_split': 3, 'min_samples_leaf': 3, 'bootstrap': False}. Best is trial 7 with value: 0.11805555555555555.\n",
      "[I 2024-11-20 14:57:36,841] Trial 43 finished with value: 0.125 and parameters: {'n_estimators': 200, 'max_depth': 28, 'min_samples_split': 5, 'min_samples_leaf': 3, 'bootstrap': False}. Best is trial 7 with value: 0.11805555555555555.\n",
      "[I 2024-11-20 14:57:36,896] Trial 44 finished with value: 0.12152777777777778 and parameters: {'n_estimators': 45, 'max_depth': 25, 'min_samples_split': 4, 'min_samples_leaf': 3, 'bootstrap': False}. Best is trial 7 with value: 0.11805555555555555.\n",
      "[I 2024-11-20 14:57:36,935] Trial 45 finished with value: 0.1388888888888889 and parameters: {'n_estimators': 21, 'max_depth': 27, 'min_samples_split': 5, 'min_samples_leaf': 4, 'bootstrap': True}. Best is trial 7 with value: 0.11805555555555555.\n",
      "[I 2024-11-20 14:57:37,000] Trial 46 finished with value: 0.12152777777777778 and parameters: {'n_estimators': 60, 'max_depth': 23, 'min_samples_split': 2, 'min_samples_leaf': 3, 'bootstrap': False}. Best is trial 7 with value: 0.11805555555555555.\n",
      "[I 2024-11-20 14:57:37,052] Trial 47 finished with value: 0.13194444444444445 and parameters: {'n_estimators': 36, 'max_depth': 29, 'min_samples_split': 3, 'min_samples_leaf': 4, 'bootstrap': True}. Best is trial 7 with value: 0.11805555555555555.\n",
      "[I 2024-11-20 14:57:37,132] Trial 48 finished with value: 0.125 and parameters: {'n_estimators': 79, 'max_depth': 26, 'min_samples_split': 10, 'min_samples_leaf': 3, 'bootstrap': False}. Best is trial 7 with value: 0.11805555555555555.\n",
      "[I 2024-11-20 14:57:37,200] Trial 49 finished with value: 0.1284722222222222 and parameters: {'n_estimators': 50, 'max_depth': 15, 'min_samples_split': 6, 'min_samples_leaf': 2, 'bootstrap': True}. Best is trial 7 with value: 0.11805555555555555.\n",
      "[I 2024-11-20 14:57:37,274] Trial 50 finished with value: 0.125 and parameters: {'n_estimators': 68, 'max_depth': 22, 'min_samples_split': 4, 'min_samples_leaf': 4, 'bootstrap': False}. Best is trial 7 with value: 0.11805555555555555.\n",
      "[I 2024-11-20 14:57:37,311] Trial 51 finished with value: 0.125 and parameters: {'n_estimators': 21, 'max_depth': 25, 'min_samples_split': 5, 'min_samples_leaf': 3, 'bootstrap': False}. Best is trial 7 with value: 0.11805555555555555.\n",
      "[I 2024-11-20 14:57:37,363] Trial 52 finished with value: 0.12152777777777778 and parameters: {'n_estimators': 41, 'max_depth': 26, 'min_samples_split': 5, 'min_samples_leaf': 3, 'bootstrap': False}. Best is trial 7 with value: 0.11805555555555555.\n",
      "[I 2024-11-20 14:57:37,399] Trial 53 finished with value: 0.125 and parameters: {'n_estimators': 22, 'max_depth': 28, 'min_samples_split': 4, 'min_samples_leaf': 3, 'bootstrap': False}. Best is trial 7 with value: 0.11805555555555555.\n",
      "[I 2024-11-20 14:57:37,428] Trial 54 finished with value: 0.125 and parameters: {'n_estimators': 12, 'max_depth': 10, 'min_samples_split': 5, 'min_samples_leaf': 3, 'bootstrap': False}. Best is trial 7 with value: 0.11805555555555555.\n",
      "[I 2024-11-20 14:57:37,554] Trial 55 finished with value: 0.125 and parameters: {'n_estimators': 138, 'max_depth': 30, 'min_samples_split': 6, 'min_samples_leaf': 3, 'bootstrap': False}. Best is trial 7 with value: 0.11805555555555555.\n",
      "[I 2024-11-20 14:57:37,622] Trial 56 finished with value: 0.12152777777777778 and parameters: {'n_estimators': 62, 'max_depth': 27, 'min_samples_split': 4, 'min_samples_leaf': 3, 'bootstrap': False}. Best is trial 7 with value: 0.11805555555555555.\n",
      "[I 2024-11-20 14:57:37,669] Trial 57 finished with value: 0.1388888888888889 and parameters: {'n_estimators': 30, 'max_depth': 24, 'min_samples_split': 5, 'min_samples_leaf': 4, 'bootstrap': True}. Best is trial 7 with value: 0.11805555555555555.\n",
      "[I 2024-11-20 14:57:37,770] Trial 58 finished with value: 0.1284722222222222 and parameters: {'n_estimators': 98, 'max_depth': 28, 'min_samples_split': 3, 'min_samples_leaf': 2, 'bootstrap': False}. Best is trial 7 with value: 0.11805555555555555.\n",
      "[I 2024-11-20 14:57:37,847] Trial 59 finished with value: 0.125 and parameters: {'n_estimators': 75, 'max_depth': 26, 'min_samples_split': 4, 'min_samples_leaf': 3, 'bootstrap': False}. Best is trial 7 with value: 0.11805555555555555.\n",
      "[I 2024-11-20 14:57:37,883] Trial 60 finished with value: 0.12152777777777778 and parameters: {'n_estimators': 18, 'max_depth': 22, 'min_samples_split': 3, 'min_samples_leaf': 3, 'bootstrap': True}. Best is trial 7 with value: 0.11805555555555555.\n",
      "[I 2024-11-20 14:57:37,943] Trial 61 finished with value: 0.12152777777777778 and parameters: {'n_estimators': 52, 'max_depth': 21, 'min_samples_split': 5, 'min_samples_leaf': 3, 'bootstrap': False}. Best is trial 7 with value: 0.11805555555555555.\n",
      "[I 2024-11-20 14:57:37,990] Trial 62 finished with value: 0.11805555555555555 and parameters: {'n_estimators': 35, 'max_depth': 19, 'min_samples_split': 4, 'min_samples_leaf': 3, 'bootstrap': False}. Best is trial 7 with value: 0.11805555555555555.\n",
      "[I 2024-11-20 14:57:38,039] Trial 63 finished with value: 0.125 and parameters: {'n_estimators': 38, 'max_depth': 17, 'min_samples_split': 4, 'min_samples_leaf': 3, 'bootstrap': False}. Best is trial 7 with value: 0.11805555555555555.\n",
      "[I 2024-11-20 14:57:38,079] Trial 64 finished with value: 0.12152777777777778 and parameters: {'n_estimators': 26, 'max_depth': 18, 'min_samples_split': 4, 'min_samples_leaf': 3, 'bootstrap': False}. Best is trial 7 with value: 0.11805555555555555.\n",
      "[I 2024-11-20 14:57:38,135] Trial 65 finished with value: 0.125 and parameters: {'n_estimators': 46, 'max_depth': 20, 'min_samples_split': 6, 'min_samples_leaf': 2, 'bootstrap': False}. Best is trial 7 with value: 0.11805555555555555.\n",
      "[I 2024-11-20 14:57:38,178] Trial 66 finished with value: 0.125 and parameters: {'n_estimators': 29, 'max_depth': 12, 'min_samples_split': 3, 'min_samples_leaf': 4, 'bootstrap': False}. Best is trial 7 with value: 0.11805555555555555.\n",
      "[I 2024-11-20 14:57:38,224] Trial 67 finished with value: 0.12152777777777778 and parameters: {'n_estimators': 36, 'max_depth': 23, 'min_samples_split': 5, 'min_samples_leaf': 3, 'bootstrap': False}. Best is trial 7 with value: 0.11805555555555555.\n",
      "[I 2024-11-20 14:57:38,309] Trial 68 finished with value: 0.125 and parameters: {'n_estimators': 84, 'max_depth': 29, 'min_samples_split': 4, 'min_samples_leaf': 3, 'bootstrap': False}. Best is trial 7 with value: 0.11805555555555555.\n",
      "[I 2024-11-20 14:57:38,389] Trial 69 finished with value: 0.12152777777777778 and parameters: {'n_estimators': 64, 'max_depth': 27, 'min_samples_split': 4, 'min_samples_leaf': 3, 'bootstrap': True}. Best is trial 7 with value: 0.11805555555555555.\n",
      "[I 2024-11-20 14:57:38,510] Trial 70 finished with value: 0.11805555555555555 and parameters: {'n_estimators': 121, 'max_depth': 25, 'min_samples_split': 3, 'min_samples_leaf': 1, 'bootstrap': False}. Best is trial 7 with value: 0.11805555555555555.\n",
      "[I 2024-11-20 14:57:38,631] Trial 71 finished with value: 0.11805555555555555 and parameters: {'n_estimators': 122, 'max_depth': 24, 'min_samples_split': 3, 'min_samples_leaf': 1, 'bootstrap': False}. Best is trial 7 with value: 0.11805555555555555.\n",
      "[I 2024-11-20 14:57:38,753] Trial 72 finished with value: 0.11458333333333333 and parameters: {'n_estimators': 120, 'max_depth': 24, 'min_samples_split': 2, 'min_samples_leaf': 1, 'bootstrap': False}. Best is trial 72 with value: 0.11458333333333333.\n",
      "[I 2024-11-20 14:57:38,877] Trial 73 finished with value: 0.11458333333333333 and parameters: {'n_estimators': 119, 'max_depth': 22, 'min_samples_split': 2, 'min_samples_leaf': 1, 'bootstrap': False}. Best is trial 72 with value: 0.11458333333333333.\n",
      "[I 2024-11-20 14:57:39,003] Trial 74 finished with value: 0.11458333333333333 and parameters: {'n_estimators': 121, 'max_depth': 24, 'min_samples_split': 2, 'min_samples_leaf': 1, 'bootstrap': False}. Best is trial 72 with value: 0.11458333333333333.\n",
      "[I 2024-11-20 14:57:39,133] Trial 75 finished with value: 0.11458333333333333 and parameters: {'n_estimators': 122, 'max_depth': 24, 'min_samples_split': 2, 'min_samples_leaf': 1, 'bootstrap': False}. Best is trial 72 with value: 0.11458333333333333.\n",
      "[I 2024-11-20 14:57:39,277] Trial 76 finished with value: 0.11458333333333333 and parameters: {'n_estimators': 114, 'max_depth': 21, 'min_samples_split': 2, 'min_samples_leaf': 1, 'bootstrap': False}. Best is trial 72 with value: 0.11458333333333333.\n",
      "[I 2024-11-20 14:57:39,401] Trial 77 finished with value: 0.11458333333333333 and parameters: {'n_estimators': 112, 'max_depth': 22, 'min_samples_split': 2, 'min_samples_leaf': 1, 'bootstrap': False}. Best is trial 72 with value: 0.11458333333333333.\n",
      "[I 2024-11-20 14:57:39,520] Trial 78 finished with value: 0.11458333333333333 and parameters: {'n_estimators': 112, 'max_depth': 21, 'min_samples_split': 2, 'min_samples_leaf': 1, 'bootstrap': False}. Best is trial 72 with value: 0.11458333333333333.\n",
      "[I 2024-11-20 14:57:39,652] Trial 79 finished with value: 0.11458333333333333 and parameters: {'n_estimators': 132, 'max_depth': 22, 'min_samples_split': 2, 'min_samples_leaf': 1, 'bootstrap': False}. Best is trial 72 with value: 0.11458333333333333.\n",
      "[I 2024-11-20 14:57:39,766] Trial 80 finished with value: 0.11458333333333333 and parameters: {'n_estimators': 112, 'max_depth': 22, 'min_samples_split': 2, 'min_samples_leaf': 1, 'bootstrap': False}. Best is trial 72 with value: 0.11458333333333333.\n",
      "[I 2024-11-20 14:57:39,880] Trial 81 finished with value: 0.11458333333333333 and parameters: {'n_estimators': 112, 'max_depth': 22, 'min_samples_split': 2, 'min_samples_leaf': 1, 'bootstrap': False}. Best is trial 72 with value: 0.11458333333333333.\n",
      "[I 2024-11-20 14:57:40,012] Trial 82 finished with value: 0.11458333333333333 and parameters: {'n_estimators': 133, 'max_depth': 21, 'min_samples_split': 2, 'min_samples_leaf': 1, 'bootstrap': False}. Best is trial 72 with value: 0.11458333333333333.\n",
      "[I 2024-11-20 14:57:40,141] Trial 83 finished with value: 0.11458333333333333 and parameters: {'n_estimators': 130, 'max_depth': 20, 'min_samples_split': 2, 'min_samples_leaf': 1, 'bootstrap': False}. Best is trial 72 with value: 0.11458333333333333.\n",
      "[I 2024-11-20 14:57:40,253] Trial 84 finished with value: 0.11458333333333333 and parameters: {'n_estimators': 110, 'max_depth': 22, 'min_samples_split': 2, 'min_samples_leaf': 1, 'bootstrap': False}. Best is trial 72 with value: 0.11458333333333333.\n",
      "[I 2024-11-20 14:57:40,371] Trial 85 finished with value: 0.11458333333333333 and parameters: {'n_estimators': 118, 'max_depth': 20, 'min_samples_split': 2, 'min_samples_leaf': 1, 'bootstrap': False}. Best is trial 72 with value: 0.11458333333333333.\n",
      "[I 2024-11-20 14:57:40,474] Trial 86 finished with value: 0.11458333333333333 and parameters: {'n_estimators': 99, 'max_depth': 21, 'min_samples_split': 2, 'min_samples_leaf': 1, 'bootstrap': False}. Best is trial 72 with value: 0.11458333333333333.\n",
      "[I 2024-11-20 14:57:40,598] Trial 87 finished with value: 0.11458333333333333 and parameters: {'n_estimators': 125, 'max_depth': 23, 'min_samples_split': 2, 'min_samples_leaf': 1, 'bootstrap': False}. Best is trial 72 with value: 0.11458333333333333.\n",
      "[I 2024-11-20 14:57:40,731] Trial 88 finished with value: 0.11458333333333333 and parameters: {'n_estimators': 136, 'max_depth': 23, 'min_samples_split': 2, 'min_samples_leaf': 1, 'bootstrap': False}. Best is trial 72 with value: 0.11458333333333333.\n",
      "[I 2024-11-20 14:57:40,875] Trial 89 finished with value: 0.11458333333333333 and parameters: {'n_estimators': 149, 'max_depth': 22, 'min_samples_split': 2, 'min_samples_leaf': 1, 'bootstrap': False}. Best is trial 72 with value: 0.11458333333333333.\n",
      "[I 2024-11-20 14:57:40,995] Trial 90 finished with value: 0.11458333333333333 and parameters: {'n_estimators': 115, 'max_depth': 24, 'min_samples_split': 2, 'min_samples_leaf': 1, 'bootstrap': False}. Best is trial 72 with value: 0.11458333333333333.\n",
      "[I 2024-11-20 14:57:41,113] Trial 91 finished with value: 0.11458333333333333 and parameters: {'n_estimators': 111, 'max_depth': 22, 'min_samples_split': 2, 'min_samples_leaf': 1, 'bootstrap': False}. Best is trial 72 with value: 0.11458333333333333.\n",
      "[I 2024-11-20 14:57:41,225] Trial 92 finished with value: 0.11458333333333333 and parameters: {'n_estimators': 93, 'max_depth': 21, 'min_samples_split': 2, 'min_samples_leaf': 1, 'bootstrap': False}. Best is trial 72 with value: 0.11458333333333333.\n",
      "[I 2024-11-20 14:57:41,341] Trial 93 finished with value: 0.11458333333333333 and parameters: {'n_estimators': 104, 'max_depth': 23, 'min_samples_split': 2, 'min_samples_leaf': 1, 'bootstrap': False}. Best is trial 72 with value: 0.11458333333333333.\n",
      "[I 2024-11-20 14:57:41,469] Trial 94 finished with value: 0.11458333333333333 and parameters: {'n_estimators': 127, 'max_depth': 18, 'min_samples_split': 2, 'min_samples_leaf': 1, 'bootstrap': False}. Best is trial 72 with value: 0.11458333333333333.\n",
      "[I 2024-11-20 14:57:41,582] Trial 95 finished with value: 0.11458333333333333 and parameters: {'n_estimators': 109, 'max_depth': 22, 'min_samples_split': 2, 'min_samples_leaf': 1, 'bootstrap': False}. Best is trial 72 with value: 0.11458333333333333.\n",
      "[I 2024-11-20 14:57:41,703] Trial 96 finished with value: 0.11458333333333333 and parameters: {'n_estimators': 119, 'max_depth': 20, 'min_samples_split': 2, 'min_samples_leaf': 1, 'bootstrap': False}. Best is trial 72 with value: 0.11458333333333333.\n",
      "[I 2024-11-20 14:57:41,818] Trial 97 finished with value: 0.11458333333333333 and parameters: {'n_estimators': 113, 'max_depth': 24, 'min_samples_split': 2, 'min_samples_leaf': 1, 'bootstrap': False}. Best is trial 72 with value: 0.11458333333333333.\n",
      "[I 2024-11-20 14:57:41,959] Trial 98 finished with value: 0.11458333333333333 and parameters: {'n_estimators': 141, 'max_depth': 19, 'min_samples_split': 3, 'min_samples_leaf': 1, 'bootstrap': False}. Best is trial 72 with value: 0.11458333333333333.\n",
      "[I 2024-11-20 14:57:42,095] Trial 99 finished with value: 0.11458333333333333 and parameters: {'n_estimators': 123, 'max_depth': 21, 'min_samples_split': 2, 'min_samples_leaf': 1, 'bootstrap': False}. Best is trial 72 with value: 0.11458333333333333.\n"
     ]
    },
    {
     "name": "stdout",
     "output_type": "stream",
     "text": [
      "Best Hyperparameters: {'n_estimators': 120, 'max_depth': 24, 'min_samples_split': 2, 'min_samples_leaf': 1, 'bootstrap': False}\n",
      "\n",
      "--- Final Evaluation on Test Set with Best Hyperparameters ---\n",
      "Test Accuracy: 0.17\n",
      "Test Hamming Loss: 0.11\n",
      "Test F1 Score: 0.91\n",
      "Test Jaccard Index (samples average): 0.82\n"
     ]
    }
   ],
   "source": [
    "import optuna\n",
    "from sklearn.ensemble import RandomForestClassifier\n",
    "from sklearn.metrics import accuracy_score, hamming_loss, f1_score, jaccard_score\n",
    "from sklearn.model_selection import train_test_split\n",
    "\n",
    "\n",
    "# define the objective function\n",
    "def objective(trial):\n",
    "    # define the hyperparameters to optimize\n",
    "    n_estimators = trial.suggest_int(\"n_estimators\", 10, 200)\n",
    "    max_depth = trial.suggest_int(\"max_depth\", 5, 30)\n",
    "    min_samples_split = trial.suggest_int(\"min_samples_split\", 2, 10)\n",
    "    min_samples_leaf = trial.suggest_int(\"min_samples_leaf\", 1, 4)\n",
    "    bootstrap = trial.suggest_categorical(\"bootstrap\", [True, False])\n",
    "    \n",
    "    # create a random forest classifier with the specified hyperparameters\n",
    "    rf_classifier = RandomForestClassifier(\n",
    "        n_estimators=n_estimators,\n",
    "        max_depth=max_depth,\n",
    "        min_samples_split=min_samples_split,\n",
    "        min_samples_leaf=min_samples_leaf,\n",
    "        bootstrap=bootstrap,\n",
    "        random_state=42\n",
    "    )\n",
    "    \n",
    "    # train the model\n",
    "    rf_classifier.fit(X_train, y_train)\n",
    "    \n",
    "    # make predictions on the test set\n",
    "    y_pred = rf_classifier.predict(X_test)\n",
    "    \n",
    "    # evaluate the model using the Hamming loss metric\n",
    "    ''' ? should i minimize the hamming loss'''\n",
    "    hamming_loss_score = hamming_loss(y_test, y_pred) \n",
    "    \n",
    "    \n",
    "    # return the Hamming loss score\n",
    "    return hamming_loss_score\n",
    "\n",
    "# use Optuna to optimize the hyperparameters\n",
    "study = optuna.create_study(direction=\"minimize\")\n",
    "study.optimize(objective, n_trials=100) \n",
    "\n",
    "# output the best hyperparameters   \n",
    "print(\"Best Hyperparameters:\", study.best_params)\n",
    "\n",
    "# train a random forest classifier with the best hyperparameters\n",
    "best_params = study.best_params\n",
    "best_rf_classifier = RandomForestClassifier(**best_params, random_state=42)\n",
    "best_rf_classifier.fit(X_train, y_train)\n",
    "\n",
    "# make predictions on the test set\n",
    "y_test_pred = best_rf_classifier.predict(X_test)\n",
    "\n",
    "print(\"\\n--- Final Evaluation on Test Set with Best Hyperparameters ---\")\n",
    "print(f\"Test Accuracy: {accuracy_score(y_test, y_test_pred):.2f}\")\n",
    "print(f\"Test Hamming Loss: {hamming_loss(y_test, y_test_pred):.2f}\")\n",
    "print(f\"Test F1 Score: {f1_score(y_test, y_test_pred, average='micro'):.2f}\")\n",
    "print(f\"Test Jaccard Index (samples average): {jaccard_score(y_test, y_test_pred, average='samples'):.2f}\")\n"
   ]
  },
  {
   "cell_type": "code",
   "execution_count": 14,
   "metadata": {},
   "outputs": [
    {
     "name": "stdout",
     "output_type": "stream",
     "text": [
      "              precision    recall  f1-score   support\n",
      "\n",
      "       5HT1A       1.00      1.00      1.00        12\n",
      "       5HT1B       1.00      1.00      1.00        12\n",
      "       5HT1D       1.00      1.00      1.00        12\n",
      "       5HT1E       1.00      0.92      0.96        12\n",
      "       5HT1F       1.00      1.00      1.00        12\n",
      "       5HT2A       1.00      1.00      1.00        12\n",
      "       5HT2B       1.00      1.00      1.00        12\n",
      "       5HT2C       1.00      1.00      1.00        12\n",
      "       5HT5A       0.92      1.00      0.96        11\n",
      "        5HT6       1.00      0.88      0.93         8\n",
      "        5HT7       0.60      0.75      0.67         4\n",
      "     Alpha1A       0.88      0.88      0.88         8\n",
      "     Alpha1B       0.50      0.75      0.60         4\n",
      "     Alpha1D       0.80      0.80      0.80         5\n",
      "     Alpha2A       0.75      1.00      0.86         3\n",
      "     Alpha2B       1.00      0.67      0.80         6\n",
      "     Alpha2C       0.50      1.00      0.67         2\n",
      "     Beta2AR       0.00      0.00      0.00         0\n",
      "     Beta3AR       1.00      0.60      0.75         5\n",
      "        DRD1       0.75      1.00      0.86         3\n",
      "        DRD2       0.70      0.88      0.78         8\n",
      "        DRD3       0.67      1.00      0.80         8\n",
      "        DRD4       0.78      1.00      0.88         7\n",
      "        DRD5       0.75      1.00      0.86         3\n",
      "\n",
      "   micro avg       0.89      0.94      0.91       181\n",
      "   macro avg       0.82      0.88      0.83       181\n",
      "weighted avg       0.91      0.94      0.92       181\n",
      " samples avg       0.88      0.93      0.90       181\n",
      "\n"
     ]
    },
    {
     "name": "stderr",
     "output_type": "stream",
     "text": [
      "/Users/xiaomuou620/opt/miniconda3/envs/Project1/lib/python3.8/site-packages/sklearn/metrics/_classification.py:1471: UndefinedMetricWarning: Precision and F-score are ill-defined and being set to 0.0 in labels with no predicted samples. Use `zero_division` parameter to control this behavior.\n",
      "  _warn_prf(average, modifier, msg_start, len(result))\n",
      "/Users/xiaomuou620/opt/miniconda3/envs/Project1/lib/python3.8/site-packages/sklearn/metrics/_classification.py:1471: UndefinedMetricWarning: Recall and F-score are ill-defined and being set to 0.0 in labels with no true samples. Use `zero_division` parameter to control this behavior.\n",
      "  _warn_prf(average, modifier, msg_start, len(result))\n"
     ]
    }
   ],
   "source": [
    "from sklearn.metrics import classification_report\n",
    "report = classification_report(y_test, y_test_pred, target_names=y.columns)\n",
    "print(report)\n"
   ]
  },
  {
   "cell_type": "markdown",
   "metadata": {},
   "source": [
    "## GridSearchCV"
   ]
  },
  {
   "cell_type": "code",
   "execution_count": 15,
   "metadata": {},
   "outputs": [
    {
     "name": "stdout",
     "output_type": "stream",
     "text": [
      "Best Parameters: {'bootstrap': False, 'max_depth': None, 'min_samples_leaf': 1, 'min_samples_split': 10, 'n_estimators': 10}\n",
      "Best Cross-Validation Score: 0.8840541918733826\n"
     ]
    }
   ],
   "source": [
    "from sklearn.ensemble import RandomForestClassifier\n",
    "from sklearn.model_selection import GridSearchCV\n",
    "from sklearn.metrics import classification_report\n",
    "\n",
    "\n",
    "# define the random forest model\n",
    "rf_model = RandomForestClassifier(random_state=42)\n",
    "\n",
    "# define the hyperparameters to optimize\n",
    "param_grid = {\n",
    "    'n_estimators': [10, 100, 300],  \n",
    "    'max_depth': [None, 10, 30, 50],  \n",
    "    'min_samples_split': [2, 10, 20],  \n",
    "    'min_samples_leaf': [1, 4, 6, 8],      \n",
    "    'bootstrap': [True, False]                \n",
    "}\n",
    "\n",
    "# define the grid search with 5-fold cross-validation\n",
    "grid_search = GridSearchCV(estimator=rf_model, param_grid=param_grid, cv=5, scoring='f1_samples', n_jobs=-1)\n",
    "\n",
    "# perform the grid search\n",
    "grid_search.fit(X_train, y_train)\n",
    "\n",
    "# output the best hyperparameters\n",
    "print(\"Best Parameters:\", grid_search.best_params_)\n",
    "print(\"Best Cross-Validation Score:\", grid_search.best_score_)\n"
   ]
  },
  {
   "cell_type": "code",
   "execution_count": 16,
   "metadata": {},
   "outputs": [
    {
     "name": "stdout",
     "output_type": "stream",
     "text": [
      "Test Score with Best Model: 0.13194444444444445\n",
      "              precision    recall  f1-score   support\n",
      "\n",
      "       5HT1A       1.00      1.00      1.00        12\n",
      "       5HT1B       1.00      1.00      1.00        12\n",
      "       5HT1D       1.00      1.00      1.00        12\n",
      "       5HT1E       1.00      1.00      1.00        12\n",
      "       5HT1F       1.00      1.00      1.00        12\n",
      "       5HT2A       1.00      1.00      1.00        12\n",
      "       5HT2B       1.00      1.00      1.00        12\n",
      "       5HT2C       1.00      1.00      1.00        12\n",
      "       5HT5A       0.92      1.00      0.96        11\n",
      "        5HT6       1.00      0.88      0.93         8\n",
      "        5HT7       0.50      0.50      0.50         4\n",
      "     Alpha1A       1.00      0.88      0.93         8\n",
      "     Alpha1B       0.00      0.00      0.00         4\n",
      "     Alpha1D       1.00      0.80      0.89         5\n",
      "     Alpha2A       0.75      1.00      0.86         3\n",
      "     Alpha2B       1.00      0.67      0.80         6\n",
      "     Alpha2C       0.50      1.00      0.67         2\n",
      "     Beta2AR       0.00      0.00      0.00         0\n",
      "     Beta3AR       0.00      0.00      0.00         5\n",
      "        DRD1       0.75      1.00      0.86         3\n",
      "        DRD2       0.67      1.00      0.80         8\n",
      "        DRD3       0.67      1.00      0.80         8\n",
      "        DRD4       1.00      0.57      0.73         7\n",
      "        DRD5       0.75      1.00      0.86         3\n",
      "\n",
      "   micro avg       0.90      0.90      0.90       181\n",
      "   macro avg       0.77      0.80      0.77       181\n",
      "weighted avg       0.89      0.90      0.88       181\n",
      " samples avg       0.89      0.90      0.89       181\n",
      "\n"
     ]
    },
    {
     "name": "stderr",
     "output_type": "stream",
     "text": [
      "/Users/xiaomuou620/opt/miniconda3/envs/Project1/lib/python3.8/site-packages/sklearn/metrics/_classification.py:1471: UndefinedMetricWarning: Precision and F-score are ill-defined and being set to 0.0 in labels with no predicted samples. Use `zero_division` parameter to control this behavior.\n",
      "  _warn_prf(average, modifier, msg_start, len(result))\n",
      "/Users/xiaomuou620/opt/miniconda3/envs/Project1/lib/python3.8/site-packages/sklearn/metrics/_classification.py:1471: UndefinedMetricWarning: Recall and F-score are ill-defined and being set to 0.0 in labels with no true samples. Use `zero_division` parameter to control this behavior.\n",
      "  _warn_prf(average, modifier, msg_start, len(result))\n"
     ]
    }
   ],
   "source": [
    "best_model = grid_search.best_estimator_\n",
    "y_pred = best_model.predict(X_test)\n",
    "hamming_loss_score_grid = hamming_loss(y_test, y_pred)\n",
    "print(\"Test Score with Best Model:\", hamming_loss_score_grid)\n",
    "\n",
    "report = classification_report(y_test, y_pred, target_names=y.columns)\n",
    "print(report)"
   ]
  },
  {
   "cell_type": "code",
   "execution_count": 32,
   "metadata": {},
   "outputs": [
    {
     "name": "stdout",
     "output_type": "stream",
     "text": [
      "[[0.01545635 0.98454365]\n",
      " [0.01545635 0.98454365]\n",
      " [0.01833333 0.98166667]\n",
      " [0.03382143 0.96617857]\n",
      " [0.03296429 0.96703571]\n",
      " [0.01545635 0.98454365]\n",
      " [0.0141746  0.9858254 ]\n",
      " [0.01545635 0.98454365]\n",
      " [0.05557143 0.94442857]\n",
      " [0.07083333 0.92916667]\n",
      " [0.03382143 0.96617857]\n",
      " [0.00333333 0.99666667]]\n"
     ]
    }
   ],
   "source": [
    "# "
   ]
  }
 ],
 "metadata": {
  "kernelspec": {
   "display_name": "Project1",
   "language": "python",
   "name": "python3"
  },
  "language_info": {
   "codemirror_mode": {
    "name": "ipython",
    "version": 3
   },
   "file_extension": ".py",
   "mimetype": "text/x-python",
   "name": "python",
   "nbconvert_exporter": "python",
   "pygments_lexer": "ipython3",
   "version": "3.8.19"
  }
 },
 "nbformat": 4,
 "nbformat_minor": 2
}
