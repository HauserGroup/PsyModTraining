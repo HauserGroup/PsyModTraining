{
 "cells": [
  {
   "cell_type": "code",
   "execution_count": 1,
   "metadata": {},
   "outputs": [
    {
     "name": "stdout",
     "output_type": "stream",
     "text": [
      "Intel MKL WARNING: Support of Intel(R) Streaming SIMD Extensions 4.2 (Intel(R) SSE4.2) enabled only processors has been deprecated. Intel oneAPI Math Kernel Library 2025.0 will require Intel(R) Advanced Vector Extensions (Intel(R) AVX) instructions.\n",
      "Intel MKL WARNING: Support of Intel(R) Streaming SIMD Extensions 4.2 (Intel(R) SSE4.2) enabled only processors has been deprecated. Intel oneAPI Math Kernel Library 2025.0 will require Intel(R) Advanced Vector Extensions (Intel(R) AVX) instructions.\n"
     ]
    }
   ],
   "source": [
    "import pandas as pd"
   ]
  },
  {
   "cell_type": "markdown",
   "metadata": {},
   "source": [
    "# Generate fingerprints"
   ]
  },
  {
   "cell_type": "markdown",
   "metadata": {},
   "source": [
    "## Get fingerprints"
   ]
  },
  {
   "cell_type": "markdown",
   "metadata": {},
   "source": [
    "input: SMILES\n",
    "\n",
    "output: different fingerprints arrays\n",
    "\n",
    "modification: the types of fingerprints"
   ]
  },
  {
   "cell_type": "code",
   "execution_count": 2,
   "metadata": {},
   "outputs": [],
   "source": [
    "from rdkit import Chem\n",
    "from rdkit.Chem import AllChem, rdFingerprintGenerator, MACCSkeys\n",
    "import numpy as np\n",
    "\n",
    "# Function to get fingerprints for different fingerprints\n",
    "def get_all_fingerprints(smiles):\n",
    "    mol = Chem.MolFromSmiles(smiles)\n",
    "    \n",
    "    # Generate fingerprints and convert directly to NumPy arrays\n",
    "    fingerprints = {\n",
    "        'Morgan (ECFP)': np.array(AllChem.GetMorganFingerprintAsBitVect(mol, radius=2, nBits=2048), dtype=int),  # Morgan fingerprint (ECFP)\n",
    "        'FCFP': np.array(AllChem.GetMorganFingerprintAsBitVect(mol, radius=2, nBits=2048, useFeatures=True), dtype=int),  # FCFP\n",
    "        'RDKit': np.array(rdFingerprintGenerator.GetRDKitFPGenerator(fpSize=2048).GetFingerprint(mol), dtype=int),  # RDKit\n",
    "        'Atom Pair': np.array(rdFingerprintGenerator.GetAtomPairGenerator(fpSize=2048).GetFingerprint(mol), dtype=int),  # Atom Pair\n",
    "        'Topological Torsion': np.array(rdFingerprintGenerator.GetTopologicalTorsionGenerator(fpSize=2048).GetFingerprint(mol), dtype=int),  # Topological Torsion\n",
    "        'MACCS': np.array(MACCSkeys.GenMACCSKeys(mol), dtype=int),  # MACCS is 167 bits long\n",
    "        'ALL': np.hstack([\n",
    "            np.array(AllChem.GetMorganFingerprintAsBitVect(mol, radius=2, nBits=2048), dtype=int),\n",
    "            np.array(AllChem.GetMorganFingerprintAsBitVect(mol, radius=2, nBits=2048, useFeatures=True), dtype=int),\n",
    "            np.array(rdFingerprintGenerator.GetRDKitFPGenerator(fpSize=2048).GetFingerprint(mol), dtype=int),\n",
    "            np.array(rdFingerprintGenerator.GetAtomPairGenerator(fpSize=2048).GetFingerprint(mol), dtype=int),\n",
    "            np.array(rdFingerprintGenerator.GetTopologicalTorsionGenerator(fpSize=2048).GetFingerprint(mol), dtype=int),\n",
    "            np.array(MACCSkeys.GenMACCSKeys(mol), dtype=int)\n",
    "        ])\n",
    "    }\n",
    "    \n",
    "    return fingerprints\n"
   ]
  },
  {
   "cell_type": "markdown",
   "metadata": {},
   "source": [
    "## Generate fingerprint Matrix"
   ]
  },
  {
   "cell_type": "markdown",
   "metadata": {},
   "source": [
    "input: input file containing molecular Names, SMILES, Categories\n",
    "\n",
    "output: dataframe with specific type of fingerprints, molecular Names, Categories\n",
    "\n",
    "function: get specific fingerprints using get_all_fingerprints(smiles) and make it able to perform PCA, like adding the name and categories for plotting\n",
    "\n",
    "modification: Add 'Category' and 'Name' columns can change to add other columns\n"
   ]
  },
  {
   "cell_type": "code",
   "execution_count": 6,
   "metadata": {},
   "outputs": [],
   "source": [
    "import pandas as pd\n",
    "\n",
    "# Example function to extract one specific fingerprint (e.g., Morgan (ECFP)) from all SMILES in a DataFrame\n",
    "def extract_specific_fingerprint(chembl_df, fingerprint_func, target_fingerprint, smiles_column='SMILES'):\n",
    "    \"\"\"\n",
    "    Extract a specific fingerprint from the SMILES column in a DataFrame.\n",
    "\n",
    "    Parameters:\n",
    "    - chembl_df: DataFrame containing the 'SMILES', 'Name', and 'Category' columns.\n",
    "    - fingerprint_func: Function that takes a SMILES string and returns a dictionary of fingerprints.\n",
    "    - target_fingerprint: The name of the fingerprint to extract (e.g., 'Morgan (ECFP)').\n",
    "    - smiles_column: The column name for SMILES strings in the DataFrame.\n",
    "\n",
    "    Returns:\n",
    "    - fingerprint_df: DataFrame containing the specified fingerprint along with 'Name' and 'Category'.\n",
    "    \"\"\"\n",
    "    # Extract the SMILES column\n",
    "    smiles_list = chembl_df[smiles_column].tolist()\n",
    "    fingerprints = [fingerprint_func(smiles)[target_fingerprint] for smiles in smiles_list]\n",
    "    \n",
    "    fingerprint_df = pd.DataFrame(fingerprints)\n",
    "    \n",
    "\n",
    "    # Collect the specific fingerprint for all molecules\n",
    "    # fingerprint_df['Category'] = chembl_df['Category'].values\n",
    "    fingerprint_df['ID'] = chembl_df['ID'].values\n",
    "    \n",
    "    # Move the 'Name' column to the first position\n",
    "    fingerprint_df = fingerprint_df[['ID'] + [col for col in fingerprint_df.columns if col != 'ID']]\n",
    "\n",
    "    \n",
    "\n",
    "    # Display the first few rows of the fingerprint DataFrame\n",
    "    print(f\"\\n{target_fingerprint} Fingerprint DataFrame:\")\n",
    "    print(fingerprint_df.head())\n",
    "    return fingerprint_df\n"
   ]
  },
  {
   "cell_type": "markdown",
   "metadata": {},
   "source": [
    "# Run"
   ]
  },
  {
   "cell_type": "markdown",
   "metadata": {},
   "source": [
    "## Example"
   ]
  },
  {
   "cell_type": "code",
   "execution_count": 4,
   "metadata": {},
   "outputs": [
    {
     "name": "stdout",
     "output_type": "stream",
     "text": [
      "   Class  Known         ID                                             SMILES\n",
      "0      1  known       5-HT                         CN(C)CCc1c[nH]c2ccc(O)cc12\n",
      "1      1  known        DMT                            CN(C)CCc1c[nH]c2ccccc12\n",
      "2      1  known  25CN-NBOH                   COc1cc(CCNCc2ccccc2O)c(OC)cc1C#N\n",
      "3      1  known        LSD  CCN(CC)C(=O)[C@@H]1C=C2c3cccc4[nH]cc(c34)C[C@H...\n",
      "4      1  known  N-Me-5-HT                            CNCCc1c[nH]c2ccc(O)cc12\n"
     ]
    }
   ],
   "source": [
    "chembl_example = pd.read_csv(\n",
    "    \"https://raw.githubusercontent.com/HauserGroup/PsyModTraining/refs/heads/main/data/PsychLight/PsychLight_TrainingSet.csv\"\n",
    "    # sep=\",\", header=0\n",
    ")\n",
    "print(chembl_example.head())"
   ]
  },
  {
   "cell_type": "markdown",
   "metadata": {},
   "source": [
    "### For all"
   ]
  },
  {
   "cell_type": "code",
   "execution_count": 7,
   "metadata": {},
   "outputs": [
    {
     "name": "stdout",
     "output_type": "stream",
     "text": [
      "\n",
      "MACCS Fingerprint DataFrame:\n",
      "          ID  0  1  2  3  4  5  6  7  8  ...  157  158  159  160  161  162  \\\n",
      "0       5-HT  0  0  0  0  0  0  0  0  0  ...    1    1    0    1    1    1   \n",
      "1        DMT  0  0  0  0  0  0  0  0  0  ...    0    1    0    1    1    1   \n",
      "2  25CN-NBOH  0  0  0  0  0  0  0  0  0  ...    1    1    1    1    1    1   \n",
      "3        LSD  0  0  0  0  0  0  0  0  0  ...    0    1    0    1    1    1   \n",
      "4  N-Me-5-HT  0  0  0  0  0  0  0  0  0  ...    1    1    0    1    1    1   \n",
      "\n",
      "   163  164  165  166  \n",
      "0    1    1    1    0  \n",
      "1    1    0    1    0  \n",
      "2    1    1    1    0  \n",
      "3    1    1    1    0  \n",
      "4    1    1    1    0  \n",
      "\n",
      "[5 rows x 168 columns]\n"
     ]
    }
   ],
   "source": [
    "fingerprint_df = extract_specific_fingerprint(chembl_example, get_all_fingerprints, 'MACCS')\n",
    "fingerprint_df.to_csv('MACCS_fingerprints.csv', index=False)"
   ]
  }
 ],
 "metadata": {
  "kernelspec": {
   "display_name": "Project1",
   "language": "python",
   "name": "python3"
  },
  "language_info": {
   "codemirror_mode": {
    "name": "ipython",
    "version": 3
   },
   "file_extension": ".py",
   "mimetype": "text/x-python",
   "name": "python",
   "nbconvert_exporter": "python",
   "pygments_lexer": "ipython3",
   "version": "3.8.12"
  }
 },
 "nbformat": 4,
 "nbformat_minor": 2
}
