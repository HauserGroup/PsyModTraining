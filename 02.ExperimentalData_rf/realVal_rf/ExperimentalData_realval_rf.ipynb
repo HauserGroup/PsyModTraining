{
 "cells": [
  {
   "cell_type": "code",
   "execution_count": 1,
   "metadata": {},
   "outputs": [
    {
     "name": "stdout",
     "output_type": "stream",
     "text": [
      "Intel MKL WARNING: Support of Intel(R) Streaming SIMD Extensions 4.2 (Intel(R) SSE4.2) enabled only processors has been deprecated. Intel oneAPI Math Kernel Library 2025.0 will require Intel(R) Advanced Vector Extensions (Intel(R) AVX) instructions.\n",
      "Intel MKL WARNING: Support of Intel(R) Streaming SIMD Extensions 4.2 (Intel(R) SSE4.2) enabled only processors has been deprecated. Intel oneAPI Math Kernel Library 2025.0 will require Intel(R) Advanced Vector Extensions (Intel(R) AVX) instructions.\n"
     ]
    }
   ],
   "source": [
    "import pandas as pd\n",
    "from sklearn.preprocessing import MultiLabelBinarizer\n",
    "from sklearn.ensemble import RandomForestClassifier\n",
    "from sklearn.model_selection import StratifiedKFold, cross_val_score\n",
    "from sklearn.model_selection import train_test_split\n",
    "from sklearn.metrics import accuracy_score, hamming_loss, make_scorer # type: ignore\n"
   ]
  },
  {
   "cell_type": "markdown",
   "metadata": {},
   "source": [
    "## Read fingerprint file and experimental file"
   ]
  },
  {
   "cell_type": "code",
   "execution_count": 2,
   "metadata": {},
   "outputs": [
    {
     "name": "stdout",
     "output_type": "stream",
     "text": [
      "  receptor gprotein        drug    Emax  Emax_SE    TCoeff  TCoeff_SE  \\\n",
      "0    5HT1A      Gi1   25C-NBOMe  999.00   999.00       NaN        NaN   \n",
      "1    5HT1A      Gi1    25I-NBMD   18.62     2.06  8.878197   0.201061   \n",
      "2    5HT1A      Gi1   25I-NBOMe   24.53     3.28  7.947086   0.195392   \n",
      "3    5HT1A      Gi1  25T7-NBOMe   22.00     3.87  7.457872   0.217788   \n",
      "4    5HT1A      Gi1  4-AcO-MALT   38.93     5.16  7.417719   0.148907   \n",
      "\n",
      "    logEmEC  logEmEc_Lower  logEmEc_Upper   pEC50  pEC50_SE  N  \n",
      "0       NaN            NaN            NaN  999.00    999.00  3  \n",
      "1  8.879980       8.529060       9.225551    7.61      0.30  3  \n",
      "2  7.949698       7.607359       8.284201    6.56      0.28  3  \n",
      "3  7.462423       7.078398       7.832796    6.12      0.30  3  \n",
      "4  7.420284       7.158531       7.674340    5.83      0.20  3  \n"
     ]
    }
   ],
   "source": [
    "receptors = pd.read_csv(\n",
    "    \"/Users/xiaomuou620/Desktop/PRIVATE_DATA/hallucinome.csv\"\n",
    ") # selected only existing binding receptors left\n",
    "fingerprints = pd.read_csv('../MACCS_fingerprints.csv')\n",
    "print(receptors.head())\n",
    "\n"
   ]
  },
  {
   "cell_type": "markdown",
   "metadata": {},
   "source": [
    "### Experimental data processing"
   ]
  },
  {
   "cell_type": "code",
   "execution_count": 3,
   "metadata": {},
   "outputs": [
    {
     "name": "stdout",
     "output_type": "stream",
     "text": [
      "receptor        drug      5HT1A       5HT1B   5HT1D   5HT1E       5HT1F  \\\n",
      "0          25C-NBOMe  13.047601    0.000000   61.56    0.00    0.000000   \n",
      "1           25I-NBMD  27.200000   84.239297   91.94  105.26  102.099230   \n",
      "2          25I-NBOMe  45.370000    0.000000   53.65   33.92   64.596780   \n",
      "3         25T7-NBOMe  31.991315    0.000000   31.81    0.00   69.116817   \n",
      "4         4-AcO-MALT  50.677696  126.170618  101.04  115.53  102.552716   \n",
      "\n",
      "receptor   5HT2A  5HT2B   5HT2C  5HT5A  ...  Alpha2B  Alpha2C  Beta1AR  \\\n",
      "0         126.52  67.19   98.15   0.00  ...      0.0      0.0      0.0   \n",
      "1         102.02  45.49   79.79   0.00  ...      0.0      0.0      0.0   \n",
      "2         108.36  72.04  104.43  27.97  ...      0.0      0.0      0.0   \n",
      "3          99.15  53.73   94.85  36.81  ...      0.0      0.0      0.0   \n",
      "4         102.61  68.11  110.35  43.88  ...      0.0      0.0      0.0   \n",
      "\n",
      "receptor  Beta2AR  Beta3AR  DRD1   DRD2   DRD3  DRD4   DRD5  \n",
      "0             0.0      0.0   0.0  50.60   0.00   0.0   0.00  \n",
      "1             0.0      0.0   0.0   0.00   0.00   0.0   0.00  \n",
      "2             0.0      0.0   0.0   0.00  31.20   0.0   0.00  \n",
      "3             0.0      0.0   0.0   0.00  43.82   0.0  71.61  \n",
      "4             0.0      0.0   0.0  61.99  85.60   0.0   0.00  \n",
      "\n",
      "[5 rows x 26 columns]\n"
     ]
    }
   ],
   "source": [
    "# replace 999 in Emax with 0\n",
    "receptors[\"Emax\"] = receptors[\"Emax\"].replace(999, 0)\n",
    "# print(receptors.head())\n",
    "\n",
    "# collect receptors for each drug\n",
    "receptor_emax_mapping = (\n",
    "    receptors.groupby([\"drug\", \"receptor\"])[\"Emax\"].max().reset_index()\n",
    ")\n",
    "# print(receptor_emax_mapping.head())\n",
    "\n",
    "# pivot the table to have drugs as rows and receptors as columns\n",
    "receptor_emax_mapping_pivot = receptor_emax_mapping.pivot(\n",
    "    index=\"drug\", columns=\"receptor\", values=\"Emax\"\n",
    ").reset_index()\n",
    "print(receptor_emax_mapping_pivot.head())\n",
    "\n",
    "receptor_emax_mapping_pivot.fillna(0, inplace=True)\n"
   ]
  },
  {
   "cell_type": "markdown",
   "metadata": {},
   "source": [
    "### Fingerprint data processing"
   ]
  },
  {
   "cell_type": "code",
   "execution_count": 4,
   "metadata": {},
   "outputs": [],
   "source": [
    "# Extract the names (first column)\n",
    "drug_names_fingerprints = fingerprints['Name']\n",
    "fingerprints_detail = fingerprints.drop('Name', axis=1)  # Drop the name column by index\n",
    "\n",
    "# Create a dictionary where names are keys and fingerprints are lists of values\n",
    "# csv_dict = {name: fingerprint.tolist() for name, fingerprint in zip(drug_names_fingerprints, fingerprints_detail.values)}\n"
   ]
  },
  {
   "cell_type": "markdown",
   "metadata": {},
   "source": [
    "### Merge feature and labels"
   ]
  },
  {
   "cell_type": "code",
   "execution_count": 5,
   "metadata": {},
   "outputs": [
    {
     "name": "stdout",
     "output_type": "stream",
     "text": [
      "         drug      5HT1A       5HT1B   5HT1D   5HT1E       5HT1F   5HT2A  \\\n",
      "0   25C-NBOMe  13.047601    0.000000   61.56    0.00    0.000000  126.52   \n",
      "1    25I-NBMD  27.200000   84.239297   91.94  105.26  102.099230  102.02   \n",
      "2   25I-NBOMe  45.370000    0.000000   53.65   33.92   64.596780  108.36   \n",
      "3  25T7-NBOMe  31.991315    0.000000   31.81    0.00   69.116817   99.15   \n",
      "4  4-AcO-MALT  50.677696  126.170618  101.04  115.53  102.552716  102.61   \n",
      "\n",
      "   5HT2B   5HT2C  5HT5A  ...  157  158  159  160  161  162  163  164  165  166  \n",
      "0  67.19   98.15   0.00  ...    1    1    1    1    1    1    1    1    1    0  \n",
      "1  45.49   79.79   0.00  ...    1    1    1    1    1    1    1    1    1    0  \n",
      "2  72.04  104.43  27.97  ...    1    1    1    1    1    1    1    1    1    0  \n",
      "3  53.73   94.85  36.81  ...    1    1    1    1    1    1    1    1    1    0  \n",
      "4  68.11  110.35  43.88  ...    1    1    1    1    1    1    1    1    1    0  \n",
      "\n",
      "[5 rows x 193 columns]\n"
     ]
    }
   ],
   "source": [
    "# merge receptor_emax_mapping_pivot with fingerprints\n",
    "data_merged = pd.merge(\n",
    "    receptor_emax_mapping_pivot, fingerprints, left_on=\"drug\", right_on=\"Name\"\n",
    ").drop(columns=[\"Name\"])\n",
    "\n",
    "# data_merged.to_csv(\n",
    "#     \"/Users/xiaomuou620/Desktop/PRIVATE_DATA/selected_file_realval.csv\", index=False\n",
    "# )\n",
    "print(data_merged.head())"
   ]
  },
  {
   "cell_type": "markdown",
   "metadata": {},
   "source": [
    "## Training"
   ]
  },
  {
   "cell_type": "code",
   "execution_count": 6,
   "metadata": {},
   "outputs": [],
   "source": [
    "# Drop the 'receptor' column\n",
    "data_merged = data_merged.drop(columns=[\"drug\"])\n"
   ]
  },
  {
   "cell_type": "code",
   "execution_count": 7,
   "metadata": {},
   "outputs": [
    {
     "name": "stdout",
     "output_type": "stream",
     "text": [
      "(40, 167) (40, 25)\n",
      "   0  1  2  3  4  5  6  7  8  9  ...  157  158  159  160  161  162  163  164  \\\n",
      "0  0  0  0  0  0  0  0  0  0  0  ...    1    1    1    1    1    1    1    1   \n",
      "1  0  0  0  0  0  0  0  0  0  0  ...    1    1    1    1    1    1    1    1   \n",
      "2  0  0  0  0  0  0  0  0  0  0  ...    1    1    1    1    1    1    1    1   \n",
      "3  0  0  0  0  0  0  0  0  0  0  ...    1    1    1    1    1    1    1    1   \n",
      "4  0  0  0  0  0  0  0  0  0  0  ...    1    1    1    1    1    1    1    1   \n",
      "\n",
      "   165  166  \n",
      "0    1    0  \n",
      "1    1    0  \n",
      "2    1    0  \n",
      "3    1    0  \n",
      "4    1    0  \n",
      "\n",
      "[5 rows x 167 columns]\n",
      "       5HT1A       5HT1B   5HT1D   5HT1E       5HT1F   5HT2A  5HT2B   5HT2C  \\\n",
      "0  13.047601    0.000000   61.56    0.00    0.000000  126.52  67.19   98.15   \n",
      "1  27.200000   84.239297   91.94  105.26  102.099230  102.02  45.49   79.79   \n",
      "2  45.370000    0.000000   53.65   33.92   64.596780  108.36  72.04  104.43   \n",
      "3  31.991315    0.000000   31.81    0.00   69.116817   99.15  53.73   94.85   \n",
      "4  50.677696  126.170618  101.04  115.53  102.552716  102.61  68.11  110.35   \n",
      "\n",
      "   5HT5A   5HT6  ...  Alpha2B  Alpha2C  Beta1AR  Beta2AR  Beta3AR  DRD1  \\\n",
      "0   0.00   0.00  ...      0.0      0.0      0.0      0.0      0.0   0.0   \n",
      "1   0.00  46.73  ...      0.0      0.0      0.0      0.0      0.0   0.0   \n",
      "2  27.97  66.89  ...      0.0      0.0      0.0      0.0      0.0   0.0   \n",
      "3  36.81  48.25  ...      0.0      0.0      0.0      0.0      0.0   0.0   \n",
      "4  43.88  98.86  ...      0.0      0.0      0.0      0.0      0.0   0.0   \n",
      "\n",
      "    DRD2   DRD3  DRD4   DRD5  \n",
      "0  50.60   0.00   0.0   0.00  \n",
      "1   0.00   0.00   0.0   0.00  \n",
      "2   0.00  31.20   0.0   0.00  \n",
      "3   0.00  43.82   0.0  71.61  \n",
      "4  61.99  85.60   0.0   0.00  \n",
      "\n",
      "[5 rows x 25 columns]\n"
     ]
    }
   ],
   "source": [
    "X = data_merged.iloc[:, 25:]\n",
    "y = data_merged.iloc[:, 0:25]\n",
    "\n",
    "print(X.shape, y.shape)\n",
    "print(X.head())\n",
    "print(y.head())\n"
   ]
  },
  {
   "cell_type": "code",
   "execution_count": 8,
   "metadata": {},
   "outputs": [],
   "source": [
    "import pandas as pd\n",
    "import numpy as np\n",
    "from sklearn.ensemble import RandomForestRegressor\n",
    "from sklearn.model_selection import train_test_split\n",
    "from sklearn.metrics import mean_squared_error, r2_score\n",
    "\n",
    "X_train, X_test, y_train, y_test = train_test_split(\n",
    "    X, y, test_size=0.2, random_state=42\n",
    ")"
   ]
  },
  {
   "cell_type": "markdown",
   "metadata": {},
   "source": [
    "## Regression"
   ]
  },
  {
   "cell_type": "code",
   "execution_count": 12,
   "metadata": {},
   "outputs": [
    {
     "name": "stdout",
     "output_type": "stream",
     "text": [
      "MSE per receptor: [ 501.23408236  244.5208547   261.1945048   482.05662657  349.17163829\n",
      "  117.99829144  364.45454302  255.09174132  964.02921457  507.41441547\n",
      " 1064.07421372  308.63767725  585.43607379  349.47194551  866.87937352\n",
      "  172.22913681 1133.88174511    0.           65.728202    443.04131615\n",
      "  461.33188335  427.50991767  954.75841904 1297.0433401   940.10838405]\n",
      "Weighted R^2: 0.3181223146944467\n"
     ]
    }
   ],
   "source": [
    "from sklearn.multioutput import MultiOutputRegressor\n",
    "from sklearn.ensemble import RandomForestRegressor\n",
    "\n",
    "model_regression = MultiOutputRegressor(RandomForestRegressor(n_estimators=100, random_state=42))\n",
    "model_regression.fit(X_train, y_train)\n",
    "\n",
    "# Predictions\n",
    "y_pred = model_regression.predict(X_test)\n",
    "\n",
    "# Evaluate\n",
    "mse = mean_squared_error(y_test, y_pred, multioutput=\"raw_values\")  # Per target\n",
    "r2 = r2_score(y_test, y_pred, multioutput=\"variance_weighted\")  # Overall R^2\n",
    "\n",
    "print(\"MSE per receptor:\", mse)\n",
    "print(\"Weighted R^2:\", r2)\n"
   ]
  },
  {
   "cell_type": "markdown",
   "metadata": {},
   "source": [
    "## Classification"
   ]
  }
 ],
 "metadata": {
  "kernelspec": {
   "display_name": "Project1",
   "language": "python",
   "name": "python3"
  },
  "language_info": {
   "codemirror_mode": {
    "name": "ipython",
    "version": 3
   },
   "file_extension": ".py",
   "mimetype": "text/x-python",
   "name": "python",
   "nbconvert_exporter": "python",
   "pygments_lexer": "ipython3",
   "version": "3.8.12"
  }
 },
 "nbformat": 4,
 "nbformat_minor": 2
}
