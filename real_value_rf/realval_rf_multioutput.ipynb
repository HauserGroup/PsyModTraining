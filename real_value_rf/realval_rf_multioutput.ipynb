{
 "cells": [
  {
   "cell_type": "code",
   "execution_count": 2,
   "metadata": {},
   "outputs": [],
   "source": [
    "import pandas as pd\n",
    "from sklearn.preprocessing import MultiLabelBinarizer\n",
    "from sklearn.ensemble import RandomForestClassifier\n",
    "from sklearn.model_selection import StratifiedKFold, cross_val_score\n",
    "from sklearn.model_selection import train_test_split\n",
    "from sklearn.metrics import accuracy_score, hamming_loss, make_scorer # type: ignore\n"
   ]
  },
  {
   "cell_type": "markdown",
   "metadata": {},
   "source": [
    "## Read fingerprint file and experimental file"
   ]
  },
  {
   "cell_type": "code",
   "execution_count": 3,
   "metadata": {},
   "outputs": [
    {
     "name": "stdout",
     "output_type": "stream",
     "text": [
      "  receptor gprotein        drug    Emax  Emax_SE    TCoeff  TCoeff_SE  \\\n",
      "0    5HT1A      Gi1   25C-NBOMe  999.00   999.00       NaN        NaN   \n",
      "1    5HT1A      Gi1    25I-NBMD   18.62     2.06  8.878197   0.201061   \n",
      "2    5HT1A      Gi1   25I-NBOMe   24.53     3.28  7.947086   0.195392   \n",
      "3    5HT1A      Gi1  25T7-NBOMe   22.00     3.87  7.457872   0.217788   \n",
      "4    5HT1A      Gi1  4-AcO-MALT   38.93     5.16  7.417719   0.148907   \n",
      "\n",
      "    logEmEC  logEmEc_Lower  logEmEc_Upper   pEC50  pEC50_SE  N  \n",
      "0       NaN            NaN            NaN  999.00    999.00  3  \n",
      "1  8.879980       8.529060       9.225551    7.61      0.30  3  \n",
      "2  7.949698       7.607359       8.284201    6.56      0.28  3  \n",
      "3  7.462423       7.078398       7.832796    6.12      0.30  3  \n",
      "4  7.420284       7.158531       7.674340    5.83      0.20  3  \n"
     ]
    }
   ],
   "source": [
    "receptors = pd.read_csv(\n",
    "    \"/Users/xiaomuou620/Desktop/PRIVATE_DATA/hallucinome.csv\"\n",
    ") # selected only existing binding receptors left\n",
    "fingerprints = pd.read_csv('/Users/xiaomuou620/Library/CloudStorage/OneDrive-UniversityofCopenhagen/courses/Project1/Fingerprint/MACCS_fingerprints.csv')\n",
    "print(receptors.head())\n",
    "\n"
   ]
  },
  {
   "cell_type": "markdown",
   "metadata": {},
   "source": [
    "### Experimental data processing"
   ]
  },
  {
   "cell_type": "code",
   "execution_count": 5,
   "metadata": {},
   "outputs": [
    {
     "name": "stdout",
     "output_type": "stream",
     "text": [
      "receptor        drug      5HT1A       5HT1B   5HT1D   5HT1E       5HT1F  \\\n",
      "0          25C-NBOMe  13.047601    0.000000   61.56    0.00    0.000000   \n",
      "1           25I-NBMD  27.200000   84.239297   91.94  105.26  102.099230   \n",
      "2          25I-NBOMe  45.370000    0.000000   53.65   33.92   64.596780   \n",
      "3         25T7-NBOMe  31.991315    0.000000   31.81    0.00   69.116817   \n",
      "4         4-AcO-MALT  50.677696  126.170618  101.04  115.53  102.552716   \n",
      "\n",
      "receptor   5HT2A  5HT2B   5HT2C  5HT5A  ...  Alpha2B  Alpha2C  Beta1AR  \\\n",
      "0         126.52  67.19   98.15   0.00  ...      0.0      0.0      0.0   \n",
      "1         102.02  45.49   79.79   0.00  ...      0.0      0.0      0.0   \n",
      "2         108.36  72.04  104.43  27.97  ...      0.0      0.0      0.0   \n",
      "3          99.15  53.73   94.85  36.81  ...      0.0      0.0      0.0   \n",
      "4         102.61  68.11  110.35  43.88  ...      0.0      0.0      0.0   \n",
      "\n",
      "receptor  Beta2AR  Beta3AR  DRD1   DRD2   DRD3  DRD4   DRD5  \n",
      "0             0.0      0.0   0.0  50.60   0.00   0.0   0.00  \n",
      "1             0.0      0.0   0.0   0.00   0.00   0.0   0.00  \n",
      "2             0.0      0.0   0.0   0.00  31.20   0.0   0.00  \n",
      "3             0.0      0.0   0.0   0.00  43.82   0.0  71.61  \n",
      "4             0.0      0.0   0.0  61.99  85.60   0.0   0.00  \n",
      "\n",
      "[5 rows x 26 columns]\n"
     ]
    }
   ],
   "source": [
    "# replace 999 in Emax with 0\n",
    "receptors[\"Emax\"] = receptors[\"Emax\"].replace(999, 0)\n",
    "# print(receptors.head())\n",
    "\n",
    "# collect receptors for each drug\n",
    "receptor_emax_mapping = (\n",
    "    receptors.groupby([\"drug\", \"receptor\"])[\"Emax\"].max().reset_index()\n",
    ")\n",
    "# print(receptor_emax_mapping.head())\n",
    "\n",
    "# pivot the table to have drugs as rows and receptors as columns\n",
    "receptor_emax_mapping_pivot = receptor_emax_mapping.pivot(\n",
    "    index=\"drug\", columns=\"receptor\", values=\"Emax\"\n",
    ").reset_index()\n",
    "print(receptor_emax_mapping_pivot.head())\n",
    "\n",
    "receptor_emax_mapping_pivot.fillna(0, inplace=True)\n"
   ]
  },
  {
   "cell_type": "markdown",
   "metadata": {},
   "source": [
    "### Fingerprint data processing"
   ]
  },
  {
   "cell_type": "code",
   "execution_count": 6,
   "metadata": {},
   "outputs": [],
   "source": [
    "# Extract the names (first column)\n",
    "drug_names_fingerprints = fingerprints['Name']\n",
    "fingerprints_detail = fingerprints.drop('Name', axis=1)  # Drop the name column by index\n",
    "\n",
    "# Create a dictionary where names are keys and fingerprints are lists of values\n",
    "# csv_dict = {name: fingerprint.tolist() for name, fingerprint in zip(drug_names_fingerprints, fingerprints_detail.values)}\n"
   ]
  },
  {
   "cell_type": "markdown",
   "metadata": {},
   "source": [
    "### Merge feature and labels"
   ]
  },
  {
   "cell_type": "code",
   "execution_count": 7,
   "metadata": {},
   "outputs": [
    {
     "name": "stdout",
     "output_type": "stream",
     "text": [
      "         drug      5HT1A       5HT1B   5HT1D   5HT1E       5HT1F   5HT2A  \\\n",
      "0   25C-NBOMe  13.047601    0.000000   61.56    0.00    0.000000  126.52   \n",
      "1    25I-NBMD  27.200000   84.239297   91.94  105.26  102.099230  102.02   \n",
      "2   25I-NBOMe  45.370000    0.000000   53.65   33.92   64.596780  108.36   \n",
      "3  25T7-NBOMe  31.991315    0.000000   31.81    0.00   69.116817   99.15   \n",
      "4  4-AcO-MALT  50.677696  126.170618  101.04  115.53  102.552716  102.61   \n",
      "\n",
      "   5HT2B   5HT2C  5HT5A  ...  157  158  159  160  161  162  163  164  165  166  \n",
      "0  67.19   98.15   0.00  ...    1    1    1    1    1    1    1    1    1    0  \n",
      "1  45.49   79.79   0.00  ...    1    1    1    1    1    1    1    1    1    0  \n",
      "2  72.04  104.43  27.97  ...    1    1    1    1    1    1    1    1    1    0  \n",
      "3  53.73   94.85  36.81  ...    1    1    1    1    1    1    1    1    1    0  \n",
      "4  68.11  110.35  43.88  ...    1    1    1    1    1    1    1    1    1    0  \n",
      "\n",
      "[5 rows x 193 columns]\n"
     ]
    }
   ],
   "source": [
    "# merge receptor_emax_mapping_pivot with fingerprints\n",
    "data_merged = pd.merge(\n",
    "    receptor_emax_mapping_pivot, fingerprints, left_on=\"drug\", right_on=\"Name\"\n",
    ").drop(columns=[\"Name\"])\n",
    "\n",
    "# data_merged.to_csv(\n",
    "#     \"/Users/xiaomuou620/Desktop/PRIVATE_DATA/selected_file_realval.csv\", index=False\n",
    "# )\n",
    "print(data_merged.head())"
   ]
  },
  {
   "cell_type": "markdown",
   "metadata": {},
   "source": [
    "## Training"
   ]
  },
  {
   "cell_type": "code",
   "execution_count": 8,
   "metadata": {},
   "outputs": [],
   "source": [
    "# Drop the 'receptor' column\n",
    "data_merged = data_merged.drop(columns=[\"drug\"])\n"
   ]
  },
  {
   "cell_type": "code",
   "execution_count": 9,
   "metadata": {},
   "outputs": [
    {
     "name": "stdout",
     "output_type": "stream",
     "text": [
      "(40, 167) (40, 25)\n",
      "   0  1  2  3  4  5  6  7  8  9  ...  157  158  159  160  161  162  163  164  \\\n",
      "0  0  0  0  0  0  0  0  0  0  0  ...    1    1    1    1    1    1    1    1   \n",
      "1  0  0  0  0  0  0  0  0  0  0  ...    1    1    1    1    1    1    1    1   \n",
      "2  0  0  0  0  0  0  0  0  0  0  ...    1    1    1    1    1    1    1    1   \n",
      "3  0  0  0  0  0  0  0  0  0  0  ...    1    1    1    1    1    1    1    1   \n",
      "4  0  0  0  0  0  0  0  0  0  0  ...    1    1    1    1    1    1    1    1   \n",
      "\n",
      "   165  166  \n",
      "0    1    0  \n",
      "1    1    0  \n",
      "2    1    0  \n",
      "3    1    0  \n",
      "4    1    0  \n",
      "\n",
      "[5 rows x 167 columns]\n",
      "       5HT1A       5HT1B   5HT1D   5HT1E       5HT1F   5HT2A  5HT2B   5HT2C  \\\n",
      "0  13.047601    0.000000   61.56    0.00    0.000000  126.52  67.19   98.15   \n",
      "1  27.200000   84.239297   91.94  105.26  102.099230  102.02  45.49   79.79   \n",
      "2  45.370000    0.000000   53.65   33.92   64.596780  108.36  72.04  104.43   \n",
      "3  31.991315    0.000000   31.81    0.00   69.116817   99.15  53.73   94.85   \n",
      "4  50.677696  126.170618  101.04  115.53  102.552716  102.61  68.11  110.35   \n",
      "\n",
      "   5HT5A   5HT6  ...  Alpha2B  Alpha2C  Beta1AR  Beta2AR  Beta3AR  DRD1  \\\n",
      "0   0.00   0.00  ...      0.0      0.0      0.0      0.0      0.0   0.0   \n",
      "1   0.00  46.73  ...      0.0      0.0      0.0      0.0      0.0   0.0   \n",
      "2  27.97  66.89  ...      0.0      0.0      0.0      0.0      0.0   0.0   \n",
      "3  36.81  48.25  ...      0.0      0.0      0.0      0.0      0.0   0.0   \n",
      "4  43.88  98.86  ...      0.0      0.0      0.0      0.0      0.0   0.0   \n",
      "\n",
      "    DRD2   DRD3  DRD4   DRD5  \n",
      "0  50.60   0.00   0.0   0.00  \n",
      "1   0.00   0.00   0.0   0.00  \n",
      "2   0.00  31.20   0.0   0.00  \n",
      "3   0.00  43.82   0.0  71.61  \n",
      "4  61.99  85.60   0.0   0.00  \n",
      "\n",
      "[5 rows x 25 columns]\n"
     ]
    }
   ],
   "source": [
    "X = data_merged.iloc[:, 25:]\n",
    "y = data_merged.iloc[:, 0:25]\n",
    "\n",
    "print(X.shape, y.shape)\n",
    "print(X.head())\n",
    "print(y.head())\n"
   ]
  },
  {
   "cell_type": "code",
   "execution_count": 14,
   "metadata": {},
   "outputs": [
    {
     "name": "stdout",
     "output_type": "stream",
     "text": [
      "5HT1A - MSE: 501.2340823596505, R2: 0.0640275266406446\n",
      "5HT1B - MSE: 244.5208546958326, R2: -2.831306265770787\n",
      "5HT1D - MSE: 261.1945048049991, R2: -0.6359468989087809\n",
      "5HT1E - MSE: 482.0566265675001, R2: -0.6646466923385026\n",
      "5HT1F - MSE: 349.17163828985525, R2: -3.649014372849228\n",
      "5HT2A - MSE: 117.99829144375005, R2: -0.25887086356707933\n",
      "5HT2B - MSE: 364.4545430200004, R2: 0.4000435677719961\n",
      "5HT2C - MSE: 255.0917413162486, R2: -0.2668892401169325\n",
      "5HT5A - MSE: 964.0292145675003, R2: -0.48914074995780243\n",
      "5HT6 - MSE: 507.41441546625117, R2: 0.6998984018957134\n",
      "5HT7 - MSE: 1064.074213717499, R2: -0.070515209340418\n",
      "Alpha1A - MSE: 308.6376772450002, R2: 0.7543942164869653\n",
      "Alpha1B - MSE: 585.4360737912485, R2: -0.20968123548569562\n",
      "Alpha1D - MSE: 349.4719455112489, R2: 0.6375493860946374\n",
      "Alpha2A - MSE: 866.8793735212498, R2: 0.16489915224686502\n",
      "Alpha2B - MSE: 172.22913681499972, R2: 0.8640443820273143\n",
      "Alpha2C - MSE: 1133.8817451137506, R2: 0.033100534157212924\n",
      "Beta1AR - MSE: 0.0, R2: 1.0\n",
      "Beta2AR - MSE: 65.72820199750004, R2: 0.0\n",
      "Beta3AR - MSE: 443.04131614624964, R2: 0.6097868691291284\n",
      "DRD1 - MSE: 461.3318833471444, R2: 0.5965827337636462\n",
      "DRD2 - MSE: 427.50991766625083, R2: 0.47502568662864564\n",
      "DRD3 - MSE: 954.7584190424991, R2: 0.12239624531954074\n",
      "DRD4 - MSE: 1297.0433401024995, R2: 0.288472283861821\n",
      "DRD5 - MSE: 940.1083840512495, R2: 0.41087445554194924\n",
      "   5HT1A  5HT1B  5HT1D  5HT1E  5HT1F  5HT2A  5HT2B  5HT2C  5HT5A  5HT6  ...  \\\n",
      "0      1      1      1      1      1      1      1      1      1     1  ...   \n",
      "1      1      1      1      1      1      1      1      1      1     1  ...   \n",
      "2      1      1      1      1      1      1      1      1      1     1  ...   \n",
      "3      1      1      1      1      1      1      1      1      1     1  ...   \n",
      "4      1      1      1      1      1      1      1      1      1     1  ...   \n",
      "5      1      1      1      1      1      1      1      1      1     1  ...   \n",
      "6      1      1      1      1      1      1      1      1      1     1  ...   \n",
      "7      1      1      1      1      1      1      1      1      1     1  ...   \n",
      "\n",
      "   Alpha2B  Alpha2C  Beta1AR  Beta2AR  Beta3AR  DRD1  DRD2  DRD3  DRD4  DRD5  \n",
      "0        1        1        0        1        1     1     1     1     1     1  \n",
      "1        1        1        0        1        1     1     1     1     1     1  \n",
      "2        1        1        0        0        1     0     1     1     1     0  \n",
      "3        1        0        0        0        1     0     1     1     1     0  \n",
      "4        0        0        0        0        0     0     1     1     1     1  \n",
      "5        1        1        0        1        1     1     1     1     1     1  \n",
      "6        0        1        0        0        0     0     1     1     1     0  \n",
      "7        1        1        0        1        1     1     1     1     1     1  \n",
      "\n",
      "[8 rows x 25 columns]\n",
      "Hamming Loss: 0.2050\n"
     ]
    }
   ],
   "source": [
    "import pandas as pd\n",
    "import numpy as np\n",
    "from sklearn.ensemble import RandomForestRegressor\n",
    "from sklearn.model_selection import train_test_split\n",
    "from sklearn.metrics import mean_squared_error, r2_score\n",
    "from sklearn.multioutput import MultiOutputRegressor\n",
    "\n",
    "X_train, X_test, y_train, y_test = train_test_split(\n",
    "    X, y, test_size=0.2, random_state=42\n",
    ")\n",
    "\n",
    "# 3. 训练 Random Forest 回归模型\n",
    "rf_model = RandomForestRegressor(random_state=42)\n",
    "multioutput_model = MultiOutputRegressor(rf_model)\n",
    "\n",
    "# 训练模型\n",
    "multioutput_model.fit(X_train, y_train)\n",
    "\n",
    "# 4. 预测并评估模型\n",
    "y_pred = multioutput_model.predict(X_test)\n",
    "\n",
    "# 输出评估指标（例如 MSE 和 R^2）\n",
    "for i, receptor in enumerate(y.columns):\n",
    "    mse = mean_squared_error(y_test.iloc[:, i], y_pred[:, i])\n",
    "    r2 = r2_score(y_test.iloc[:, i], y_pred[:, i])\n",
    "    print(f\"{receptor} - MSE: {mse}, R2: {r2}\")\n",
    "\n",
    "# 5. 判断 drug 是否 bind receptor（例如 IC50 < 10 nM 表示 bind）\n",
    "binding_threshold = 0  # IC50/Ki 阈值\n",
    "bind_predictions = (y_pred > binding_threshold).astype(int)\n",
    "\n",
    "# 输出 bit vectors\n",
    "bit_vectors = pd.DataFrame(bind_predictions, columns=y.columns)\n",
    "print(bit_vectors)\n",
    "\n",
    "binding_threshold = 0  # 例如 Ki 或 IC50 阈值\n",
    "y_test_bit = (y_test > binding_threshold).astype(int)\n",
    "y_pred_bit = (y_pred > binding_threshold).astype(int)\n",
    "\n",
    "# 计算 Hamming Loss\n",
    "hl = hamming_loss(y_test_bit, y_pred_bit)\n",
    "print(f\"Hamming Loss: {hl:.4f}\")\n",
    "\n",
    "#sf = make_scorer(hamming_loss, greater_is_better=False)\n"
   ]
  }
 ],
 "metadata": {
  "kernelspec": {
   "display_name": "Project1",
   "language": "python",
   "name": "python3"
  },
  "language_info": {
   "codemirror_mode": {
    "name": "ipython",
    "version": 3
   },
   "file_extension": ".py",
   "mimetype": "text/x-python",
   "name": "python",
   "nbconvert_exporter": "python",
   "pygments_lexer": "ipython3",
   "version": "3.8.19"
  }
 },
 "nbformat": 4,
 "nbformat_minor": 2
}
