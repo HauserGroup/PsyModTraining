{
 "cells": [
  {
   "cell_type": "markdown",
   "metadata": {},
   "source": [
    "# Group selfie"
   ]
  },
  {
   "cell_type": "code",
   "execution_count": 2,
   "metadata": {},
   "outputs": [],
   "source": [
    "import pandas as pd\n",
    "import random\n",
    "import numpy as np\n",
    "\n",
    "random.seed(42)"
   ]
  },
  {
   "cell_type": "code",
   "execution_count": 3,
   "metadata": {},
   "outputs": [],
   "source": [
    "from rdkit import Chem\n",
    "from rdkit.Chem import AllChem\n",
    "from group_selfies import (\n",
    "    fragment_mols,\n",
    "    Group,\n",
    "    MolecularGraph,\n",
    "    GroupGrammar,\n",
    "    group_encoder,\n",
    ")\n",
    "\n",
    "from rdkit.Chem.Draw import IPythonConsole\n",
    "\n",
    "from IPython.display import display\n",
    "from test_utils import *\n",
    "from rdkit import RDLogger\n",
    "\n",
    "RDLogger.DisableLog(\"rdApp.*\")\n"
   ]
  },
  {
   "cell_type": "markdown",
   "metadata": {},
   "source": [
    "# Input data"
   ]
  },
  {
   "cell_type": "markdown",
   "metadata": {},
   "source": [
    "## Extract data from PsychLight file"
   ]
  },
  {
   "cell_type": "code",
   "execution_count": 4,
   "metadata": {},
   "outputs": [
    {
     "name": "stdout",
     "output_type": "stream",
     "text": [
      "   Class  Known         ID                                             SMILES\n",
      "0      1  known       5-HT                         CN(C)CCc1c[nH]c2ccc(O)cc12\n",
      "1      1  known        DMT                            CN(C)CCc1c[nH]c2ccccc12\n",
      "2      1  known  25CN-NBOH                   COc1cc(CCNCc2ccccc2O)c(OC)cc1C#N\n",
      "3      1  known        LSD  CCN(CC)C(=O)[C@@H]1C=C2c3cccc4[nH]cc(c34)C[C@H...\n",
      "4      1  known  N-Me-5-HT                            CNCCc1c[nH]c2ccc(O)cc12\n"
     ]
    }
   ],
   "source": [
    "# import data from PsychLight\n",
    "PsychLight_data = pd.read_csv(\n",
    "    \"https://raw.githubusercontent.com/HauserGroup/PsyModTraining/refs/heads/main/data/PsychLight/PsychLight_TrainingSet.csv\"\n",
    ")\n",
    "print(PsychLight_data.head())"
   ]
  },
  {
   "cell_type": "code",
   "execution_count": 5,
   "metadata": {},
   "outputs": [],
   "source": [
    "PsychLight_SMILES = PsychLight_data[\"SMILES\"]\n",
    "PsychLight_labels = PsychLight_data[\"Class\"]"
   ]
  },
  {
   "cell_type": "markdown",
   "metadata": {},
   "source": [
    "## Generate group selfie encoding"
   ]
  },
  {
   "cell_type": "markdown",
   "metadata": {},
   "source": [
    "### Generate fragments"
   ]
  },
  {
   "cell_type": "code",
   "execution_count": 6,
   "metadata": {},
   "outputs": [
    {
     "name": "stdout",
     "output_type": "stream",
     "text": [
      "['CN(C)CCc1c[nH]c2ccc(O)cc12', 'CN(C)CCc1c[nH]c2ccccc12', 'COc1cc(CCNCc2ccccc2O)c(OC)cc1C#N', 'CCN(CC)C(=O)[C@@H]1C=C2c3cccc4[nH]cc(c34)C[C@H]2N(C)C1', 'CNCCc1c[nH]c2ccc(O)cc12', 'NCCc1c[nH]c2ccccc12', 'CN(C)CCc1c[nH]c2ccc(O)cc12', 'CN(C)CCc1c[nH]c2cccc(O)c12', 'COc1ccc2[nH]cc(CCN(C)C)c2c1', 'CNCCc1c[nH]c2ccccc12', 'C[C@@H](N)Cc1ccc2c(c1)OCO2', 'COc1cc(CC(C)N)c(OC)cc1I', 'CC[C@H]1C[C@@H]2C[C@H]3c4[nH]c5ccc(O)cc5c4CCN(C2)[C@@H]13', 'CC[C@H]1C[C@@H]2C[C@H]3c4[nH]c5ccc(OC)cc5c4CCN(C2)[C@@H]13', 'COc1cc(CCN)c(OC)cc1I', 'CN(C)CCc1c[nH]c2cccc(OP(=O)(O)O)c12', 'CN(C)CCc1c[nH]c2ccc(F)cc12', 'CN(C)CCc1c[nH]c2ccc(Cl)cc12', 'COc1ccc2c(ccn2C[C@@H](C)N(C)C)c1', 'CN(C)CCc1c[nH]c2ccc(Cn3cncn3)cc12', 'CCCN[C@H]1CCc2nc(N)sc2C1', 'CC(=O)NCCc1c[nH]c2ccc(O)cc12', 'c1ccc(C2(N3CCCCC3)CCCCC2)cc1', 'COc1ccc2[nH]cc(CCNC(C)=O)c2c1', 'C#CCN[C@@H]1CCc2ccc(OC(=O)N(C)CC)cc21', 'CCCN(CCC)C1CCc2cccc(O)c2C1', 'C[C@H](N)Cc1ccccc1', 'C[C@H](N)Cc1ccc2c(c1)OCO2', 'C[C@@H](N)Cc1ccccc1', 'O=C(O)Cc1c[nH]c2ccccc12', 'CNC1(c2ccccc2Cl)CCCCC1=O', 'COC(=O)[C@@H]1C[C@H](OC(C)=O)C(=O)[C@H]2[C@@]1(C)CC[C@H]1C(=O)O[C@H](c3ccoc3)C[C@]21C', 'CN[C@@H](C)Cc1ccccc1', 'CN1CC[C@]23c4c5ccc(O)c4O[C@H]2[C@@H](O)C=C[C@H]3[C@H]1C5', 'CN[C@@H](C)Cc1ccc2c(c1)OCO2', 'CN[C@H](C)Cc1ccc2c(c1)OCO2', 'COC(=O)[C@H]1[C@@H](OC(=O)c2ccccc2)C[C@@H]2CC[C@H]1N2C', 'COC(=O)C(c1ccccc1)C1CCCCN1', 'C#CCN(C)[C@H](C)Cc1ccccc1', 'NC(=O)CS(=O)C(c1ccccc1)c1ccccc1', 'COc1ccc2c(CCN(C)C)c[nH]c2c1', 'CCN(CC)CCc1c[nH]c2cc(F)ccc12', 'O=C1CCc2ccc(OCCCCN3CCN(c4cccc(Cl)c4Cl)CC3)cc2N1', 'CN1CCc2cccc3c2[C@H]1Cc1ccc(O)c(O)c1-3', 'CCN(CC)C(=O)N[C@H]1C=C2c3cccc4[nH]cc(c34)C[C@H]2N(C)C1', 'O=C(CCCN1CCC(O)(c2ccc(Cl)cc2)CC1)c1ccc(F)cc1', 'CN(C)CCCN1c2ccccc2CCc2ccccc21', 'CN1CCN(C2=Nc3cc(Cl)ccc3Nc3ccccc32)CC1', 'CN1C2CCC1CC(OC(c1ccccc1)c1ccccc1)C2', 'O=C(c1ccc(F)cc1)C1CCN(CCn2c(=O)[nH]c3ccccc3c2=O)CC1', 'COc1cccc([C@H](O)C2CCN(CCc3ccc(F)cc3)CC2)c1OC', 'CNCCC(Oc1ccc(C(F)(F)F)cc1)c1ccccc1', 'COc1ccc2c3c([nH]c2c1)CCN(C)CC3', 'CN(C)CCc1c[nH]c2ccc(Br)cc12']\n"
     ]
    }
   ],
   "source": [
    "# data preparation for fragmenting\n",
    "PsychLight_SMILES_list = PsychLight_SMILES.tolist()\n",
    "print(PsychLight_SMILES_list)"
   ]
  },
  {
   "cell_type": "code",
   "execution_count": 7,
   "metadata": {},
   "outputs": [
    {
     "name": "stderr",
     "output_type": "stream",
     "text": [
      "100%|██████████| 54/54 [00:00<00:00, 642.39it/s]\n"
     ]
    }
   ],
   "source": [
    "from group_selfies import fragment_mols\n",
    "from rdkit import Chem\n",
    "\n",
    "# get smiles list from PsychLight data\n",
    "molecules = [Chem.MolFromSmiles(smiles) for smiles in PsychLight_SMILES_list]\n",
    "\n",
    "# extracting a set of reasonable groups using fragmentation\n",
    "fragments = fragment_mols(molecules)\n",
    "\n",
    "# create a dictionary of fragments for tracking\n",
    "vocab_fragment = dict(\n",
    "    [(f\"frag{idx}\", Group(f\"frag{idx}\", frag)) for idx, frag in enumerate(fragments)]\n",
    ") "
   ]
  },
  {
   "cell_type": "code",
   "execution_count": 8,
   "metadata": {},
   "outputs": [],
   "source": [
    "# create a GroupGrammar object using the predefined fragment vocabulary\n",
    "grammar_auto = GroupGrammar(vocab=vocab_fragment)"
   ]
  },
  {
   "cell_type": "code",
   "execution_count": 9,
   "metadata": {},
   "outputs": [
    {
     "data": {
      "image/png": "[encoded data removed]",
      "text/plain": [
       "<rdkit.Chem.rdchem.Mol at 0x7fbf98750510>"
      ]
     },
     "metadata": {},
     "output_type": "display_data"
    }
   ],
   "source": [
    "test = Chem.MolFromSmiles(random.choice(PsychLight_SMILES_list))\n",
    "display(test)\n"
   ]
  },
  {
   "cell_type": "markdown",
   "metadata": {},
   "source": [
    "### Group selfie encoding "
   ]
  },
  {
   "cell_type": "code",
   "execution_count": 10,
   "metadata": {},
   "outputs": [
    {
     "data": {
      "image/png": "[encoded data removed]",
      "text/plain": [
       "<rdkit.Chem.rdchem.Mol at 0x7fbf987505f0>"
      ]
     },
     "metadata": {},
     "output_type": "display_data"
    },
    {
     "name": "stdout",
     "output_type": "stream",
     "text": [
      "[:0frag0][C][:2frag1][Branch][O][pop][pop]\n",
      "['[:0frag0][C][:2frag1][Branch][O][pop][pop]', '[:0frag0][C][:2frag1][pop]', '[C][O][C][=C][C][Branch][C][C][N][C][C][=C][C][=C][C][=C][Branch][O][pop][Ring1][=Branch][pop][=C][Branch][O][C][pop][C][=C][Branch][C][#N][pop][Ring2][Ring1][=Branch]', '[C][C][N][Branch][C][C][pop][C][=Branch][=O][pop][CH1][C][=C][C][=C][C][=C][C][N][C][=C][Branch][C][Ring1][N][=Ring1][Branch][pop][C][CH1][Branch][N][Branch][C][pop][C][Ring2][Ring1][Ring2][pop][Ring1][#C]', '[C][N][C][C][:2frag1][Branch][O][pop]', '[N][C][C][:2frag1]', '[:0frag0][C][:2frag1][Branch][O][pop][pop]', '[:0frag0][C][:2frag1][Ring2][O][pop][pop]', '[C][O][:1frag1][Ring1][:0frag0][pop]', '[C][N][C][C][:2frag1]', '[C][CH1][Branch][N][pop][C][C][=C][C][=C][C][=Branch][=C][Ring1][=Branch][pop][O][C][O][Ring1][=Branch]', '[C][O][C][=C][C][Branch][C][C][Branch][C][pop][N][pop][=C][Branch][O][C][pop][C][=C][Branch][I][pop][Ring1][#C]', '[C][C][CH1][C][CH1][C][CH1][C][N][C][=C][C][=C][Branch][O][pop][C][=C][Branch][C][Branch][C][C][N][Branch][C][Ring2][Ring1][Ring2][pop][CH1][Ring2][Ring1][#Branch][Ring2][Ring1][Ring1][pop][=Ring1][=N][pop][Ring1][#Branch]', '[C][C][CH1][C][CH1][C][CH1][C][N][C][=C][C][=C][Branch][O][C][pop][C][=C][Branch][C][Branch][C][C][N][Branch][C][Ring2][Ring1][Branch][pop][CH1][Ring2][Ring1][O][Ring2][Ring1][Ring2][pop][=Ring1][=C][pop][Ring1][O]', '[C][O][C][=C][C][Branch][C][C][N][pop][=C][Branch][O][C][pop][C][=C][Branch][I][pop][Ring1][=C]', '[:0frag0][C][:2frag1][Ring2][O][P][=Branch][=O][pop][Branch][O][pop][O][pop][pop]', '[:0frag0][C][:2frag1][Branch][F][pop][pop]', '[:0frag0][C][:2frag1][Branch][Cl][pop][pop]', '[C][O][:1frag1][Ring2][C][CH1][Branch][C][pop][N][Branch][C][pop][C][pop]', '[:0frag0][C][:2frag1][Branch][C][N][C][=N][C][=N][Ring1][Branch][pop][pop]', '[C][C][C][N][CH1][C][C][C][N][=C][Branch][N][pop][S][C][Branch][C][Ring1][=N][pop][=Ring1][=Branch]', '[C][C][=Branch][=O][pop][N][C][C][:2frag1][Branch][O][pop]', '[:0frag3][Ring1][C][Branch][N][C][C][C][C][C][Ring1][=Branch][pop][C][C][C][C][C][Ring1][#C][pop]', '[C][O][:1frag1][Ring1][C][C][N][C][Branch][C][pop][=O][pop]', '[C][#C][C][N][CH1][C][C][C][=C][C][=C][Branch][O][C][=Branch][=O][pop][N][Branch][C][pop][C][C][pop][C][=C][Ring2][Ring1][Ring1][Ring1][S]', '[C][C][C][N][Branch][C][C][C][pop][C][C][C][C][=C][C][=C][C][Branch][O][pop][=C][Branch][C][Ring1][=C][pop][Ring1][#Branch]', '[C][CH1][Branch][N][pop][C][:0frag3]', '[C][CH1][Branch][N][pop][C][C][=C][C][=C][C][=Branch][=C][Ring1][=Branch][pop][O][C][O][Ring1][=Branch]', '[C][CH1][Branch][N][pop][C][:0frag3]', '[O][=C][Branch][O][pop][C][:2frag1]', '[C][N][C][Branch][C][=C][C][=C][C][=C][Branch][Cl][pop][Ring1][=Branch][pop][C][C][C][C][C][=Branch][=O][pop][Ring1][S]', '[C][O][C][=Branch][=O][pop][CH1][C][CH1][Branch][O][C][Branch][C][pop][=O][pop][C][=Branch][=O][pop][CH1][C][Branch][C][pop][Branch][C][C][CH1][C][=Branch][=O][pop][O][CH1][Branch][C][C][=C][O][C][=Ring1][Branch][pop][C][C][Branch][C][pop][Ring1][#C][Ring2][Ring1][Ring2][pop][Ring1][=C]', '[C][N][CH1][Branch][C][pop][C][:0frag3]', '[C][N][C][C][C][C][=C][C][=C][C][Branch][O][pop][=C][Branch][O][CH1][Branch][CH1][Branch][O][pop][C][=C][CH1][Branch][CH1][Branch][C][Ring2][Ring1][C][pop][Ring2][Ring1][=Branch][pop][Ring2][Ring1][C][pop][Ring1][=N][pop][Ring1][#Branch]', '[C][N][CH1][Branch][C][pop][C][C][=C][C][=C][C][=Branch][=C][Ring1][=Branch][pop][O][C][O][Ring1][=Branch]', '[C][N][CH1][Branch][C][pop][C][C][=C][C][=C][C][=Branch][=C][Ring1][=Branch][pop][O][C][O][Ring1][=Branch]', '[C][O][C][=Branch][=O][pop][CH1][CH1][Branch][O][C][=Branch][=O][pop][:0frag3][pop][C][CH1][C][C][CH1][Branch][N][Branch][C][pop][Ring1][Branch][pop][Ring1][#C]', '[C][O][C][=Branch][=O][pop][C][Branch][:0frag3][pop][C][C][C][C][C][N][Ring1][=Branch]', '[C][#C][C][N][Branch][C][pop][CH1][Branch][C][pop][C][:0frag3]', '[N][C][=Branch][=O][pop][C][S][=Branch][=O][pop][C][Branch][:0frag3][pop][:0frag3]', '[C][O][:2frag2][Ring1][:0frag0][pop]', '[C][C][N][Branch][C][C][pop][C][C][:0frag2][Ring2][F][pop]', '[O][=C][C][C][C][=C][C][=C][Branch][O][C][C][C][C][N][C][C][N][Branch][C][=C][C][=C][C][Branch][Cl][pop][=C][Branch][Cl][pop][Ring1][#Branch][pop][C][C][Ring1][P][pop][C][=C][Branch][N][Ring2][Ring2][Ring1][pop][Ring2][Ring1][#C]', '[C][N][C][C][C][=C][C][=C][C][=C][Branch][CH1][Branch][C][C][=C][C][=C][Branch][O][pop][C][Branch][O][pop][=C][Ring1][O][Ring1][#C][pop][Ring1][=N][pop][Ring1][=Branch]', '[C][C][N][Branch][C][C][pop][C][=Branch][=O][pop][N][CH1][C][=C][C][=C][C][=C][C][N][C][=C][Branch][C][Ring1][N][=Ring1][Branch][pop][C][CH1][Branch][N][Branch][C][pop][C][Ring2][Ring1][Ring2][pop][Ring1][#C]', '[O][=C][Branch][C][C][C][N][C][C][C][Branch][O][pop][Branch][:0frag3][Ring1][Cl][pop][pop][C][C][Ring1][=N][pop][:0frag3][Ring1][F][pop]', '[:0frag0][C][C][N][C][=C][C][=C][C][=C][Branch][C][C][C][=C][C][=C][C][=C][Ring2][Ring1][C][Ring1][=Branch][pop][Ring1][=Branch][pop]', '[C][N][C][C][N][Branch][C][=N][C][=C][C][Branch][Cl][pop][=C][C][=C][Branch][N][C][=C][C][=C][C][=C][Ring2][Ring1][Ring1][Ring1][=Branch][pop][Ring1][#Branch][pop][C][C][Ring2][Ring1][N]', '[C][N][C][C][C][C][Branch][C][C][Branch][O][C][Branch][:0frag3][pop][:0frag3][pop][C][Ring1][S][pop][Ring1][Branch]', '[O][=C][Branch][:0frag3][Ring1][F][pop][pop][C][C][C][N][Branch][C][C][N][C][=Branch][=O][pop][N][C][=C][C][=C][C][=C][Branch][C][=Branch][=O][pop][Ring1][=C][pop][Ring1][=Branch][pop][C][C][Ring2][Ring1][#Branch]', '[C][O][C][=C][C][=C][C][Branch][CH1][Branch][O][pop][C][C][C][N][Branch][C][C][:0frag3][Ring1][F][pop][pop][C][C][Ring1][=C][pop][=C][Branch][O][C][pop][Ring2][Ring1][=Branch]', '[C][N][C][C][C][Branch][O][:0frag3][Ring1][C][Branch][F][pop][Branch][F][pop][F][pop][pop][:0frag3]', '[C][O][C][=C][C][=C][C][=C][Branch][N][C][=Branch][=C][Ring1][N][pop][Ring1][Branch][pop][C][C][N][Branch][C][pop][C][C][Ring1][=C]', '[:0frag0][C][:2frag1][Branch][Br][pop][pop]']\n"
     ]
    }
   ],
   "source": [
    "encode_input = [Chem.MolFromSmiles(smiles) for smiles in PsychLight_SMILES_list]\n",
    "display(encode_input[0])\n",
    "print(grammar_auto.full_encoder(encode_input[0]))\n",
    "group_selfies = []\n",
    "\n",
    "\n",
    "for smiles in encode_input:\n",
    "    encode_mol = grammar_auto.full_encoder(smiles)\n",
    "    group_selfies.append(encode_mol)\n",
    "    \n",
    "print(group_selfies)"
   ]
  },
  {
   "cell_type": "markdown",
   "metadata": {},
   "source": [
    "### One-hot encode group selfies"
   ]
  },
  {
   "cell_type": "code",
   "execution_count": 11,
   "metadata": {},
   "outputs": [
    {
     "name": "stdout",
     "output_type": "stream",
     "text": [
      "{'#Branch': 0, '#C': 1, '#N': 2, ':0frag0': 3, ':0frag2': 4, ':0frag3': 5, ':1frag1': 6, ':2frag1': 7, ':2frag2': 8, '=Branch': 9, '=C': 10, '=N': 11, '=O': 12, '=Ring1': 13, 'Br': 14, 'Branch': 15, 'C': 16, 'CH1': 17, 'Cl': 18, 'F': 19, 'I': 20, 'N': 21, 'O': 22, 'P': 23, 'Ring1': 24, 'Ring2': 25, 'S': 26, 'pop': 27}\n"
     ]
    }
   ],
   "source": [
    "# Tokenize the strings into individual tokens\n",
    "tokens = set(token for smile in group_selfies for token in smile.split(\"][\"))\n",
    "tokens = {t.strip(\"[]\") for t in tokens}  # Clean up brackets\n",
    "\n",
    "# Assign indices to each token to build a vocabulary\n",
    "vocab_token = {token: idx for idx, token in enumerate(sorted(tokens))}\n",
    "print(vocab_token)"
   ]
  },
  {
   "cell_type": "code",
   "execution_count": 12,
   "metadata": {},
   "outputs": [
    {
     "name": "stdout",
     "output_type": "stream",
     "text": [
      "[[3, 16, 7, 15, 22, 27, 27], [3, 16, 7, 27], [16, 22, 16, 10, 16, 15, 16, 16, 21, 16, 16, 10, 16, 10, 16, 10, 15, 22, 27, 24, 9, 27, 10, 15, 22, 16, 27, 16, 10, 15, 16, 2, 27, 25, 24, 9], [16, 16, 21, 15, 16, 16, 27, 16, 9, 12, 27, 17, 16, 10, 16, 10, 16, 10, 16, 21, 16, 10, 15, 16, 24, 21, 13, 15, 27, 16, 17, 15, 21, 15, 16, 27, 16, 25, 24, 25, 27, 24, 1], [16, 21, 16, 16, 7, 15, 22, 27], [21, 16, 16, 7], [3, 16, 7, 15, 22, 27, 27], [3, 16, 7, 25, 22, 27, 27], [16, 22, 6, 24, 3, 27], [16, 21, 16, 16, 7], [16, 17, 15, 21, 27, 16, 16, 10, 16, 10, 16, 9, 10, 24, 9, 27, 22, 16, 22, 24, 9], [16, 22, 16, 10, 16, 15, 16, 16, 15, 16, 27, 21, 27, 10, 15, 22, 16, 27, 16, 10, 15, 20, 27, 24, 1], [16, 16, 17, 16, 17, 16, 17, 16, 21, 16, 10, 16, 10, 15, 22, 27, 16, 10, 15, 16, 15, 16, 16, 21, 15, 16, 25, 24, 25, 27, 17, 25, 24, 0, 25, 24, 24, 27, 13, 11, 27, 24, 0], [16, 16, 17, 16, 17, 16, 17, 16, 21, 16, 10, 16, 10, 15, 22, 16, 27, 16, 10, 15, 16, 15, 16, 16, 21, 15, 16, 25, 24, 15, 27, 17, 25, 24, 22, 25, 24, 25, 27, 13, 10, 27, 24, 22], [16, 22, 16, 10, 16, 15, 16, 16, 21, 27, 10, 15, 22, 16, 27, 16, 10, 15, 20, 27, 24, 10], [3, 16, 7, 25, 22, 23, 9, 12, 27, 15, 22, 27, 22, 27, 27], [3, 16, 7, 15, 19, 27, 27], [3, 16, 7, 15, 18, 27, 27], [16, 22, 6, 25, 16, 17, 15, 16, 27, 21, 15, 16, 27, 16, 27], [3, 16, 7, 15, 16, 21, 16, 11, 16, 11, 24, 15, 27, 27], [16, 16, 16, 21, 17, 16, 16, 16, 21, 10, 15, 21, 27, 26, 16, 15, 16, 24, 11, 27, 13, 9], [16, 16, 9, 12, 27, 21, 16, 16, 7, 15, 22, 27], [5, 24, 16, 15, 21, 16, 16, 16, 16, 16, 24, 9, 27, 16, 16, 16, 16, 16, 24, 1, 27], [16, 22, 6, 24, 16, 16, 21, 16, 15, 16, 27, 12, 27], [16, 1, 16, 21, 17, 16, 16, 16, 10, 16, 10, 15, 22, 16, 9, 12, 27, 21, 15, 16, 27, 16, 16, 27, 16, 10, 25, 24, 24, 24, 26], [16, 16, 16, 21, 15, 16, 16, 16, 27, 16, 16, 16, 16, 10, 16, 10, 16, 15, 22, 27, 10, 15, 16, 24, 10, 27, 24, 0], [16, 17, 15, 21, 27, 16, 5], [16, 17, 15, 21, 27, 16, 16, 10, 16, 10, 16, 9, 10, 24, 9, 27, 22, 16, 22, 24, 9], [16, 17, 15, 21, 27, 16, 5], [22, 10, 15, 22, 27, 16, 7], [16, 21, 16, 15, 16, 10, 16, 10, 16, 10, 15, 18, 27, 24, 9, 27, 16, 16, 16, 16, 16, 9, 12, 27, 24, 26], [16, 22, 16, 9, 12, 27, 17, 16, 17, 15, 22, 16, 15, 16, 27, 12, 27, 16, 9, 12, 27, 17, 16, 15, 16, 27, 15, 16, 16, 17, 16, 9, 12, 27, 22, 17, 15, 16, 16, 10, 22, 16, 13, 15, 27, 16, 16, 15, 16, 27, 24, 1, 25, 24, 25, 27, 24, 10], [16, 21, 17, 15, 16, 27, 16, 5], [16, 21, 16, 16, 16, 16, 10, 16, 10, 16, 15, 22, 27, 10, 15, 22, 17, 15, 17, 15, 22, 27, 16, 10, 17, 15, 17, 15, 16, 25, 24, 16, 27, 25, 24, 9, 27, 25, 24, 16, 27, 24, 11, 27, 24, 0], [16, 21, 17, 15, 16, 27, 16, 16, 10, 16, 10, 16, 9, 10, 24, 9, 27, 22, 16, 22, 24, 9], [16, 21, 17, 15, 16, 27, 16, 16, 10, 16, 10, 16, 9, 10, 24, 9, 27, 22, 16, 22, 24, 9], [16, 22, 16, 9, 12, 27, 17, 17, 15, 22, 16, 9, 12, 27, 5, 27, 16, 17, 16, 16, 17, 15, 21, 15, 16, 27, 24, 15, 27, 24, 1], [16, 22, 16, 9, 12, 27, 16, 15, 5, 27, 16, 16, 16, 16, 16, 21, 24, 9], [16, 1, 16, 21, 15, 16, 27, 17, 15, 16, 27, 16, 5], [21, 16, 9, 12, 27, 16, 26, 9, 12, 27, 16, 15, 5, 27, 5], [16, 22, 8, 24, 3, 27], [16, 16, 21, 15, 16, 16, 27, 16, 16, 4, 25, 19, 27], [22, 10, 16, 16, 16, 10, 16, 10, 15, 22, 16, 16, 16, 16, 21, 16, 16, 21, 15, 16, 10, 16, 10, 16, 15, 18, 27, 10, 15, 18, 27, 24, 0, 27, 16, 16, 24, 23, 27, 16, 10, 15, 21, 25, 25, 24, 27, 25, 24, 1], [16, 21, 16, 16, 16, 10, 16, 10, 16, 10, 15, 17, 15, 16, 16, 10, 16, 10, 15, 22, 27, 16, 15, 22, 27, 10, 24, 22, 24, 1, 27, 24, 11, 27, 24, 9], [16, 16, 21, 15, 16, 16, 27, 16, 9, 12, 27, 21, 17, 16, 10, 16, 10, 16, 10, 16, 21, 16, 10, 15, 16, 24, 21, 13, 15, 27, 16, 17, 15, 21, 15, 16, 27, 16, 25, 24, 25, 27, 24, 1], [22, 10, 15, 16, 16, 16, 21, 16, 16, 16, 15, 22, 27, 15, 5, 24, 18, 27, 27, 16, 16, 24, 11, 27, 5, 24, 19, 27], [3, 16, 16, 21, 16, 10, 16, 10, 16, 10, 15, 16, 16, 16, 10, 16, 10, 16, 10, 25, 24, 16, 24, 9, 27, 24, 9, 27], [16, 21, 16, 16, 21, 15, 16, 11, 16, 10, 16, 15, 18, 27, 10, 16, 10, 15, 21, 16, 10, 16, 10, 16, 10, 25, 24, 24, 24, 9, 27, 24, 0, 27, 16, 16, 25, 24, 21], [16, 21, 16, 16, 16, 16, 15, 16, 16, 15, 22, 16, 15, 5, 27, 5, 27, 16, 24, 26, 27, 24, 15], [22, 10, 15, 5, 24, 19, 27, 27, 16, 16, 16, 21, 15, 16, 16, 21, 16, 9, 12, 27, 21, 16, 10, 16, 10, 16, 10, 15, 16, 9, 12, 27, 24, 10, 27, 24, 9, 27, 16, 16, 25, 24, 0], [16, 22, 16, 10, 16, 10, 16, 15, 17, 15, 22, 27, 16, 16, 16, 21, 15, 16, 16, 5, 24, 19, 27, 27, 16, 16, 24, 10, 27, 10, 15, 22, 16, 27, 25, 24, 9], [16, 21, 16, 16, 16, 15, 22, 5, 24, 16, 15, 19, 27, 15, 19, 27, 19, 27, 27, 5], [16, 22, 16, 10, 16, 10, 16, 10, 15, 21, 16, 9, 10, 24, 21, 27, 24, 15, 27, 16, 16, 21, 15, 16, 27, 16, 16, 24, 10], [3, 16, 7, 15, 14, 27, 27]]\n"
     ]
    }
   ],
   "source": [
    "# Convert each string into a list of token indices\n",
    "encoded_data = []\n",
    "for smile in group_selfies:\n",
    "    token_indices = [vocab_token[token.strip(\"[]\")] for token in smile.split(\"][\")]\n",
    "    encoded_data.append(token_indices)\n",
    "print(encoded_data)"
   ]
  },
  {
   "cell_type": "code",
   "execution_count": null,
   "metadata": {},
   "outputs": [
    {
     "name": "stdout",
     "output_type": "stream",
     "text": [
      "54\n"
     ]
    },
    {
     "ename": "",
     "evalue": "",
     "output_type": "error",
     "traceback": [
      "\u001b[1;31mThe Kernel crashed while executing code in the current cell or a previous cell. \n",
      "\u001b[1;31mPlease review the code in the cell(s) to identify a possible cause of the failure. \n",
      "\u001b[1;31mClick <a href='https://aka.ms/vscodeJupyterKernelCrash'>here</a> for more info. \n",
      "\u001b[1;31mView Jupyter <a href='command:jupyter.viewOutput'>log</a> for further details."
     ]
    }
   ],
   "source": [
    "# Vocabulary size\n",
    "vocab_size = len(vocab_token)\n",
    "\n",
    "# Convert token indices to one-hot encoding\n",
    "one_hot_data = []\n",
    "for token_indices in encoded_data:\n",
    "    one_hot_sequence = np.zeros((len(token_indices), vocab_size))\n",
    "    for i, index in enumerate(token_indices):\n",
    "        one_hot_sequence[i, index] = 1\n",
    "    one_hot_data.append(one_hot_sequence)\n",
    "\n",
    "print(len(one_hot_data))"
   ]
  },
  {
   "cell_type": "code",
   "execution_count": null,
   "metadata": {},
   "outputs": [],
   "source": [
    "from tensorflow.keras.preprocessing.sequence import pad_sequences\n",
    "\n",
    "# Pad the one-hot encoded sequences to a fixed length\n",
    "padded_one_hot_data = pad_sequences(\n",
    "    [sequence.tolist() for sequence in one_hot_data],\n",
    "    maxlen=max(len(seq) for seq in one_hot_data),\n",
    "    dtype=\"float32\",\n",
    "    padding=\"post\",\n",
    ")\n"
   ]
  }
 ],
 "metadata": {
  "kernelspec": {
   "display_name": "Project1",
   "language": "python",
   "name": "python3"
  },
  "language_info": {
   "codemirror_mode": {
    "name": "ipython",
    "version": 3
   },
   "file_extension": ".py",
   "mimetype": "text/x-python",
   "name": "python",
   "nbconvert_exporter": "python",
   "pygments_lexer": "ipython3",
   "version": "3.8.19"
  }
 },
 "nbformat": 4,
 "nbformat_minor": 2
}
