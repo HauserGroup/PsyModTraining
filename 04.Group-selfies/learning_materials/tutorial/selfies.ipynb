{
 "cells": [
  {
   "cell_type": "code",
   "execution_count": 1,
   "metadata": {},
   "outputs": [],
   "source": [
    "import selfies as sf"
   ]
  },
  {
   "cell_type": "code",
   "execution_count": 6,
   "metadata": {},
   "outputs": [],
   "source": [
    "original_smiles = (\n",
    "    \"CC1=CC=C(C=C1)C2=CC(=NN2C3=CC=C(C=C3)S(=O)(=O)N)C(F)(F)F\"  # benzaldehyde\n",
    ")  # benzaldehyde\n",
    "\n",
    "try:\n",
    "    encoded_selfies = sf.encoder(original_smiles)  # SMILES  -> SELFIES\n",
    "    decoded_smiles = sf.decoder(encoded_selfies)  # SELFIES -> SMILES\n",
    "\n",
    "except sf.EncoderError as err:\n",
    "    pass  # sf.encoder error...\n",
    "except sf.DecoderError as err:\n",
    "    pass  # sf.decoder error...\n"
   ]
  },
  {
   "cell_type": "code",
   "execution_count": 8,
   "metadata": {},
   "outputs": [
    {
     "data": {
      "text/plain": [
       "'CC1=CC=C(C=C1)C2=CC(=NN2C3=CC=C(C=C3)S(=O)(=O)N)C(F)(F)F'"
      ]
     },
     "execution_count": 8,
     "metadata": {},
     "output_type": "execute_result"
    }
   ],
   "source": [
    "encoded_selfies\n",
    "decoded_smiles\n"
   ]
  }
 ],
 "metadata": {
  "kernelspec": {
   "display_name": "Project1",
   "language": "python",
   "name": "python3"
  },
  "language_info": {
   "codemirror_mode": {
    "name": "ipython",
    "version": 3
   },
   "file_extension": ".py",
   "mimetype": "text/x-python",
   "name": "python",
   "nbconvert_exporter": "python",
   "pygments_lexer": "ipython3",
   "version": "3.8.12"
  }
 },
 "nbformat": 4,
 "nbformat_minor": 2
}
