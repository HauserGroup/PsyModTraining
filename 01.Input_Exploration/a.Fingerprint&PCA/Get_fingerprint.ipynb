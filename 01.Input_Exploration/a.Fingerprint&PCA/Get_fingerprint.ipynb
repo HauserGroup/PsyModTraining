{
 "cells": [
  {
   "cell_type": "code",
   "execution_count": 2,
   "metadata": {},
   "outputs": [],
   "source": [
    "import pandas as pd\n",
    "from rdkit import Chem\n",
    "from rdkit.Chem import AllChem, rdFingerprintGenerator, MACCSkeys\n",
    "import numpy as np"
   ]
  },
  {
   "cell_type": "markdown",
   "metadata": {},
   "source": [
    "# Generate fingerprints"
   ]
  },
  {
   "cell_type": "markdown",
   "metadata": {},
   "source": [
    "## Get fingerprints"
   ]
  },
  {
   "cell_type": "markdown",
   "metadata": {},
   "source": [
    "input: SMILES\n",
    "\n",
    "output: different fingerprints arrays\n",
    "\n",
    "modification: the types of fingerprints"
   ]
  },
  {
   "cell_type": "code",
   "execution_count": 3,
   "metadata": {},
   "outputs": [],
   "source": [
    "# Function to get fingerprints for different fingerprints\n",
    "def get_all_fingerprints(smiles):\n",
    "    mol = Chem.MolFromSmiles(smiles)\n",
    "    \n",
    "    # Generate fingerprints and convert directly to NumPy arrays\n",
    "    fingerprints = {\n",
    "        'Morgan (ECFP)': np.array(AllChem.GetMorganFingerprintAsBitVect(mol, radius=2, nBits=2048), dtype=int),  # Morgan fingerprint (ECFP)\n",
    "        'FCFP': np.array(AllChem.GetMorganFingerprintAsBitVect(mol, radius=2, nBits=2048, useFeatures=True), dtype=int),  # FCFP\n",
    "        'RDKit': np.array(rdFingerprintGenerator.GetRDKitFPGenerator(fpSize=2048).GetFingerprint(mol), dtype=int),  # RDKit\n",
    "        'Atom Pair': np.array(rdFingerprintGenerator.GetAtomPairGenerator(fpSize=2048).GetFingerprint(mol), dtype=int),  # Atom Pair\n",
    "        'Topological Torsion': np.array(rdFingerprintGenerator.GetTopologicalTorsionGenerator(fpSize=2048).GetFingerprint(mol), dtype=int),  # Topological Torsion\n",
    "        'MACCS': np.array(MACCSkeys.GenMACCSKeys(mol), dtype=int),  # MACCS is 167 bits long\n",
    "        'ALL': np.hstack([\n",
    "            np.array(AllChem.GetMorganFingerprintAsBitVect(mol, radius=2, nBits=2048), dtype=int),\n",
    "            np.array(AllChem.GetMorganFingerprintAsBitVect(mol, radius=2, nBits=2048, useFeatures=True), dtype=int),\n",
    "            np.array(rdFingerprintGenerator.GetRDKitFPGenerator(fpSize=2048).GetFingerprint(mol), dtype=int),\n",
    "            np.array(rdFingerprintGenerator.GetAtomPairGenerator(fpSize=2048).GetFingerprint(mol), dtype=int),\n",
    "            np.array(rdFingerprintGenerator.GetTopologicalTorsionGenerator(fpSize=2048).GetFingerprint(mol), dtype=int),\n",
    "            np.array(MACCSkeys.GenMACCSKeys(mol), dtype=int)\n",
    "        ])\n",
    "    }\n",
    "    \n",
    "    return fingerprints\n"
   ]
  },
  {
   "cell_type": "markdown",
   "metadata": {},
   "source": [
    "## Generate fingerprint Matrix"
   ]
  },
  {
   "cell_type": "markdown",
   "metadata": {},
   "source": [
    "input: input file containing molecular Names, SMILES, Categories\n",
    "\n",
    "output: dataframe with specific type of fingerprints, molecular Names, Categories\n",
    "\n",
    "function: get specific fingerprints using get_all_fingerprints(smiles) and make it able to perform PCA, like adding the name and categories for plotting\n",
    "\n",
    "modification: Add 'Category' and 'Name' columns can change to add other columns\n"
   ]
  },
  {
   "cell_type": "code",
   "execution_count": 5,
   "metadata": {},
   "outputs": [],
   "source": [
    "# Example function to extract one specific fingerprint (e.g., Morgan (ECFP)) from all SMILES in a DataFrame\n",
    "def extract_specific_fingerprint(chembl_df, fingerprint_func, target_fingerprint, smiles_column='SMILES'):\n",
    "    \"\"\"\n",
    "    Extract a specific fingerprint from the SMILES column in a DataFrame.\n",
    "\n",
    "    Parameters:\n",
    "    - chembl_df: DataFrame containing the 'SMILES', 'Name', and 'Category' columns.\n",
    "    - fingerprint_func: Function that takes a SMILES string and returns a dictionary of fingerprints.\n",
    "    - target_fingerprint: The name of the fingerprint to extract (e.g., 'Morgan (ECFP)').\n",
    "    - smiles_column: The column name for SMILES strings in the DataFrame.\n",
    "\n",
    "    Returns:\n",
    "    - fingerprint_df: DataFrame containing the specified fingerprint along with 'Name' and 'Category'.\n",
    "    \"\"\"\n",
    "    # Extract the SMILES column\n",
    "    smiles_list = chembl_df[smiles_column].tolist()\n",
    "    fingerprints = [fingerprint_func(smiles)[target_fingerprint] for smiles in smiles_list]\n",
    "    \n",
    "    fingerprint_df = pd.DataFrame(fingerprints)\n",
    "    \n",
    "\n",
    "    # Collect the specific fingerprint for all molecules\n",
    "    # fingerprint_df['Category'] = chembl_df['Category'].values\n",
    "    fingerprint_df['Name'] = chembl_df['Name'].values\n",
    "    \n",
    "    # Move the 'Name' column to the first position\n",
    "    fingerprint_df = fingerprint_df[['Name'] + [col for col in fingerprint_df.columns if col != 'Name']]\n",
    "\n",
    "    \n",
    "\n",
    "    # Display the first few rows of the fingerprint DataFrame\n",
    "    print(f\"\\n{target_fingerprint} Fingerprint DataFrame:\")\n",
    "    print(fingerprint_df.head())\n",
    "    return fingerprint_df\n"
   ]
  },
  {
   "cell_type": "markdown",
   "metadata": {},
   "source": [
    "# Run"
   ]
  },
  {
   "cell_type": "markdown",
   "metadata": {},
   "source": [
    "## Example"
   ]
  },
  {
   "cell_type": "code",
   "execution_count": 6,
   "metadata": {},
   "outputs": [],
   "source": [
    "chembl_example = pd.read_csv(\n",
    "    \"../data/ExperimentData/43_Psychedelic_drug_SMILES_Category.csv\"\n",
    "    # sep=\",\", header=0\n",
    ")\n",
    "# print(chembl_example.head())"
   ]
  },
  {
   "cell_type": "markdown",
   "metadata": {},
   "source": [
    "### For all"
   ]
  },
  {
   "cell_type": "code",
   "execution_count": 7,
   "metadata": {},
   "outputs": [
    {
     "name": "stdout",
     "output_type": "stream",
     "text": [
      "\n",
      "MACCS Fingerprint DataFrame:\n",
      "         Name  0  1  2  3  4  5  6  7  8  ...  157  158  159  160  161  162  \\\n",
      "0        5-HT  0  0  0  0  0  0  0  0  0  ...    1    1    1    0    1    1   \n",
      "1  4-AcO-MALT  0  0  0  0  0  0  0  0  0  ...    1    1    1    1    1    1   \n",
      "2   5-MeO-DMT  0  0  0  0  0  0  0  0  0  ...    1    1    0    1    1    1   \n",
      "3  5-MeO-DALT  0  0  0  0  0  0  0  0  0  ...    1    1    0    1    1    1   \n",
      "4  5-MeO-DiPT  0  0  0  0  0  0  0  0  0  ...    1    1    0    1    1    1   \n",
      "\n",
      "   163  164  165  166  \n",
      "0    1    1    1    0  \n",
      "1    1    1    1    0  \n",
      "2    1    1    1    0  \n",
      "3    1    1    1    0  \n",
      "4    1    1    1    0  \n",
      "\n",
      "[5 rows x 168 columns]\n"
     ]
    }
   ],
   "source": [
    "fingerprint_df = extract_specific_fingerprint(chembl_example, get_all_fingerprints, 'MACCS')\n",
    "fingerprint_df.to_csv('MACCS_fingerprints.csv', index=False)"
   ]
  },
  {
   "cell_type": "markdown",
   "metadata": {},
   "source": [
    "### For different combinations"
   ]
  },
  {
   "cell_type": "code",
   "execution_count": 8,
   "metadata": {},
   "outputs": [],
   "source": [
    "import itertools\n",
    "\n",
    "# List of all fingerprints\n",
    "fingerprint_all = ['Morgan (ECFP)', 'FCFP', 'RDKit', 'Atom Pair', 'Topological Torsion', 'MACCS']\n",
    "\n",
    "# Generate all possible subsets as a list of lists\n",
    "# all_subsets = [list(subset) for r in range(len(fingerprint_all) + 1) for subset in itertools.combinations(fingerprint_all, r)]\n",
    "\n",
    "# # Output all subsets\n",
    "# for subset in all_subsets:\n",
    "#     print(subset)\n",
    "\n",
    "# print(all_subsets)\n"
   ]
  },
  {
   "cell_type": "code",
   "execution_count": 9,
   "metadata": {},
   "outputs": [
    {
     "name": "stdout",
     "output_type": "stream",
     "text": [
      "\n",
      "Processing fingerprint combination: MACCS + RDKit\n",
      "\n",
      "MACCS Fingerprint DataFrame:\n",
      "         Name  0  1  2  3  4  5  6  7  8  ...  157  158  159  160  161  162  \\\n",
      "0        5-HT  0  0  0  0  0  0  0  0  0  ...    1    1    1    0    1    1   \n",
      "1  4-AcO-MALT  0  0  0  0  0  0  0  0  0  ...    1    1    1    1    1    1   \n",
      "2   5-MeO-DMT  0  0  0  0  0  0  0  0  0  ...    1    1    0    1    1    1   \n",
      "3  5-MeO-DALT  0  0  0  0  0  0  0  0  0  ...    1    1    0    1    1    1   \n",
      "4  5-MeO-DiPT  0  0  0  0  0  0  0  0  0  ...    1    1    0    1    1    1   \n",
      "\n",
      "   163  164  165  166  \n",
      "0    1    1    1    0  \n",
      "1    1    1    1    0  \n",
      "2    1    1    1    0  \n",
      "3    1    1    1    0  \n",
      "4    1    1    1    0  \n",
      "\n",
      "[5 rows x 168 columns]\n",
      "\n",
      "RDKit Fingerprint DataFrame:\n",
      "         Name  0  1  2  3  4  5  6  7  8  ...  2038  2039  2040  2041  2042  \\\n",
      "0        5-HT  1  0  0  0  0  1  1  0  1  ...     0     0     0     1     0   \n",
      "1  4-AcO-MALT  1  0  0  1  0  1  1  1  1  ...     1     0     0     1     0   \n",
      "2   5-MeO-DMT  1  0  0  0  0  1  1  1  1  ...     0     0     0     1     0   \n",
      "3  5-MeO-DALT  1  0  0  0  0  1  1  1  1  ...     0     0     0     1     0   \n",
      "4  5-MeO-DiPT  1  0  0  0  0  1  1  1  1  ...     0     0     0     1     0   \n",
      "\n",
      "   2043  2044  2045  2046  2047  \n",
      "0     0     0     0     0     1  \n",
      "1     0     0     0     0     1  \n",
      "2     0     0     0     0     1  \n",
      "3     0     0     0     0     1  \n",
      "4     0     0     0     0     1  \n",
      "\n",
      "[5 rows x 2049 columns]\n",
      "\n",
      "Processing fingerprint combination: RDKit\n",
      "\n",
      "RDKit Fingerprint DataFrame:\n",
      "         Name  0  1  2  3  4  5  6  7  8  ...  2038  2039  2040  2041  2042  \\\n",
      "0        5-HT  1  0  0  0  0  1  1  0  1  ...     0     0     0     1     0   \n",
      "1  4-AcO-MALT  1  0  0  1  0  1  1  1  1  ...     1     0     0     1     0   \n",
      "2   5-MeO-DMT  1  0  0  0  0  1  1  1  1  ...     0     0     0     1     0   \n",
      "3  5-MeO-DALT  1  0  0  0  0  1  1  1  1  ...     0     0     0     1     0   \n",
      "4  5-MeO-DiPT  1  0  0  0  0  1  1  1  1  ...     0     0     0     1     0   \n",
      "\n",
      "   2043  2044  2045  2046  2047  \n",
      "0     0     0     0     0     1  \n",
      "1     0     0     0     0     1  \n",
      "2     0     0     0     0     1  \n",
      "3     0     0     0     0     1  \n",
      "4     0     0     0     0     1  \n",
      "\n",
      "[5 rows x 2049 columns]\n",
      "\n",
      "Processing fingerprint combination: Morgan (ECFP)\n",
      "\n",
      "Morgan (ECFP) Fingerprint DataFrame:\n",
      "         Name  0  1  2  3  4  5  6  7  8  ...  2038  2039  2040  2041  2042  \\\n",
      "0        5-HT  0  1  0  0  0  0  0  0  0  ...     0     0     0     0     0   \n",
      "1  4-AcO-MALT  0  0  0  0  0  0  0  0  0  ...     0     0     0     0     0   \n",
      "2   5-MeO-DMT  0  0  0  0  0  0  0  0  0  ...     0     0     0     0     0   \n",
      "3  5-MeO-DALT  0  0  0  0  0  0  0  0  0  ...     0     0     0     0     0   \n",
      "4  5-MeO-DiPT  0  1  0  0  0  0  0  0  0  ...     0     0     0     0     0   \n",
      "\n",
      "   2043  2044  2045  2046  2047  \n",
      "0     0     0     0     0     0  \n",
      "1     0     0     0     0     0  \n",
      "2     0     0     0     0     0  \n",
      "3     0     0     0     0     0  \n",
      "4     0     0     0     0     0  \n",
      "\n",
      "[5 rows x 2049 columns]\n"
     ]
    }
   ],
   "source": [
    "all_subsets = [[],\n",
    "    # ['Morgan (ECFP)', 'MACCS'],\n",
    "    ['MACCS', 'RDKit'],\n",
    "    ['RDKit'],\n",
    "    ['Morgan (ECFP)'],\n",
    "    \n",
    "    # ['Atom Pair', 'Topological Torsion']\n",
    "]\n",
    "# fingerprint_all = ['Morgan (ECFP)', 'FCFP', 'RDKit', 'Atom Pair', 'Topological Torsion', 'MACCS']\n",
    "explained_variance_dict = {}\n",
    "\n",
    "for combinations in all_subsets[1:]:\n",
    "    combination_name = ' + '.join(combinations)\n",
    "    print(f\"\\nProcessing fingerprint combination: {combination_name}\")\n",
    "    \n",
    "    combined_fingerprints = []\n",
    "    for combination in combinations:\n",
    "        fingerprint_df = extract_specific_fingerprint(chembl_example, get_all_fingerprints, combination)\n",
    "        combined_fingerprints.append(fingerprint_df)\n",
    "    \n",
    "    # Combine fingerprints horizontally\n",
    "    # combined_df = pd.concat(combined_fingerprints, axis=1)\n",
    "    # combined_df['Name'] = chembl_example['Name']\n",
    "    # combined_df['Category'] = chembl_example['Category']\n",
    "    "
   ]
  }
 ],
 "metadata": {
  "kernelspec": {
   "display_name": "Project1",
   "language": "python",
   "name": "python3"
  },
  "language_info": {
   "codemirror_mode": {
    "name": "ipython",
    "version": 3
   },
   "file_extension": ".py",
   "mimetype": "text/x-python",
   "name": "python",
   "nbconvert_exporter": "python",
   "pygments_lexer": "ipython3",
   "version": "3.8.12"
  }
 },
 "nbformat": 4,
 "nbformat_minor": 2
}
